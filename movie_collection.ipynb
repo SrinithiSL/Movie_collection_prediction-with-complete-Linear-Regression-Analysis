{
  "cells": [
    {
      "cell_type": "markdown",
      "metadata": {
        "id": "j_zM615jfX59"
      },
      "source": [
        "##Importing libraries"
      ]
    },
    {
      "cell_type": "code",
      "execution_count": 2,
      "metadata": {
        "id": "_-yuk5GYYcpF"
      },
      "outputs": [],
      "source": [
        "import numpy as np\n",
        "import pandas as pd\n",
        "import matplotlib.pyplot as plt"
      ]
    },
    {
      "cell_type": "markdown",
      "metadata": {
        "id": "N64j1F9effGc"
      },
      "source": [
        "##Loading Datasets"
      ]
    },
    {
      "cell_type": "code",
      "execution_count": 4,
      "metadata": {
        "colab": {
          "base_uri": "https://localhost:8080/",
          "height": 505
        },
        "id": "ALKR1svRZwPr",
        "outputId": "d1fb765b-33fe-4921-df0a-7c35b0ca7a34"
      },
      "outputs": [
        {
          "data": {
            "text/html": [
              "<div>\n",
              "<style scoped>\n",
              "    .dataframe tbody tr th:only-of-type {\n",
              "        vertical-align: middle;\n",
              "    }\n",
              "\n",
              "    .dataframe tbody tr th {\n",
              "        vertical-align: top;\n",
              "    }\n",
              "\n",
              "    .dataframe thead th {\n",
              "        text-align: right;\n",
              "    }\n",
              "</style>\n",
              "<table border=\"1\" class=\"dataframe\">\n",
              "  <thead>\n",
              "    <tr style=\"text-align: right;\">\n",
              "      <th></th>\n",
              "      <th>Collection</th>\n",
              "      <th>Marketin_expense</th>\n",
              "      <th>Production_expense</th>\n",
              "      <th>Multiplex_coverage</th>\n",
              "      <th>Budget</th>\n",
              "      <th>Movie_length</th>\n",
              "      <th>Lead_ Actor_Rating</th>\n",
              "      <th>Lead_Actress_rating</th>\n",
              "      <th>Director_rating</th>\n",
              "      <th>Producer_rating</th>\n",
              "      <th>Critic_rating</th>\n",
              "      <th>Trailer_views</th>\n",
              "      <th>Time_taken</th>\n",
              "      <th>Twitter_hastags</th>\n",
              "      <th>Genre</th>\n",
              "      <th>Avg_age_actors</th>\n",
              "      <th>MPAA_film_rating</th>\n",
              "      <th>Num_multiplex</th>\n",
              "      <th>3D_available</th>\n",
              "    </tr>\n",
              "  </thead>\n",
              "  <tbody>\n",
              "    <tr>\n",
              "      <th>0</th>\n",
              "      <td>48000</td>\n",
              "      <td>20.1264</td>\n",
              "      <td>59.62</td>\n",
              "      <td>0.462</td>\n",
              "      <td>36524.125</td>\n",
              "      <td>138.7</td>\n",
              "      <td>7.825</td>\n",
              "      <td>8.095</td>\n",
              "      <td>7.910</td>\n",
              "      <td>7.995</td>\n",
              "      <td>7.94</td>\n",
              "      <td>527367</td>\n",
              "      <td>109.60</td>\n",
              "      <td>223.840</td>\n",
              "      <td>Thriller</td>\n",
              "      <td>23</td>\n",
              "      <td>PG</td>\n",
              "      <td>494</td>\n",
              "      <td>YES</td>\n",
              "    </tr>\n",
              "    <tr>\n",
              "      <th>1</th>\n",
              "      <td>43200</td>\n",
              "      <td>20.5462</td>\n",
              "      <td>69.14</td>\n",
              "      <td>0.531</td>\n",
              "      <td>35668.655</td>\n",
              "      <td>152.4</td>\n",
              "      <td>7.505</td>\n",
              "      <td>7.650</td>\n",
              "      <td>7.440</td>\n",
              "      <td>7.470</td>\n",
              "      <td>7.44</td>\n",
              "      <td>494055</td>\n",
              "      <td>146.64</td>\n",
              "      <td>243.456</td>\n",
              "      <td>Drama</td>\n",
              "      <td>42</td>\n",
              "      <td>PG</td>\n",
              "      <td>462</td>\n",
              "      <td>NO</td>\n",
              "    </tr>\n",
              "    <tr>\n",
              "      <th>2</th>\n",
              "      <td>69400</td>\n",
              "      <td>20.5458</td>\n",
              "      <td>69.14</td>\n",
              "      <td>0.531</td>\n",
              "      <td>39912.675</td>\n",
              "      <td>134.6</td>\n",
              "      <td>7.485</td>\n",
              "      <td>7.570</td>\n",
              "      <td>7.495</td>\n",
              "      <td>7.515</td>\n",
              "      <td>7.44</td>\n",
              "      <td>547051</td>\n",
              "      <td>147.88</td>\n",
              "      <td>2022.400</td>\n",
              "      <td>Comedy</td>\n",
              "      <td>38</td>\n",
              "      <td>PG</td>\n",
              "      <td>458</td>\n",
              "      <td>NO</td>\n",
              "    </tr>\n",
              "    <tr>\n",
              "      <th>3</th>\n",
              "      <td>66800</td>\n",
              "      <td>20.6474</td>\n",
              "      <td>59.36</td>\n",
              "      <td>0.542</td>\n",
              "      <td>38873.890</td>\n",
              "      <td>119.3</td>\n",
              "      <td>6.895</td>\n",
              "      <td>7.035</td>\n",
              "      <td>6.920</td>\n",
              "      <td>7.020</td>\n",
              "      <td>8.26</td>\n",
              "      <td>516279</td>\n",
              "      <td>185.36</td>\n",
              "      <td>225.344</td>\n",
              "      <td>Drama</td>\n",
              "      <td>45</td>\n",
              "      <td>PG</td>\n",
              "      <td>472</td>\n",
              "      <td>YES</td>\n",
              "    </tr>\n",
              "    <tr>\n",
              "      <th>4</th>\n",
              "      <td>72400</td>\n",
              "      <td>21.3810</td>\n",
              "      <td>59.36</td>\n",
              "      <td>0.542</td>\n",
              "      <td>39701.585</td>\n",
              "      <td>127.7</td>\n",
              "      <td>6.920</td>\n",
              "      <td>7.070</td>\n",
              "      <td>6.815</td>\n",
              "      <td>7.070</td>\n",
              "      <td>8.26</td>\n",
              "      <td>531448</td>\n",
              "      <td>176.48</td>\n",
              "      <td>225.792</td>\n",
              "      <td>Drama</td>\n",
              "      <td>55</td>\n",
              "      <td>PG</td>\n",
              "      <td>395</td>\n",
              "      <td>NO</td>\n",
              "    </tr>\n",
              "    <tr>\n",
              "      <th>...</th>\n",
              "      <td>...</td>\n",
              "      <td>...</td>\n",
              "      <td>...</td>\n",
              "      <td>...</td>\n",
              "      <td>...</td>\n",
              "      <td>...</td>\n",
              "      <td>...</td>\n",
              "      <td>...</td>\n",
              "      <td>...</td>\n",
              "      <td>...</td>\n",
              "      <td>...</td>\n",
              "      <td>...</td>\n",
              "      <td>...</td>\n",
              "      <td>...</td>\n",
              "      <td>...</td>\n",
              "      <td>...</td>\n",
              "      <td>...</td>\n",
              "      <td>...</td>\n",
              "      <td>...</td>\n",
              "    </tr>\n",
              "    <tr>\n",
              "      <th>395</th>\n",
              "      <td>26200</td>\n",
              "      <td>194.3350</td>\n",
              "      <td>91.20</td>\n",
              "      <td>0.307</td>\n",
              "      <td>35946.405</td>\n",
              "      <td>172.3</td>\n",
              "      <td>8.980</td>\n",
              "      <td>9.260</td>\n",
              "      <td>9.085</td>\n",
              "      <td>9.225</td>\n",
              "      <td>7.96</td>\n",
              "      <td>424127</td>\n",
              "      <td>115.24</td>\n",
              "      <td>302.096</td>\n",
              "      <td>Action</td>\n",
              "      <td>29</td>\n",
              "      <td>PG</td>\n",
              "      <td>712</td>\n",
              "      <td>NO</td>\n",
              "    </tr>\n",
              "    <tr>\n",
              "      <th>396</th>\n",
              "      <td>25000</td>\n",
              "      <td>137.4410</td>\n",
              "      <td>91.20</td>\n",
              "      <td>0.307</td>\n",
              "      <td>35579.775</td>\n",
              "      <td>169.5</td>\n",
              "      <td>9.115</td>\n",
              "      <td>9.180</td>\n",
              "      <td>9.100</td>\n",
              "      <td>9.255</td>\n",
              "      <td>6.96</td>\n",
              "      <td>390048</td>\n",
              "      <td>109.00</td>\n",
              "      <td>222.000</td>\n",
              "      <td>Thriller</td>\n",
              "      <td>24</td>\n",
              "      <td>PG</td>\n",
              "      <td>685</td>\n",
              "      <td>YES</td>\n",
              "    </tr>\n",
              "    <tr>\n",
              "      <th>397</th>\n",
              "      <td>17000</td>\n",
              "      <td>173.4404</td>\n",
              "      <td>91.20</td>\n",
              "      <td>0.307</td>\n",
              "      <td>31924.585</td>\n",
              "      <td>172.4</td>\n",
              "      <td>9.135</td>\n",
              "      <td>9.230</td>\n",
              "      <td>9.125</td>\n",
              "      <td>9.240</td>\n",
              "      <td>6.96</td>\n",
              "      <td>384688</td>\n",
              "      <td>185.40</td>\n",
              "      <td>281.360</td>\n",
              "      <td>Comedy</td>\n",
              "      <td>22</td>\n",
              "      <td>PG</td>\n",
              "      <td>663</td>\n",
              "      <td>NO</td>\n",
              "    </tr>\n",
              "    <tr>\n",
              "      <th>398</th>\n",
              "      <td>10000</td>\n",
              "      <td>787.0360</td>\n",
              "      <td>91.20</td>\n",
              "      <td>0.307</td>\n",
              "      <td>30291.415</td>\n",
              "      <td>173.5</td>\n",
              "      <td>9.215</td>\n",
              "      <td>9.370</td>\n",
              "      <td>9.105</td>\n",
              "      <td>9.330</td>\n",
              "      <td>6.96</td>\n",
              "      <td>291101</td>\n",
              "      <td>186.00</td>\n",
              "      <td>260.800</td>\n",
              "      <td>Drama</td>\n",
              "      <td>26</td>\n",
              "      <td>PG</td>\n",
              "      <td>653</td>\n",
              "      <td>NO</td>\n",
              "    </tr>\n",
              "    <tr>\n",
              "      <th>399</th>\n",
              "      <td>12600</td>\n",
              "      <td>218.3310</td>\n",
              "      <td>91.20</td>\n",
              "      <td>0.307</td>\n",
              "      <td>32507.860</td>\n",
              "      <td>151.3</td>\n",
              "      <td>9.150</td>\n",
              "      <td>9.380</td>\n",
              "      <td>9.140</td>\n",
              "      <td>9.330</td>\n",
              "      <td>6.96</td>\n",
              "      <td>270691</td>\n",
              "      <td>134.52</td>\n",
              "      <td>281.008</td>\n",
              "      <td>Thriller</td>\n",
              "      <td>42</td>\n",
              "      <td>PG</td>\n",
              "      <td>613</td>\n",
              "      <td>NO</td>\n",
              "    </tr>\n",
              "  </tbody>\n",
              "</table>\n",
              "<p>400 rows × 19 columns</p>\n",
              "</div>"
            ],
            "text/plain": [
              "     Collection  Marketin_expense  Production_expense  Multiplex_coverage   \n",
              "0         48000           20.1264               59.62               0.462  \\\n",
              "1         43200           20.5462               69.14               0.531   \n",
              "2         69400           20.5458               69.14               0.531   \n",
              "3         66800           20.6474               59.36               0.542   \n",
              "4         72400           21.3810               59.36               0.542   \n",
              "..          ...               ...                 ...                 ...   \n",
              "395       26200          194.3350               91.20               0.307   \n",
              "396       25000          137.4410               91.20               0.307   \n",
              "397       17000          173.4404               91.20               0.307   \n",
              "398       10000          787.0360               91.20               0.307   \n",
              "399       12600          218.3310               91.20               0.307   \n",
              "\n",
              "        Budget  Movie_length  Lead_ Actor_Rating  Lead_Actress_rating   \n",
              "0    36524.125         138.7               7.825                8.095  \\\n",
              "1    35668.655         152.4               7.505                7.650   \n",
              "2    39912.675         134.6               7.485                7.570   \n",
              "3    38873.890         119.3               6.895                7.035   \n",
              "4    39701.585         127.7               6.920                7.070   \n",
              "..         ...           ...                 ...                  ...   \n",
              "395  35946.405         172.3               8.980                9.260   \n",
              "396  35579.775         169.5               9.115                9.180   \n",
              "397  31924.585         172.4               9.135                9.230   \n",
              "398  30291.415         173.5               9.215                9.370   \n",
              "399  32507.860         151.3               9.150                9.380   \n",
              "\n",
              "     Director_rating  Producer_rating  Critic_rating  Trailer_views   \n",
              "0              7.910            7.995           7.94         527367  \\\n",
              "1              7.440            7.470           7.44         494055   \n",
              "2              7.495            7.515           7.44         547051   \n",
              "3              6.920            7.020           8.26         516279   \n",
              "4              6.815            7.070           8.26         531448   \n",
              "..               ...              ...            ...            ...   \n",
              "395            9.085            9.225           7.96         424127   \n",
              "396            9.100            9.255           6.96         390048   \n",
              "397            9.125            9.240           6.96         384688   \n",
              "398            9.105            9.330           6.96         291101   \n",
              "399            9.140            9.330           6.96         270691   \n",
              "\n",
              "     Time_taken  Twitter_hastags     Genre  Avg_age_actors MPAA_film_rating   \n",
              "0        109.60          223.840  Thriller              23               PG  \\\n",
              "1        146.64          243.456     Drama              42               PG   \n",
              "2        147.88         2022.400    Comedy              38               PG   \n",
              "3        185.36          225.344     Drama              45               PG   \n",
              "4        176.48          225.792     Drama              55               PG   \n",
              "..          ...              ...       ...             ...              ...   \n",
              "395      115.24          302.096    Action              29               PG   \n",
              "396      109.00          222.000  Thriller              24               PG   \n",
              "397      185.40          281.360    Comedy              22               PG   \n",
              "398      186.00          260.800     Drama              26               PG   \n",
              "399      134.52          281.008  Thriller              42               PG   \n",
              "\n",
              "     Num_multiplex 3D_available  \n",
              "0              494          YES  \n",
              "1              462           NO  \n",
              "2              458           NO  \n",
              "3              472          YES  \n",
              "4              395           NO  \n",
              "..             ...          ...  \n",
              "395            712           NO  \n",
              "396            685          YES  \n",
              "397            663           NO  \n",
              "398            653           NO  \n",
              "399            613           NO  \n",
              "\n",
              "[400 rows x 19 columns]"
            ]
          },
          "execution_count": 4,
          "metadata": {},
          "output_type": "execute_result"
        }
      ],
      "source": [
        "df=pd.read_csv(\"Movie_collection.csv\")\n",
        "df"
      ]
    },
    {
      "cell_type": "markdown",
      "metadata": {
        "id": "AIdB9cXsfpjq"
      },
      "source": [
        "##Data preprocessing"
      ]
    },
    {
      "cell_type": "markdown",
      "metadata": {
        "id": "v3spxl70f1Bs"
      },
      "source": [
        "####EDD (Extended Data Dictionary)"
      ]
    },
    {
      "cell_type": "code",
      "execution_count": 5,
      "metadata": {
        "colab": {
          "base_uri": "https://localhost:8080/",
          "height": 382
        },
        "id": "yPgEOARlaBBA",
        "outputId": "4b6a1d96-8fed-489d-81bb-ac6a831204fc"
      },
      "outputs": [
        {
          "data": {
            "text/html": [
              "<div>\n",
              "<style scoped>\n",
              "    .dataframe tbody tr th:only-of-type {\n",
              "        vertical-align: middle;\n",
              "    }\n",
              "\n",
              "    .dataframe tbody tr th {\n",
              "        vertical-align: top;\n",
              "    }\n",
              "\n",
              "    .dataframe thead th {\n",
              "        text-align: right;\n",
              "    }\n",
              "</style>\n",
              "<table border=\"1\" class=\"dataframe\">\n",
              "  <thead>\n",
              "    <tr style=\"text-align: right;\">\n",
              "      <th></th>\n",
              "      <th>Collection</th>\n",
              "      <th>Marketin_expense</th>\n",
              "      <th>Production_expense</th>\n",
              "      <th>Multiplex_coverage</th>\n",
              "      <th>Budget</th>\n",
              "      <th>Movie_length</th>\n",
              "      <th>Lead_ Actor_Rating</th>\n",
              "      <th>Lead_Actress_rating</th>\n",
              "      <th>Director_rating</th>\n",
              "      <th>Producer_rating</th>\n",
              "      <th>Critic_rating</th>\n",
              "      <th>Trailer_views</th>\n",
              "      <th>Time_taken</th>\n",
              "      <th>Twitter_hastags</th>\n",
              "      <th>Avg_age_actors</th>\n",
              "      <th>Num_multiplex</th>\n",
              "    </tr>\n",
              "  </thead>\n",
              "  <tbody>\n",
              "    <tr>\n",
              "      <th>count</th>\n",
              "      <td>400.000000</td>\n",
              "      <td>400.000000</td>\n",
              "      <td>400.000000</td>\n",
              "      <td>400.000000</td>\n",
              "      <td>400.000000</td>\n",
              "      <td>400.000000</td>\n",
              "      <td>400.000000</td>\n",
              "      <td>400.000000</td>\n",
              "      <td>400.000000</td>\n",
              "      <td>400.000000</td>\n",
              "      <td>400.000000</td>\n",
              "      <td>400.000000</td>\n",
              "      <td>392.000000</td>\n",
              "      <td>400.000000</td>\n",
              "      <td>400.000000</td>\n",
              "      <td>400.000000</td>\n",
              "    </tr>\n",
              "    <tr>\n",
              "      <th>mean</th>\n",
              "      <td>48646.500000</td>\n",
              "      <td>55.017181</td>\n",
              "      <td>73.832700</td>\n",
              "      <td>0.469881</td>\n",
              "      <td>35197.771537</td>\n",
              "      <td>137.581750</td>\n",
              "      <td>7.810275</td>\n",
              "      <td>7.982813</td>\n",
              "      <td>7.813375</td>\n",
              "      <td>7.993888</td>\n",
              "      <td>7.894100</td>\n",
              "      <td>463223.567500</td>\n",
              "      <td>157.790000</td>\n",
              "      <td>258.083840</td>\n",
              "      <td>38.715000</td>\n",
              "      <td>523.650000</td>\n",
              "    </tr>\n",
              "    <tr>\n",
              "      <th>std</th>\n",
              "      <td>18308.499136</td>\n",
              "      <td>119.755634</td>\n",
              "      <td>13.023426</td>\n",
              "      <td>0.113920</td>\n",
              "      <td>4075.766926</td>\n",
              "      <td>28.990673</td>\n",
              "      <td>1.088694</td>\n",
              "      <td>1.089923</td>\n",
              "      <td>1.093581</td>\n",
              "      <td>1.088619</td>\n",
              "      <td>0.672413</td>\n",
              "      <td>65225.567649</td>\n",
              "      <td>31.723517</td>\n",
              "      <td>94.621476</td>\n",
              "      <td>12.651043</td>\n",
              "      <td>103.661283</td>\n",
              "    </tr>\n",
              "    <tr>\n",
              "      <th>min</th>\n",
              "      <td>10000.000000</td>\n",
              "      <td>20.126400</td>\n",
              "      <td>55.920000</td>\n",
              "      <td>0.129000</td>\n",
              "      <td>19781.355000</td>\n",
              "      <td>76.400000</td>\n",
              "      <td>3.840000</td>\n",
              "      <td>4.035000</td>\n",
              "      <td>3.840000</td>\n",
              "      <td>4.030000</td>\n",
              "      <td>6.600000</td>\n",
              "      <td>215432.000000</td>\n",
              "      <td>0.000000</td>\n",
              "      <td>201.632000</td>\n",
              "      <td>3.000000</td>\n",
              "      <td>333.000000</td>\n",
              "    </tr>\n",
              "    <tr>\n",
              "      <th>25%</th>\n",
              "      <td>37800.000000</td>\n",
              "      <td>21.321950</td>\n",
              "      <td>63.250000</td>\n",
              "      <td>0.419000</td>\n",
              "      <td>32721.727500</td>\n",
              "      <td>111.175000</td>\n",
              "      <td>7.092500</td>\n",
              "      <td>7.252500</td>\n",
              "      <td>7.123750</td>\n",
              "      <td>7.273750</td>\n",
              "      <td>7.320000</td>\n",
              "      <td>436793.500000</td>\n",
              "      <td>133.360000</td>\n",
              "      <td>223.804000</td>\n",
              "      <td>26.000000</td>\n",
              "      <td>451.000000</td>\n",
              "    </tr>\n",
              "    <tr>\n",
              "      <th>50%</th>\n",
              "      <td>45000.000000</td>\n",
              "      <td>23.214700</td>\n",
              "      <td>69.030000</td>\n",
              "      <td>0.494500</td>\n",
              "      <td>34593.762500</td>\n",
              "      <td>142.250000</td>\n",
              "      <td>7.995000</td>\n",
              "      <td>8.157500</td>\n",
              "      <td>7.990000</td>\n",
              "      <td>8.140000</td>\n",
              "      <td>7.960000</td>\n",
              "      <td>474930.000000</td>\n",
              "      <td>159.720000</td>\n",
              "      <td>246.680000</td>\n",
              "      <td>39.000000</td>\n",
              "      <td>510.000000</td>\n",
              "    </tr>\n",
              "    <tr>\n",
              "      <th>75%</th>\n",
              "      <td>56500.000000</td>\n",
              "      <td>34.638300</td>\n",
              "      <td>82.840000</td>\n",
              "      <td>0.558000</td>\n",
              "      <td>37142.118750</td>\n",
              "      <td>165.400000</td>\n",
              "      <td>8.725000</td>\n",
              "      <td>8.912500</td>\n",
              "      <td>8.740000</td>\n",
              "      <td>8.931250</td>\n",
              "      <td>8.400000</td>\n",
              "      <td>507690.500000</td>\n",
              "      <td>183.210000</td>\n",
              "      <td>283.444000</td>\n",
              "      <td>50.000000</td>\n",
              "      <td>571.000000</td>\n",
              "    </tr>\n",
              "    <tr>\n",
              "      <th>max</th>\n",
              "      <td>100000.000000</td>\n",
              "      <td>1799.524000</td>\n",
              "      <td>106.300000</td>\n",
              "      <td>0.615000</td>\n",
              "      <td>48772.900000</td>\n",
              "      <td>173.500000</td>\n",
              "      <td>9.435000</td>\n",
              "      <td>9.540000</td>\n",
              "      <td>9.425000</td>\n",
              "      <td>9.635000</td>\n",
              "      <td>9.400000</td>\n",
              "      <td>567784.000000</td>\n",
              "      <td>217.520000</td>\n",
              "      <td>2022.400000</td>\n",
              "      <td>60.000000</td>\n",
              "      <td>868.000000</td>\n",
              "    </tr>\n",
              "  </tbody>\n",
              "</table>\n",
              "</div>"
            ],
            "text/plain": [
              "          Collection  Marketin_expense  Production_expense   \n",
              "count     400.000000        400.000000          400.000000  \\\n",
              "mean    48646.500000         55.017181           73.832700   \n",
              "std     18308.499136        119.755634           13.023426   \n",
              "min     10000.000000         20.126400           55.920000   \n",
              "25%     37800.000000         21.321950           63.250000   \n",
              "50%     45000.000000         23.214700           69.030000   \n",
              "75%     56500.000000         34.638300           82.840000   \n",
              "max    100000.000000       1799.524000          106.300000   \n",
              "\n",
              "       Multiplex_coverage        Budget  Movie_length  Lead_ Actor_Rating   \n",
              "count          400.000000    400.000000    400.000000          400.000000  \\\n",
              "mean             0.469881  35197.771537    137.581750            7.810275   \n",
              "std              0.113920   4075.766926     28.990673            1.088694   \n",
              "min              0.129000  19781.355000     76.400000            3.840000   \n",
              "25%              0.419000  32721.727500    111.175000            7.092500   \n",
              "50%              0.494500  34593.762500    142.250000            7.995000   \n",
              "75%              0.558000  37142.118750    165.400000            8.725000   \n",
              "max              0.615000  48772.900000    173.500000            9.435000   \n",
              "\n",
              "       Lead_Actress_rating  Director_rating  Producer_rating  Critic_rating   \n",
              "count           400.000000       400.000000       400.000000     400.000000  \\\n",
              "mean              7.982813         7.813375         7.993888       7.894100   \n",
              "std               1.089923         1.093581         1.088619       0.672413   \n",
              "min               4.035000         3.840000         4.030000       6.600000   \n",
              "25%               7.252500         7.123750         7.273750       7.320000   \n",
              "50%               8.157500         7.990000         8.140000       7.960000   \n",
              "75%               8.912500         8.740000         8.931250       8.400000   \n",
              "max               9.540000         9.425000         9.635000       9.400000   \n",
              "\n",
              "       Trailer_views  Time_taken  Twitter_hastags  Avg_age_actors   \n",
              "count     400.000000  392.000000       400.000000      400.000000  \\\n",
              "mean   463223.567500  157.790000       258.083840       38.715000   \n",
              "std     65225.567649   31.723517        94.621476       12.651043   \n",
              "min    215432.000000    0.000000       201.632000        3.000000   \n",
              "25%    436793.500000  133.360000       223.804000       26.000000   \n",
              "50%    474930.000000  159.720000       246.680000       39.000000   \n",
              "75%    507690.500000  183.210000       283.444000       50.000000   \n",
              "max    567784.000000  217.520000      2022.400000       60.000000   \n",
              "\n",
              "       Num_multiplex  \n",
              "count     400.000000  \n",
              "mean      523.650000  \n",
              "std       103.661283  \n",
              "min       333.000000  \n",
              "25%       451.000000  \n",
              "50%       510.000000  \n",
              "75%       571.000000  \n",
              "max       868.000000  "
            ]
          },
          "execution_count": 5,
          "metadata": {},
          "output_type": "execute_result"
        }
      ],
      "source": [
        "df.describe()"
      ]
    },
    {
      "cell_type": "markdown",
      "metadata": {
        "id": "DqHG_BgPgy8s"
      },
      "source": [
        "###Outliers detection and Treatment"
      ]
    },
    {
      "cell_type": "code",
      "execution_count": 6,
      "metadata": {
        "colab": {
          "base_uri": "https://localhost:8080/",
          "height": 296
        },
        "id": "qtHVwTImpdJq",
        "outputId": "4be6f78d-f71b-4751-a5c7-6acd37e60883"
      },
      "outputs": [
        {
          "data": {
            "text/plain": [
              "Text(0.5, 0, 'marketing expenses')"
            ]
          },
          "execution_count": 6,
          "metadata": {},
          "output_type": "execute_result"
        },
        {
          "data": {
            "image/png": "[encoded data removed]",
            "text/plain": [
              "<Figure size 640x480 with 1 Axes>"
            ]
          },
          "metadata": {},
          "output_type": "display_data"
        }
      ],
      "source": [
        "plt.scatter(df.Marketin_expense,df.Collection)\n",
        "plt.xlabel('marketing expenses')"
      ]
    },
    {
      "cell_type": "code",
      "execution_count": 7,
      "metadata": {
        "colab": {
          "base_uri": "https://localhost:8080/",
          "height": 297
        },
        "id": "bIylbzGtq6Ye",
        "outputId": "c99dbd4a-efa3-4699-8106-a1a81c166629"
      },
      "outputs": [
        {
          "data": {
            "text/plain": [
              "Text(0.5, 0, 'Twitter_hastags')"
            ]
          },
          "execution_count": 7,
          "metadata": {},
          "output_type": "execute_result"
        },
        {
          "data": {
            "image/png": "[encoded data removed]",
            "text/plain": [
              "<Figure size 640x480 with 1 Axes>"
            ]
          },
          "metadata": {},
          "output_type": "display_data"
        }
      ],
      "source": [
        "plt.scatter(df.Twitter_hastags,df.Collection)\n",
        "plt.xlabel('Twitter_hastags')"
      ]
    },
    {
      "cell_type": "code",
      "execution_count": 8,
      "metadata": {
        "colab": {
          "base_uri": "https://localhost:8080/"
        },
        "id": "1fskmwHH1Ls3",
        "outputId": "822e5d26-fa5d-4985-dba6-19cda643ea59"
      },
      "outputs": [
        {
          "name": "stderr",
          "output_type": "stream",
          "text": [
            "/tmp/ipykernel_330632/127426518.py:2: SettingWithCopyWarning: \n",
            "A value is trying to be set on a copy of a slice from a DataFrame\n",
            "\n",
            "See the caveats in the documentation: https://pandas.pydata.org/pandas-docs/stable/user_guide/indexing.html#returning-a-view-versus-a-copy\n",
            "  df.Twitter_hastags[df.Twitter_hastags>3*uv]=3*uv\n"
          ]
        }
      ],
      "source": [
        "uv=np.percentile(df.Twitter_hastags,[99])[0]\n",
        "df.Twitter_hastags[df.Twitter_hastags>3*uv]=3*uv"
      ]
    },
    {
      "cell_type": "code",
      "execution_count": 9,
      "metadata": {
        "colab": {
          "base_uri": "https://localhost:8080/",
          "height": 382
        },
        "id": "TbFpaKgrSAnC",
        "outputId": "138fd905-0266-4cb1-dec1-fa61e439762f"
      },
      "outputs": [
        {
          "data": {
            "text/html": [
              "<div>\n",
              "<style scoped>\n",
              "    .dataframe tbody tr th:only-of-type {\n",
              "        vertical-align: middle;\n",
              "    }\n",
              "\n",
              "    .dataframe tbody tr th {\n",
              "        vertical-align: top;\n",
              "    }\n",
              "\n",
              "    .dataframe thead th {\n",
              "        text-align: right;\n",
              "    }\n",
              "</style>\n",
              "<table border=\"1\" class=\"dataframe\">\n",
              "  <thead>\n",
              "    <tr style=\"text-align: right;\">\n",
              "      <th></th>\n",
              "      <th>Collection</th>\n",
              "      <th>Marketin_expense</th>\n",
              "      <th>Production_expense</th>\n",
              "      <th>Multiplex_coverage</th>\n",
              "      <th>Budget</th>\n",
              "      <th>Movie_length</th>\n",
              "      <th>Lead_ Actor_Rating</th>\n",
              "      <th>Lead_Actress_rating</th>\n",
              "      <th>Director_rating</th>\n",
              "      <th>Producer_rating</th>\n",
              "      <th>Critic_rating</th>\n",
              "      <th>Trailer_views</th>\n",
              "      <th>Time_taken</th>\n",
              "      <th>Twitter_hastags</th>\n",
              "      <th>Avg_age_actors</th>\n",
              "      <th>Num_multiplex</th>\n",
              "    </tr>\n",
              "  </thead>\n",
              "  <tbody>\n",
              "    <tr>\n",
              "      <th>count</th>\n",
              "      <td>400.000000</td>\n",
              "      <td>400.000000</td>\n",
              "      <td>400.000000</td>\n",
              "      <td>400.000000</td>\n",
              "      <td>400.000000</td>\n",
              "      <td>400.000000</td>\n",
              "      <td>400.000000</td>\n",
              "      <td>400.000000</td>\n",
              "      <td>400.000000</td>\n",
              "      <td>400.000000</td>\n",
              "      <td>400.000000</td>\n",
              "      <td>400.000000</td>\n",
              "      <td>392.000000</td>\n",
              "      <td>400.000000</td>\n",
              "      <td>400.000000</td>\n",
              "      <td>400.000000</td>\n",
              "    </tr>\n",
              "    <tr>\n",
              "      <th>mean</th>\n",
              "      <td>48646.500000</td>\n",
              "      <td>55.017181</td>\n",
              "      <td>73.832700</td>\n",
              "      <td>0.469881</td>\n",
              "      <td>35197.771537</td>\n",
              "      <td>137.581750</td>\n",
              "      <td>7.810275</td>\n",
              "      <td>7.982813</td>\n",
              "      <td>7.813375</td>\n",
              "      <td>7.993888</td>\n",
              "      <td>7.894100</td>\n",
              "      <td>463223.567500</td>\n",
              "      <td>157.790000</td>\n",
              "      <td>255.337840</td>\n",
              "      <td>38.715000</td>\n",
              "      <td>523.650000</td>\n",
              "    </tr>\n",
              "    <tr>\n",
              "      <th>std</th>\n",
              "      <td>18308.499136</td>\n",
              "      <td>119.755634</td>\n",
              "      <td>13.023426</td>\n",
              "      <td>0.113920</td>\n",
              "      <td>4075.766926</td>\n",
              "      <td>28.990673</td>\n",
              "      <td>1.088694</td>\n",
              "      <td>1.089923</td>\n",
              "      <td>1.093581</td>\n",
              "      <td>1.088619</td>\n",
              "      <td>0.672413</td>\n",
              "      <td>65225.567649</td>\n",
              "      <td>31.723517</td>\n",
              "      <td>47.492326</td>\n",
              "      <td>12.651043</td>\n",
              "      <td>103.661283</td>\n",
              "    </tr>\n",
              "    <tr>\n",
              "      <th>min</th>\n",
              "      <td>10000.000000</td>\n",
              "      <td>20.126400</td>\n",
              "      <td>55.920000</td>\n",
              "      <td>0.129000</td>\n",
              "      <td>19781.355000</td>\n",
              "      <td>76.400000</td>\n",
              "      <td>3.840000</td>\n",
              "      <td>4.035000</td>\n",
              "      <td>3.840000</td>\n",
              "      <td>4.030000</td>\n",
              "      <td>6.600000</td>\n",
              "      <td>215432.000000</td>\n",
              "      <td>0.000000</td>\n",
              "      <td>201.632000</td>\n",
              "      <td>3.000000</td>\n",
              "      <td>333.000000</td>\n",
              "    </tr>\n",
              "    <tr>\n",
              "      <th>25%</th>\n",
              "      <td>37800.000000</td>\n",
              "      <td>21.321950</td>\n",
              "      <td>63.250000</td>\n",
              "      <td>0.419000</td>\n",
              "      <td>32721.727500</td>\n",
              "      <td>111.175000</td>\n",
              "      <td>7.092500</td>\n",
              "      <td>7.252500</td>\n",
              "      <td>7.123750</td>\n",
              "      <td>7.273750</td>\n",
              "      <td>7.320000</td>\n",
              "      <td>436793.500000</td>\n",
              "      <td>133.360000</td>\n",
              "      <td>223.804000</td>\n",
              "      <td>26.000000</td>\n",
              "      <td>451.000000</td>\n",
              "    </tr>\n",
              "    <tr>\n",
              "      <th>50%</th>\n",
              "      <td>45000.000000</td>\n",
              "      <td>23.214700</td>\n",
              "      <td>69.030000</td>\n",
              "      <td>0.494500</td>\n",
              "      <td>34593.762500</td>\n",
              "      <td>142.250000</td>\n",
              "      <td>7.995000</td>\n",
              "      <td>8.157500</td>\n",
              "      <td>7.990000</td>\n",
              "      <td>8.140000</td>\n",
              "      <td>7.960000</td>\n",
              "      <td>474930.000000</td>\n",
              "      <td>159.720000</td>\n",
              "      <td>246.680000</td>\n",
              "      <td>39.000000</td>\n",
              "      <td>510.000000</td>\n",
              "    </tr>\n",
              "    <tr>\n",
              "      <th>75%</th>\n",
              "      <td>56500.000000</td>\n",
              "      <td>34.638300</td>\n",
              "      <td>82.840000</td>\n",
              "      <td>0.558000</td>\n",
              "      <td>37142.118750</td>\n",
              "      <td>165.400000</td>\n",
              "      <td>8.725000</td>\n",
              "      <td>8.912500</td>\n",
              "      <td>8.740000</td>\n",
              "      <td>8.931250</td>\n",
              "      <td>8.400000</td>\n",
              "      <td>507690.500000</td>\n",
              "      <td>183.210000</td>\n",
              "      <td>283.444000</td>\n",
              "      <td>50.000000</td>\n",
              "      <td>571.000000</td>\n",
              "    </tr>\n",
              "    <tr>\n",
              "      <th>max</th>\n",
              "      <td>100000.000000</td>\n",
              "      <td>1799.524000</td>\n",
              "      <td>106.300000</td>\n",
              "      <td>0.615000</td>\n",
              "      <td>48772.900000</td>\n",
              "      <td>173.500000</td>\n",
              "      <td>9.435000</td>\n",
              "      <td>9.540000</td>\n",
              "      <td>9.425000</td>\n",
              "      <td>9.635000</td>\n",
              "      <td>9.400000</td>\n",
              "      <td>567784.000000</td>\n",
              "      <td>217.520000</td>\n",
              "      <td>924.000000</td>\n",
              "      <td>60.000000</td>\n",
              "      <td>868.000000</td>\n",
              "    </tr>\n",
              "  </tbody>\n",
              "</table>\n",
              "</div>"
            ],
            "text/plain": [
              "          Collection  Marketin_expense  Production_expense   \n",
              "count     400.000000        400.000000          400.000000  \\\n",
              "mean    48646.500000         55.017181           73.832700   \n",
              "std     18308.499136        119.755634           13.023426   \n",
              "min     10000.000000         20.126400           55.920000   \n",
              "25%     37800.000000         21.321950           63.250000   \n",
              "50%     45000.000000         23.214700           69.030000   \n",
              "75%     56500.000000         34.638300           82.840000   \n",
              "max    100000.000000       1799.524000          106.300000   \n",
              "\n",
              "       Multiplex_coverage        Budget  Movie_length  Lead_ Actor_Rating   \n",
              "count          400.000000    400.000000    400.000000          400.000000  \\\n",
              "mean             0.469881  35197.771537    137.581750            7.810275   \n",
              "std              0.113920   4075.766926     28.990673            1.088694   \n",
              "min              0.129000  19781.355000     76.400000            3.840000   \n",
              "25%              0.419000  32721.727500    111.175000            7.092500   \n",
              "50%              0.494500  34593.762500    142.250000            7.995000   \n",
              "75%              0.558000  37142.118750    165.400000            8.725000   \n",
              "max              0.615000  48772.900000    173.500000            9.435000   \n",
              "\n",
              "       Lead_Actress_rating  Director_rating  Producer_rating  Critic_rating   \n",
              "count           400.000000       400.000000       400.000000     400.000000  \\\n",
              "mean              7.982813         7.813375         7.993888       7.894100   \n",
              "std               1.089923         1.093581         1.088619       0.672413   \n",
              "min               4.035000         3.840000         4.030000       6.600000   \n",
              "25%               7.252500         7.123750         7.273750       7.320000   \n",
              "50%               8.157500         7.990000         8.140000       7.960000   \n",
              "75%               8.912500         8.740000         8.931250       8.400000   \n",
              "max               9.540000         9.425000         9.635000       9.400000   \n",
              "\n",
              "       Trailer_views  Time_taken  Twitter_hastags  Avg_age_actors   \n",
              "count     400.000000  392.000000       400.000000      400.000000  \\\n",
              "mean   463223.567500  157.790000       255.337840       38.715000   \n",
              "std     65225.567649   31.723517        47.492326       12.651043   \n",
              "min    215432.000000    0.000000       201.632000        3.000000   \n",
              "25%    436793.500000  133.360000       223.804000       26.000000   \n",
              "50%    474930.000000  159.720000       246.680000       39.000000   \n",
              "75%    507690.500000  183.210000       283.444000       50.000000   \n",
              "max    567784.000000  217.520000       924.000000       60.000000   \n",
              "\n",
              "       Num_multiplex  \n",
              "count     400.000000  \n",
              "mean      523.650000  \n",
              "std       103.661283  \n",
              "min       333.000000  \n",
              "25%       451.000000  \n",
              "50%       510.000000  \n",
              "75%       571.000000  \n",
              "max       868.000000  "
            ]
          },
          "execution_count": 9,
          "metadata": {},
          "output_type": "execute_result"
        }
      ],
      "source": [
        "#EDD after outliers treatment\n",
        "df.describe()"
      ]
    },
    {
      "cell_type": "markdown",
      "metadata": {
        "id": "pmbIVdOchLt7"
      },
      "source": [
        "###Detecting and imputing missing values"
      ]
    },
    {
      "cell_type": "code",
      "execution_count": 10,
      "metadata": {
        "colab": {
          "base_uri": "https://localhost:8080/"
        },
        "id": "bSWpXMpzpH1T",
        "outputId": "088ebd0d-cbc7-4e5f-9071-b764732a4981"
      },
      "outputs": [
        {
          "data": {
            "text/plain": [
              "Collection             0\n",
              "Marketin_expense       0\n",
              "Production_expense     0\n",
              "Multiplex_coverage     0\n",
              "Budget                 0\n",
              "Movie_length           0\n",
              "Lead_ Actor_Rating     0\n",
              "Lead_Actress_rating    0\n",
              "Director_rating        0\n",
              "Producer_rating        0\n",
              "Critic_rating          0\n",
              "Trailer_views          0\n",
              "Time_taken             8\n",
              "Twitter_hastags        0\n",
              "Genre                  0\n",
              "Avg_age_actors         0\n",
              "MPAA_film_rating       0\n",
              "Num_multiplex          0\n",
              "3D_available           0\n",
              "dtype: int64"
            ]
          },
          "execution_count": 10,
          "metadata": {},
          "output_type": "execute_result"
        }
      ],
      "source": [
        "#detecting the number of missing value in a particular column\n",
        "df.isna().sum()"
      ]
    },
    {
      "cell_type": "code",
      "execution_count": 11,
      "metadata": {
        "id": "hCPcthRKpNnp"
      },
      "outputs": [],
      "source": [
        "#Imputation of missing values\n",
        "df.Time_taken=df.Time_taken.fillna(df.Time_taken.mean())"
      ]
    },
    {
      "cell_type": "markdown",
      "metadata": {
        "id": "F-fCRnv2iZUs"
      },
      "source": [
        "###Variable Transformation"
      ]
    },
    {
      "cell_type": "code",
      "execution_count": 12,
      "metadata": {
        "colab": {
          "base_uri": "https://localhost:8080/",
          "height": 296
        },
        "id": "V5EgPMNhS2XX",
        "outputId": "4d43e960-d48a-427b-8795-4945af43b5f5"
      },
      "outputs": [
        {
          "data": {
            "text/plain": [
              "Text(0.5, 0, 'marketing expenses')"
            ]
          },
          "execution_count": 12,
          "metadata": {},
          "output_type": "execute_result"
        },
        {
          "data": {
            "image/png": "[encoded data removed]",
            "text/plain": [
              "<Figure size 640x480 with 1 Axes>"
            ]
          },
          "metadata": {},
          "output_type": "display_data"
        }
      ],
      "source": [
        "df.Marketin_expense=np.log(1+df.Marketin_expense)\n",
        "plt.scatter(df.Marketin_expense,df.Collection)\n",
        "plt.xlabel('marketing expenses')"
      ]
    },
    {
      "cell_type": "markdown",
      "metadata": {
        "id": "GyuSs8ilinb2"
      },
      "source": [
        "###Deletion of unnecessary variables"
      ]
    },
    {
      "cell_type": "code",
      "execution_count": 13,
      "metadata": {
        "id": "BsLkIF24Y_cr"
      },
      "outputs": [],
      "source": [
        "del df['MPAA_film_rating']"
      ]
    },
    {
      "cell_type": "markdown",
      "metadata": {
        "id": "kdiDg0cViypn"
      },
      "source": [
        "##Handling qualitative data\n",
        "###Dummy variable creation:"
      ]
    },
    {
      "cell_type": "code",
      "execution_count": 14,
      "metadata": {
        "colab": {
          "base_uri": "https://localhost:8080/",
          "height": 317
        },
        "id": "QwpzTOFAauIV",
        "outputId": "6c3221ac-fbd2-46b5-8036-465878552b57"
      },
      "outputs": [
        {
          "data": {
            "text/html": [
              "<div>\n",
              "<style scoped>\n",
              "    .dataframe tbody tr th:only-of-type {\n",
              "        vertical-align: middle;\n",
              "    }\n",
              "\n",
              "    .dataframe tbody tr th {\n",
              "        vertical-align: top;\n",
              "    }\n",
              "\n",
              "    .dataframe thead th {\n",
              "        text-align: right;\n",
              "    }\n",
              "</style>\n",
              "<table border=\"1\" class=\"dataframe\">\n",
              "  <thead>\n",
              "    <tr style=\"text-align: right;\">\n",
              "      <th></th>\n",
              "      <th>Collection</th>\n",
              "      <th>Marketin_expense</th>\n",
              "      <th>Production_expense</th>\n",
              "      <th>Multiplex_coverage</th>\n",
              "      <th>Budget</th>\n",
              "      <th>Movie_length</th>\n",
              "      <th>Lead_ Actor_Rating</th>\n",
              "      <th>Lead_Actress_rating</th>\n",
              "      <th>Director_rating</th>\n",
              "      <th>Producer_rating</th>\n",
              "      <th>...</th>\n",
              "      <th>Time_taken</th>\n",
              "      <th>Twitter_hastags</th>\n",
              "      <th>Avg_age_actors</th>\n",
              "      <th>Num_multiplex</th>\n",
              "      <th>Genre_Action</th>\n",
              "      <th>Genre_Comedy</th>\n",
              "      <th>Genre_Drama</th>\n",
              "      <th>Genre_Thriller</th>\n",
              "      <th>3D_available_NO</th>\n",
              "      <th>3D_available_YES</th>\n",
              "    </tr>\n",
              "  </thead>\n",
              "  <tbody>\n",
              "    <tr>\n",
              "      <th>0</th>\n",
              "      <td>48000</td>\n",
              "      <td>3.050523</td>\n",
              "      <td>59.62</td>\n",
              "      <td>0.462</td>\n",
              "      <td>36524.125</td>\n",
              "      <td>138.7</td>\n",
              "      <td>7.825</td>\n",
              "      <td>8.095</td>\n",
              "      <td>7.910</td>\n",
              "      <td>7.995</td>\n",
              "      <td>...</td>\n",
              "      <td>109.60</td>\n",
              "      <td>223.840</td>\n",
              "      <td>23</td>\n",
              "      <td>494</td>\n",
              "      <td>False</td>\n",
              "      <td>False</td>\n",
              "      <td>False</td>\n",
              "      <td>True</td>\n",
              "      <td>False</td>\n",
              "      <td>True</td>\n",
              "    </tr>\n",
              "    <tr>\n",
              "      <th>1</th>\n",
              "      <td>43200</td>\n",
              "      <td>3.070199</td>\n",
              "      <td>69.14</td>\n",
              "      <td>0.531</td>\n",
              "      <td>35668.655</td>\n",
              "      <td>152.4</td>\n",
              "      <td>7.505</td>\n",
              "      <td>7.650</td>\n",
              "      <td>7.440</td>\n",
              "      <td>7.470</td>\n",
              "      <td>...</td>\n",
              "      <td>146.64</td>\n",
              "      <td>243.456</td>\n",
              "      <td>42</td>\n",
              "      <td>462</td>\n",
              "      <td>False</td>\n",
              "      <td>False</td>\n",
              "      <td>True</td>\n",
              "      <td>False</td>\n",
              "      <td>True</td>\n",
              "      <td>False</td>\n",
              "    </tr>\n",
              "    <tr>\n",
              "      <th>2</th>\n",
              "      <td>69400</td>\n",
              "      <td>3.070181</td>\n",
              "      <td>69.14</td>\n",
              "      <td>0.531</td>\n",
              "      <td>39912.675</td>\n",
              "      <td>134.6</td>\n",
              "      <td>7.485</td>\n",
              "      <td>7.570</td>\n",
              "      <td>7.495</td>\n",
              "      <td>7.515</td>\n",
              "      <td>...</td>\n",
              "      <td>147.88</td>\n",
              "      <td>924.000</td>\n",
              "      <td>38</td>\n",
              "      <td>458</td>\n",
              "      <td>False</td>\n",
              "      <td>True</td>\n",
              "      <td>False</td>\n",
              "      <td>False</td>\n",
              "      <td>True</td>\n",
              "      <td>False</td>\n",
              "    </tr>\n",
              "    <tr>\n",
              "      <th>3</th>\n",
              "      <td>66800</td>\n",
              "      <td>3.074885</td>\n",
              "      <td>59.36</td>\n",
              "      <td>0.542</td>\n",
              "      <td>38873.890</td>\n",
              "      <td>119.3</td>\n",
              "      <td>6.895</td>\n",
              "      <td>7.035</td>\n",
              "      <td>6.920</td>\n",
              "      <td>7.020</td>\n",
              "      <td>...</td>\n",
              "      <td>185.36</td>\n",
              "      <td>225.344</td>\n",
              "      <td>45</td>\n",
              "      <td>472</td>\n",
              "      <td>False</td>\n",
              "      <td>False</td>\n",
              "      <td>True</td>\n",
              "      <td>False</td>\n",
              "      <td>False</td>\n",
              "      <td>True</td>\n",
              "    </tr>\n",
              "    <tr>\n",
              "      <th>4</th>\n",
              "      <td>72400</td>\n",
              "      <td>3.108212</td>\n",
              "      <td>59.36</td>\n",
              "      <td>0.542</td>\n",
              "      <td>39701.585</td>\n",
              "      <td>127.7</td>\n",
              "      <td>6.920</td>\n",
              "      <td>7.070</td>\n",
              "      <td>6.815</td>\n",
              "      <td>7.070</td>\n",
              "      <td>...</td>\n",
              "      <td>176.48</td>\n",
              "      <td>225.792</td>\n",
              "      <td>55</td>\n",
              "      <td>395</td>\n",
              "      <td>False</td>\n",
              "      <td>False</td>\n",
              "      <td>True</td>\n",
              "      <td>False</td>\n",
              "      <td>True</td>\n",
              "      <td>False</td>\n",
              "    </tr>\n",
              "  </tbody>\n",
              "</table>\n",
              "<p>5 rows × 22 columns</p>\n",
              "</div>"
            ],
            "text/plain": [
              "   Collection  Marketin_expense  Production_expense  Multiplex_coverage   \n",
              "0       48000          3.050523               59.62               0.462  \\\n",
              "1       43200          3.070199               69.14               0.531   \n",
              "2       69400          3.070181               69.14               0.531   \n",
              "3       66800          3.074885               59.36               0.542   \n",
              "4       72400          3.108212               59.36               0.542   \n",
              "\n",
              "      Budget  Movie_length  Lead_ Actor_Rating  Lead_Actress_rating   \n",
              "0  36524.125         138.7               7.825                8.095  \\\n",
              "1  35668.655         152.4               7.505                7.650   \n",
              "2  39912.675         134.6               7.485                7.570   \n",
              "3  38873.890         119.3               6.895                7.035   \n",
              "4  39701.585         127.7               6.920                7.070   \n",
              "\n",
              "   Director_rating  Producer_rating  ...  Time_taken  Twitter_hastags   \n",
              "0            7.910            7.995  ...      109.60          223.840  \\\n",
              "1            7.440            7.470  ...      146.64          243.456   \n",
              "2            7.495            7.515  ...      147.88          924.000   \n",
              "3            6.920            7.020  ...      185.36          225.344   \n",
              "4            6.815            7.070  ...      176.48          225.792   \n",
              "\n",
              "   Avg_age_actors  Num_multiplex  Genre_Action  Genre_Comedy  Genre_Drama   \n",
              "0              23            494         False         False        False  \\\n",
              "1              42            462         False         False         True   \n",
              "2              38            458         False          True        False   \n",
              "3              45            472         False         False         True   \n",
              "4              55            395         False         False         True   \n",
              "\n",
              "   Genre_Thriller  3D_available_NO  3D_available_YES  \n",
              "0            True            False              True  \n",
              "1           False             True             False  \n",
              "2           False             True             False  \n",
              "3           False            False              True  \n",
              "4           False             True             False  \n",
              "\n",
              "[5 rows x 22 columns]"
            ]
          },
          "execution_count": 14,
          "metadata": {},
          "output_type": "execute_result"
        }
      ],
      "source": [
        "df=pd.get_dummies(df)\n",
        "df.head()"
      ]
    },
    {
      "cell_type": "code",
      "execution_count": 15,
      "metadata": {
        "id": "NMvTzKDdc1_x"
      },
      "outputs": [],
      "source": [
        "#delete unnecessary columns\n",
        "del df['3D_available_NO']"
      ]
    },
    {
      "cell_type": "code",
      "execution_count": 16,
      "metadata": {
        "id": "0g5i7kiKdPU0"
      },
      "outputs": [],
      "source": [
        "del df['Genre_Action']"
      ]
    },
    {
      "cell_type": "markdown",
      "metadata": {
        "id": "Qyf64jfDjcpG"
      },
      "source": [
        "##Correlation Analysis"
      ]
    },
    {
      "cell_type": "code",
      "execution_count": 17,
      "metadata": {
        "colab": {
          "base_uri": "https://localhost:8080/",
          "height": 758
        },
        "id": "A2yqiRd6dhRZ",
        "outputId": "e085b90b-f0ed-4d53-d989-336195e364b9"
      },
      "outputs": [
        {
          "data": {
            "text/html": [
              "<div>\n",
              "<style scoped>\n",
              "    .dataframe tbody tr th:only-of-type {\n",
              "        vertical-align: middle;\n",
              "    }\n",
              "\n",
              "    .dataframe tbody tr th {\n",
              "        vertical-align: top;\n",
              "    }\n",
              "\n",
              "    .dataframe thead th {\n",
              "        text-align: right;\n",
              "    }\n",
              "</style>\n",
              "<table border=\"1\" class=\"dataframe\">\n",
              "  <thead>\n",
              "    <tr style=\"text-align: right;\">\n",
              "      <th></th>\n",
              "      <th>Collection</th>\n",
              "      <th>Marketin_expense</th>\n",
              "      <th>Production_expense</th>\n",
              "      <th>Multiplex_coverage</th>\n",
              "      <th>Budget</th>\n",
              "      <th>Movie_length</th>\n",
              "      <th>Lead_ Actor_Rating</th>\n",
              "      <th>Lead_Actress_rating</th>\n",
              "      <th>Director_rating</th>\n",
              "      <th>Producer_rating</th>\n",
              "      <th>Critic_rating</th>\n",
              "      <th>Trailer_views</th>\n",
              "      <th>Time_taken</th>\n",
              "      <th>Twitter_hastags</th>\n",
              "      <th>Avg_age_actors</th>\n",
              "      <th>Num_multiplex</th>\n",
              "      <th>Genre_Comedy</th>\n",
              "      <th>Genre_Drama</th>\n",
              "      <th>Genre_Thriller</th>\n",
              "      <th>3D_available_YES</th>\n",
              "    </tr>\n",
              "  </thead>\n",
              "  <tbody>\n",
              "    <tr>\n",
              "      <th>Collection</th>\n",
              "      <td>1.000000</td>\n",
              "      <td>-0.309711</td>\n",
              "      <td>-0.373947</td>\n",
              "      <td>0.303971</td>\n",
              "      <td>0.754353</td>\n",
              "      <td>-0.278718</td>\n",
              "      <td>-0.110412</td>\n",
              "      <td>-0.109230</td>\n",
              "      <td>-0.105234</td>\n",
              "      <td>-0.112257</td>\n",
              "      <td>0.317850</td>\n",
              "      <td>0.678691</td>\n",
              "      <td>0.140573</td>\n",
              "      <td>0.052651</td>\n",
              "      <td>-0.005188</td>\n",
              "      <td>-0.272365</td>\n",
              "      <td>-0.036113</td>\n",
              "      <td>0.020424</td>\n",
              "      <td>0.060124</td>\n",
              "      <td>0.192355</td>\n",
              "    </tr>\n",
              "    <tr>\n",
              "      <th>Marketin_expense</th>\n",
              "      <td>-0.309711</td>\n",
              "      <td>1.000000</td>\n",
              "      <td>0.615376</td>\n",
              "      <td>-0.707648</td>\n",
              "      <td>-0.306339</td>\n",
              "      <td>0.533402</td>\n",
              "      <td>0.557617</td>\n",
              "      <td>0.558538</td>\n",
              "      <td>0.557241</td>\n",
              "      <td>0.555388</td>\n",
              "      <td>-0.177594</td>\n",
              "      <td>-0.526549</td>\n",
              "      <td>0.048600</td>\n",
              "      <td>0.049715</td>\n",
              "      <td>0.024027</td>\n",
              "      <td>0.636746</td>\n",
              "      <td>0.035203</td>\n",
              "      <td>0.011118</td>\n",
              "      <td>-0.066084</td>\n",
              "      <td>-0.120489</td>\n",
              "    </tr>\n",
              "    <tr>\n",
              "      <th>Production_expense</th>\n",
              "      <td>-0.373947</td>\n",
              "      <td>0.615376</td>\n",
              "      <td>1.000000</td>\n",
              "      <td>-0.747325</td>\n",
              "      <td>-0.403334</td>\n",
              "      <td>0.609577</td>\n",
              "      <td>0.668242</td>\n",
              "      <td>0.669666</td>\n",
              "      <td>0.668155</td>\n",
              "      <td>0.672624</td>\n",
              "      <td>-0.177960</td>\n",
              "      <td>-0.537165</td>\n",
              "      <td>0.024382</td>\n",
              "      <td>-0.057913</td>\n",
              "      <td>0.028472</td>\n",
              "      <td>0.691225</td>\n",
              "      <td>0.040700</td>\n",
              "      <td>0.016143</td>\n",
              "      <td>-0.082437</td>\n",
              "      <td>-0.086836</td>\n",
              "    </tr>\n",
              "    <tr>\n",
              "      <th>Multiplex_coverage</th>\n",
              "      <td>0.303971</td>\n",
              "      <td>-0.707648</td>\n",
              "      <td>-0.747325</td>\n",
              "      <td>1.000000</td>\n",
              "      <td>0.314842</td>\n",
              "      <td>-0.714380</td>\n",
              "      <td>-0.749236</td>\n",
              "      <td>-0.750939</td>\n",
              "      <td>-0.748383</td>\n",
              "      <td>-0.749495</td>\n",
              "      <td>0.066023</td>\n",
              "      <td>0.524445</td>\n",
              "      <td>0.027185</td>\n",
              "      <td>0.016897</td>\n",
              "      <td>-0.078364</td>\n",
              "      <td>-0.914065</td>\n",
              "      <td>-0.028551</td>\n",
              "      <td>0.008637</td>\n",
              "      <td>0.030138</td>\n",
              "      <td>0.065540</td>\n",
              "    </tr>\n",
              "    <tr>\n",
              "      <th>Budget</th>\n",
              "      <td>0.754353</td>\n",
              "      <td>-0.306339</td>\n",
              "      <td>-0.403334</td>\n",
              "      <td>0.314842</td>\n",
              "      <td>1.000000</td>\n",
              "      <td>-0.233983</td>\n",
              "      <td>-0.169458</td>\n",
              "      <td>-0.163343</td>\n",
              "      <td>-0.162799</td>\n",
              "      <td>-0.165340</td>\n",
              "      <td>0.237713</td>\n",
              "      <td>0.632985</td>\n",
              "      <td>0.069261</td>\n",
              "      <td>0.045096</td>\n",
              "      <td>-0.043350</td>\n",
              "      <td>-0.290950</td>\n",
              "      <td>-0.051806</td>\n",
              "      <td>-0.024516</td>\n",
              "      <td>0.055914</td>\n",
              "      <td>0.167132</td>\n",
              "    </tr>\n",
              "    <tr>\n",
              "      <th>Movie_length</th>\n",
              "      <td>-0.278718</td>\n",
              "      <td>0.533402</td>\n",
              "      <td>0.609577</td>\n",
              "      <td>-0.714380</td>\n",
              "      <td>-0.233983</td>\n",
              "      <td>1.000000</td>\n",
              "      <td>0.723420</td>\n",
              "      <td>0.724517</td>\n",
              "      <td>0.723945</td>\n",
              "      <td>0.725696</td>\n",
              "      <td>-0.171255</td>\n",
              "      <td>-0.554295</td>\n",
              "      <td>-0.005934</td>\n",
              "      <td>-0.008140</td>\n",
              "      <td>0.065164</td>\n",
              "      <td>0.655003</td>\n",
              "      <td>0.075355</td>\n",
              "      <td>0.024897</td>\n",
              "      <td>-0.096724</td>\n",
              "      <td>0.021640</td>\n",
              "    </tr>\n",
              "    <tr>\n",
              "      <th>Lead_ Actor_Rating</th>\n",
              "      <td>-0.110412</td>\n",
              "      <td>0.557617</td>\n",
              "      <td>0.668242</td>\n",
              "      <td>-0.749236</td>\n",
              "      <td>-0.169458</td>\n",
              "      <td>0.723420</td>\n",
              "      <td>1.000000</td>\n",
              "      <td>0.998014</td>\n",
              "      <td>0.997846</td>\n",
              "      <td>0.994594</td>\n",
              "      <td>-0.093442</td>\n",
              "      <td>-0.414194</td>\n",
              "      <td>0.058482</td>\n",
              "      <td>-0.004881</td>\n",
              "      <td>0.004379</td>\n",
              "      <td>0.686076</td>\n",
              "      <td>0.014851</td>\n",
              "      <td>-0.016319</td>\n",
              "      <td>-0.017366</td>\n",
              "      <td>0.005008</td>\n",
              "    </tr>\n",
              "    <tr>\n",
              "      <th>Lead_Actress_rating</th>\n",
              "      <td>-0.109230</td>\n",
              "      <td>0.558538</td>\n",
              "      <td>0.669666</td>\n",
              "      <td>-0.750939</td>\n",
              "      <td>-0.163343</td>\n",
              "      <td>0.724517</td>\n",
              "      <td>0.998014</td>\n",
              "      <td>1.000000</td>\n",
              "      <td>0.998222</td>\n",
              "      <td>0.994557</td>\n",
              "      <td>-0.089485</td>\n",
              "      <td>-0.413549</td>\n",
              "      <td>0.057750</td>\n",
              "      <td>-0.008653</td>\n",
              "      <td>0.008232</td>\n",
              "      <td>0.687844</td>\n",
              "      <td>0.018377</td>\n",
              "      <td>-0.019332</td>\n",
              "      <td>-0.019707</td>\n",
              "      <td>0.007657</td>\n",
              "    </tr>\n",
              "    <tr>\n",
              "      <th>Director_rating</th>\n",
              "      <td>-0.105234</td>\n",
              "      <td>0.557241</td>\n",
              "      <td>0.668155</td>\n",
              "      <td>-0.748383</td>\n",
              "      <td>-0.162799</td>\n",
              "      <td>0.723945</td>\n",
              "      <td>0.997846</td>\n",
              "      <td>0.998222</td>\n",
              "      <td>1.000000</td>\n",
              "      <td>0.994754</td>\n",
              "      <td>-0.089439</td>\n",
              "      <td>-0.412502</td>\n",
              "      <td>0.056154</td>\n",
              "      <td>-0.007326</td>\n",
              "      <td>0.009379</td>\n",
              "      <td>0.686856</td>\n",
              "      <td>0.015712</td>\n",
              "      <td>-0.011240</td>\n",
              "      <td>-0.022875</td>\n",
              "      <td>0.008954</td>\n",
              "    </tr>\n",
              "    <tr>\n",
              "      <th>Producer_rating</th>\n",
              "      <td>-0.112257</td>\n",
              "      <td>0.555388</td>\n",
              "      <td>0.672624</td>\n",
              "      <td>-0.749495</td>\n",
              "      <td>-0.165340</td>\n",
              "      <td>0.725696</td>\n",
              "      <td>0.994594</td>\n",
              "      <td>0.994557</td>\n",
              "      <td>0.994754</td>\n",
              "      <td>1.000000</td>\n",
              "      <td>-0.091957</td>\n",
              "      <td>-0.417957</td>\n",
              "      <td>0.047449</td>\n",
              "      <td>-0.013669</td>\n",
              "      <td>0.005637</td>\n",
              "      <td>0.687656</td>\n",
              "      <td>0.023562</td>\n",
              "      <td>-0.012358</td>\n",
              "      <td>-0.023702</td>\n",
              "      <td>0.013377</td>\n",
              "    </tr>\n",
              "    <tr>\n",
              "      <th>Critic_rating</th>\n",
              "      <td>0.317850</td>\n",
              "      <td>-0.177594</td>\n",
              "      <td>-0.177960</td>\n",
              "      <td>0.066023</td>\n",
              "      <td>0.237713</td>\n",
              "      <td>-0.171255</td>\n",
              "      <td>-0.093442</td>\n",
              "      <td>-0.089485</td>\n",
              "      <td>-0.089439</td>\n",
              "      <td>-0.091957</td>\n",
              "      <td>1.000000</td>\n",
              "      <td>0.200985</td>\n",
              "      <td>-0.011592</td>\n",
              "      <td>-0.027859</td>\n",
              "      <td>-0.010233</td>\n",
              "      <td>-0.047068</td>\n",
              "      <td>0.012654</td>\n",
              "      <td>0.034996</td>\n",
              "      <td>-0.039234</td>\n",
              "      <td>0.035370</td>\n",
              "    </tr>\n",
              "    <tr>\n",
              "      <th>Trailer_views</th>\n",
              "      <td>0.678691</td>\n",
              "      <td>-0.526549</td>\n",
              "      <td>-0.537165</td>\n",
              "      <td>0.524445</td>\n",
              "      <td>0.632985</td>\n",
              "      <td>-0.554295</td>\n",
              "      <td>-0.414194</td>\n",
              "      <td>-0.413549</td>\n",
              "      <td>-0.412502</td>\n",
              "      <td>-0.417957</td>\n",
              "      <td>0.200985</td>\n",
              "      <td>1.000000</td>\n",
              "      <td>0.104337</td>\n",
              "      <td>0.033717</td>\n",
              "      <td>-0.004870</td>\n",
              "      <td>-0.498964</td>\n",
              "      <td>-0.101046</td>\n",
              "      <td>-0.025268</td>\n",
              "      <td>0.125530</td>\n",
              "      <td>0.091796</td>\n",
              "    </tr>\n",
              "    <tr>\n",
              "      <th>Time_taken</th>\n",
              "      <td>0.140573</td>\n",
              "      <td>0.048600</td>\n",
              "      <td>0.024382</td>\n",
              "      <td>0.027185</td>\n",
              "      <td>0.069261</td>\n",
              "      <td>-0.005934</td>\n",
              "      <td>0.058482</td>\n",
              "      <td>0.057750</td>\n",
              "      <td>0.056154</td>\n",
              "      <td>0.047449</td>\n",
              "      <td>-0.011592</td>\n",
              "      <td>0.104337</td>\n",
              "      <td>1.000000</td>\n",
              "      <td>0.010841</td>\n",
              "      <td>0.035250</td>\n",
              "      <td>-0.056048</td>\n",
              "      <td>-0.054714</td>\n",
              "      <td>0.084872</td>\n",
              "      <td>-0.047950</td>\n",
              "      <td>-0.035168</td>\n",
              "    </tr>\n",
              "    <tr>\n",
              "      <th>Twitter_hastags</th>\n",
              "      <td>0.052651</td>\n",
              "      <td>0.049715</td>\n",
              "      <td>-0.057913</td>\n",
              "      <td>0.016897</td>\n",
              "      <td>0.045096</td>\n",
              "      <td>-0.008140</td>\n",
              "      <td>-0.004881</td>\n",
              "      <td>-0.008653</td>\n",
              "      <td>-0.007326</td>\n",
              "      <td>-0.013669</td>\n",
              "      <td>-0.027859</td>\n",
              "      <td>0.033717</td>\n",
              "      <td>0.010841</td>\n",
              "      <td>1.000000</td>\n",
              "      <td>0.051341</td>\n",
              "      <td>-0.002665</td>\n",
              "      <td>0.075995</td>\n",
              "      <td>-0.031783</td>\n",
              "      <td>-0.066465</td>\n",
              "      <td>-0.035927</td>\n",
              "    </tr>\n",
              "    <tr>\n",
              "      <th>Avg_age_actors</th>\n",
              "      <td>-0.005188</td>\n",
              "      <td>0.024027</td>\n",
              "      <td>0.028472</td>\n",
              "      <td>-0.078364</td>\n",
              "      <td>-0.043350</td>\n",
              "      <td>0.065164</td>\n",
              "      <td>0.004379</td>\n",
              "      <td>0.008232</td>\n",
              "      <td>0.009379</td>\n",
              "      <td>0.005637</td>\n",
              "      <td>-0.010233</td>\n",
              "      <td>-0.004870</td>\n",
              "      <td>0.035250</td>\n",
              "      <td>0.051341</td>\n",
              "      <td>1.000000</td>\n",
              "      <td>0.059602</td>\n",
              "      <td>-0.042941</td>\n",
              "      <td>-0.020145</td>\n",
              "      <td>-0.004067</td>\n",
              "      <td>-0.030999</td>\n",
              "    </tr>\n",
              "    <tr>\n",
              "      <th>Num_multiplex</th>\n",
              "      <td>-0.272365</td>\n",
              "      <td>0.636746</td>\n",
              "      <td>0.691225</td>\n",
              "      <td>-0.914065</td>\n",
              "      <td>-0.290950</td>\n",
              "      <td>0.655003</td>\n",
              "      <td>0.686076</td>\n",
              "      <td>0.687844</td>\n",
              "      <td>0.686856</td>\n",
              "      <td>0.687656</td>\n",
              "      <td>-0.047068</td>\n",
              "      <td>-0.498964</td>\n",
              "      <td>-0.056048</td>\n",
              "      <td>-0.002665</td>\n",
              "      <td>0.059602</td>\n",
              "      <td>1.000000</td>\n",
              "      <td>0.033252</td>\n",
              "      <td>-0.010194</td>\n",
              "      <td>-0.047379</td>\n",
              "      <td>-0.049067</td>\n",
              "    </tr>\n",
              "    <tr>\n",
              "      <th>Genre_Comedy</th>\n",
              "      <td>-0.036113</td>\n",
              "      <td>0.035203</td>\n",
              "      <td>0.040700</td>\n",
              "      <td>-0.028551</td>\n",
              "      <td>-0.051806</td>\n",
              "      <td>0.075355</td>\n",
              "      <td>0.014851</td>\n",
              "      <td>0.018377</td>\n",
              "      <td>0.015712</td>\n",
              "      <td>0.023562</td>\n",
              "      <td>0.012654</td>\n",
              "      <td>-0.101046</td>\n",
              "      <td>-0.054714</td>\n",
              "      <td>0.075995</td>\n",
              "      <td>-0.042941</td>\n",
              "      <td>0.033252</td>\n",
              "      <td>1.000000</td>\n",
              "      <td>-0.320091</td>\n",
              "      <td>-0.494670</td>\n",
              "      <td>0.054472</td>\n",
              "    </tr>\n",
              "    <tr>\n",
              "      <th>Genre_Drama</th>\n",
              "      <td>0.020424</td>\n",
              "      <td>0.011118</td>\n",
              "      <td>0.016143</td>\n",
              "      <td>0.008637</td>\n",
              "      <td>-0.024516</td>\n",
              "      <td>0.024897</td>\n",
              "      <td>-0.016319</td>\n",
              "      <td>-0.019332</td>\n",
              "      <td>-0.011240</td>\n",
              "      <td>-0.012358</td>\n",
              "      <td>0.034996</td>\n",
              "      <td>-0.025268</td>\n",
              "      <td>0.084872</td>\n",
              "      <td>-0.031783</td>\n",
              "      <td>-0.020145</td>\n",
              "      <td>-0.010194</td>\n",
              "      <td>-0.320091</td>\n",
              "      <td>1.000000</td>\n",
              "      <td>-0.392406</td>\n",
              "      <td>0.005348</td>\n",
              "    </tr>\n",
              "    <tr>\n",
              "      <th>Genre_Thriller</th>\n",
              "      <td>0.060124</td>\n",
              "      <td>-0.066084</td>\n",
              "      <td>-0.082437</td>\n",
              "      <td>0.030138</td>\n",
              "      <td>0.055914</td>\n",
              "      <td>-0.096724</td>\n",
              "      <td>-0.017366</td>\n",
              "      <td>-0.019707</td>\n",
              "      <td>-0.022875</td>\n",
              "      <td>-0.023702</td>\n",
              "      <td>-0.039234</td>\n",
              "      <td>0.125530</td>\n",
              "      <td>-0.047950</td>\n",
              "      <td>-0.066465</td>\n",
              "      <td>-0.004067</td>\n",
              "      <td>-0.047379</td>\n",
              "      <td>-0.494670</td>\n",
              "      <td>-0.392406</td>\n",
              "      <td>1.000000</td>\n",
              "      <td>0.001826</td>\n",
              "    </tr>\n",
              "    <tr>\n",
              "      <th>3D_available_YES</th>\n",
              "      <td>0.192355</td>\n",
              "      <td>-0.120489</td>\n",
              "      <td>-0.086836</td>\n",
              "      <td>0.065540</td>\n",
              "      <td>0.167132</td>\n",
              "      <td>0.021640</td>\n",
              "      <td>0.005008</td>\n",
              "      <td>0.007657</td>\n",
              "      <td>0.008954</td>\n",
              "      <td>0.013377</td>\n",
              "      <td>0.035370</td>\n",
              "      <td>0.091796</td>\n",
              "      <td>-0.035168</td>\n",
              "      <td>-0.035927</td>\n",
              "      <td>-0.030999</td>\n",
              "      <td>-0.049067</td>\n",
              "      <td>0.054472</td>\n",
              "      <td>0.005348</td>\n",
              "      <td>0.001826</td>\n",
              "      <td>1.000000</td>\n",
              "    </tr>\n",
              "  </tbody>\n",
              "</table>\n",
              "</div>"
            ],
            "text/plain": [
              "                     Collection  Marketin_expense  Production_expense   \n",
              "Collection             1.000000         -0.309711           -0.373947  \\\n",
              "Marketin_expense      -0.309711          1.000000            0.615376   \n",
              "Production_expense    -0.373947          0.615376            1.000000   \n",
              "Multiplex_coverage     0.303971         -0.707648           -0.747325   \n",
              "Budget                 0.754353         -0.306339           -0.403334   \n",
              "Movie_length          -0.278718          0.533402            0.609577   \n",
              "Lead_ Actor_Rating    -0.110412          0.557617            0.668242   \n",
              "Lead_Actress_rating   -0.109230          0.558538            0.669666   \n",
              "Director_rating       -0.105234          0.557241            0.668155   \n",
              "Producer_rating       -0.112257          0.555388            0.672624   \n",
              "Critic_rating          0.317850         -0.177594           -0.177960   \n",
              "Trailer_views          0.678691         -0.526549           -0.537165   \n",
              "Time_taken             0.140573          0.048600            0.024382   \n",
              "Twitter_hastags        0.052651          0.049715           -0.057913   \n",
              "Avg_age_actors        -0.005188          0.024027            0.028472   \n",
              "Num_multiplex         -0.272365          0.636746            0.691225   \n",
              "Genre_Comedy          -0.036113          0.035203            0.040700   \n",
              "Genre_Drama            0.020424          0.011118            0.016143   \n",
              "Genre_Thriller         0.060124         -0.066084           -0.082437   \n",
              "3D_available_YES       0.192355         -0.120489           -0.086836   \n",
              "\n",
              "                     Multiplex_coverage    Budget  Movie_length   \n",
              "Collection                     0.303971  0.754353     -0.278718  \\\n",
              "Marketin_expense              -0.707648 -0.306339      0.533402   \n",
              "Production_expense            -0.747325 -0.403334      0.609577   \n",
              "Multiplex_coverage             1.000000  0.314842     -0.714380   \n",
              "Budget                         0.314842  1.000000     -0.233983   \n",
              "Movie_length                  -0.714380 -0.233983      1.000000   \n",
              "Lead_ Actor_Rating            -0.749236 -0.169458      0.723420   \n",
              "Lead_Actress_rating           -0.750939 -0.163343      0.724517   \n",
              "Director_rating               -0.748383 -0.162799      0.723945   \n",
              "Producer_rating               -0.749495 -0.165340      0.725696   \n",
              "Critic_rating                  0.066023  0.237713     -0.171255   \n",
              "Trailer_views                  0.524445  0.632985     -0.554295   \n",
              "Time_taken                     0.027185  0.069261     -0.005934   \n",
              "Twitter_hastags                0.016897  0.045096     -0.008140   \n",
              "Avg_age_actors                -0.078364 -0.043350      0.065164   \n",
              "Num_multiplex                 -0.914065 -0.290950      0.655003   \n",
              "Genre_Comedy                  -0.028551 -0.051806      0.075355   \n",
              "Genre_Drama                    0.008637 -0.024516      0.024897   \n",
              "Genre_Thriller                 0.030138  0.055914     -0.096724   \n",
              "3D_available_YES               0.065540  0.167132      0.021640   \n",
              "\n",
              "                     Lead_ Actor_Rating  Lead_Actress_rating  Director_rating   \n",
              "Collection                    -0.110412            -0.109230        -0.105234  \\\n",
              "Marketin_expense               0.557617             0.558538         0.557241   \n",
              "Production_expense             0.668242             0.669666         0.668155   \n",
              "Multiplex_coverage            -0.749236            -0.750939        -0.748383   \n",
              "Budget                        -0.169458            -0.163343        -0.162799   \n",
              "Movie_length                   0.723420             0.724517         0.723945   \n",
              "Lead_ Actor_Rating             1.000000             0.998014         0.997846   \n",
              "Lead_Actress_rating            0.998014             1.000000         0.998222   \n",
              "Director_rating                0.997846             0.998222         1.000000   \n",
              "Producer_rating                0.994594             0.994557         0.994754   \n",
              "Critic_rating                 -0.093442            -0.089485        -0.089439   \n",
              "Trailer_views                 -0.414194            -0.413549        -0.412502   \n",
              "Time_taken                     0.058482             0.057750         0.056154   \n",
              "Twitter_hastags               -0.004881            -0.008653        -0.007326   \n",
              "Avg_age_actors                 0.004379             0.008232         0.009379   \n",
              "Num_multiplex                  0.686076             0.687844         0.686856   \n",
              "Genre_Comedy                   0.014851             0.018377         0.015712   \n",
              "Genre_Drama                   -0.016319            -0.019332        -0.011240   \n",
              "Genre_Thriller                -0.017366            -0.019707        -0.022875   \n",
              "3D_available_YES               0.005008             0.007657         0.008954   \n",
              "\n",
              "                     Producer_rating  Critic_rating  Trailer_views   \n",
              "Collection                 -0.112257       0.317850       0.678691  \\\n",
              "Marketin_expense            0.555388      -0.177594      -0.526549   \n",
              "Production_expense          0.672624      -0.177960      -0.537165   \n",
              "Multiplex_coverage         -0.749495       0.066023       0.524445   \n",
              "Budget                     -0.165340       0.237713       0.632985   \n",
              "Movie_length                0.725696      -0.171255      -0.554295   \n",
              "Lead_ Actor_Rating          0.994594      -0.093442      -0.414194   \n",
              "Lead_Actress_rating         0.994557      -0.089485      -0.413549   \n",
              "Director_rating             0.994754      -0.089439      -0.412502   \n",
              "Producer_rating             1.000000      -0.091957      -0.417957   \n",
              "Critic_rating              -0.091957       1.000000       0.200985   \n",
              "Trailer_views              -0.417957       0.200985       1.000000   \n",
              "Time_taken                  0.047449      -0.011592       0.104337   \n",
              "Twitter_hastags            -0.013669      -0.027859       0.033717   \n",
              "Avg_age_actors              0.005637      -0.010233      -0.004870   \n",
              "Num_multiplex               0.687656      -0.047068      -0.498964   \n",
              "Genre_Comedy                0.023562       0.012654      -0.101046   \n",
              "Genre_Drama                -0.012358       0.034996      -0.025268   \n",
              "Genre_Thriller             -0.023702      -0.039234       0.125530   \n",
              "3D_available_YES            0.013377       0.035370       0.091796   \n",
              "\n",
              "                     Time_taken  Twitter_hastags  Avg_age_actors   \n",
              "Collection             0.140573         0.052651       -0.005188  \\\n",
              "Marketin_expense       0.048600         0.049715        0.024027   \n",
              "Production_expense     0.024382        -0.057913        0.028472   \n",
              "Multiplex_coverage     0.027185         0.016897       -0.078364   \n",
              "Budget                 0.069261         0.045096       -0.043350   \n",
              "Movie_length          -0.005934        -0.008140        0.065164   \n",
              "Lead_ Actor_Rating     0.058482        -0.004881        0.004379   \n",
              "Lead_Actress_rating    0.057750        -0.008653        0.008232   \n",
              "Director_rating        0.056154        -0.007326        0.009379   \n",
              "Producer_rating        0.047449        -0.013669        0.005637   \n",
              "Critic_rating         -0.011592        -0.027859       -0.010233   \n",
              "Trailer_views          0.104337         0.033717       -0.004870   \n",
              "Time_taken             1.000000         0.010841        0.035250   \n",
              "Twitter_hastags        0.010841         1.000000        0.051341   \n",
              "Avg_age_actors         0.035250         0.051341        1.000000   \n",
              "Num_multiplex         -0.056048        -0.002665        0.059602   \n",
              "Genre_Comedy          -0.054714         0.075995       -0.042941   \n",
              "Genre_Drama            0.084872        -0.031783       -0.020145   \n",
              "Genre_Thriller        -0.047950        -0.066465       -0.004067   \n",
              "3D_available_YES      -0.035168        -0.035927       -0.030999   \n",
              "\n",
              "                     Num_multiplex  Genre_Comedy  Genre_Drama  Genre_Thriller   \n",
              "Collection               -0.272365     -0.036113     0.020424        0.060124  \\\n",
              "Marketin_expense          0.636746      0.035203     0.011118       -0.066084   \n",
              "Production_expense        0.691225      0.040700     0.016143       -0.082437   \n",
              "Multiplex_coverage       -0.914065     -0.028551     0.008637        0.030138   \n",
              "Budget                   -0.290950     -0.051806    -0.024516        0.055914   \n",
              "Movie_length              0.655003      0.075355     0.024897       -0.096724   \n",
              "Lead_ Actor_Rating        0.686076      0.014851    -0.016319       -0.017366   \n",
              "Lead_Actress_rating       0.687844      0.018377    -0.019332       -0.019707   \n",
              "Director_rating           0.686856      0.015712    -0.011240       -0.022875   \n",
              "Producer_rating           0.687656      0.023562    -0.012358       -0.023702   \n",
              "Critic_rating            -0.047068      0.012654     0.034996       -0.039234   \n",
              "Trailer_views            -0.498964     -0.101046    -0.025268        0.125530   \n",
              "Time_taken               -0.056048     -0.054714     0.084872       -0.047950   \n",
              "Twitter_hastags          -0.002665      0.075995    -0.031783       -0.066465   \n",
              "Avg_age_actors            0.059602     -0.042941    -0.020145       -0.004067   \n",
              "Num_multiplex             1.000000      0.033252    -0.010194       -0.047379   \n",
              "Genre_Comedy              0.033252      1.000000    -0.320091       -0.494670   \n",
              "Genre_Drama              -0.010194     -0.320091     1.000000       -0.392406   \n",
              "Genre_Thriller           -0.047379     -0.494670    -0.392406        1.000000   \n",
              "3D_available_YES         -0.049067      0.054472     0.005348        0.001826   \n",
              "\n",
              "                     3D_available_YES  \n",
              "Collection                   0.192355  \n",
              "Marketin_expense            -0.120489  \n",
              "Production_expense          -0.086836  \n",
              "Multiplex_coverage           0.065540  \n",
              "Budget                       0.167132  \n",
              "Movie_length                 0.021640  \n",
              "Lead_ Actor_Rating           0.005008  \n",
              "Lead_Actress_rating          0.007657  \n",
              "Director_rating              0.008954  \n",
              "Producer_rating              0.013377  \n",
              "Critic_rating                0.035370  \n",
              "Trailer_views                0.091796  \n",
              "Time_taken                  -0.035168  \n",
              "Twitter_hastags             -0.035927  \n",
              "Avg_age_actors              -0.030999  \n",
              "Num_multiplex               -0.049067  \n",
              "Genre_Comedy                 0.054472  \n",
              "Genre_Drama                  0.005348  \n",
              "Genre_Thriller               0.001826  \n",
              "3D_available_YES             1.000000  "
            ]
          },
          "execution_count": 17,
          "metadata": {},
          "output_type": "execute_result"
        }
      ],
      "source": [
        "df.corr()"
      ]
    },
    {
      "cell_type": "markdown",
      "metadata": {
        "id": "eazTTlkWji1O"
      },
      "source": [
        "from the correlation analysis, we can see that the feature which is atmost correlated with the 'collection'(target) is 'Budget'."
      ]
    },
    {
      "cell_type": "markdown",
      "metadata": {
        "id": "1WOZRJLdkDDN"
      },
      "source": [
        "##Simple Linear regression"
      ]
    },
    {
      "cell_type": "code",
      "execution_count": 18,
      "metadata": {
        "colab": {
          "base_uri": "https://localhost:8080/"
        },
        "id": "8_rAS1vKTLRj",
        "outputId": "7e02ae49-892f-4a1d-aedb-1f7931355472"
      },
      "outputs": [
        {
          "name": "stdout",
          "output_type": "stream",
          "text": [
            "-70624.10545910442 [3.388584]\n"
          ]
        }
      ],
      "source": [
        "from sklearn.linear_model import LinearRegression\n",
        "lr=LinearRegression()\n",
        "y=df['Collection']\n",
        "x=df[['Budget']]\n",
        "lr.fit(x,y)\n",
        "regression_line=lr.predict(x)\n",
        "print(lr.intercept_,lr.coef_)"
      ]
    },
    {
      "cell_type": "code",
      "execution_count": 19,
      "metadata": {
        "colab": {
          "base_uri": "https://localhost:8080/",
          "height": 296
        },
        "id": "BrfGB_qNUGm9",
        "outputId": "0edefb6d-ae42-4959-c626-52fd1a0becf3"
      },
      "outputs": [
        {
          "data": {
            "text/plain": [
              "Text(0, 0.5, 'collection')"
            ]
          },
          "execution_count": 19,
          "metadata": {},
          "output_type": "execute_result"
        },
        {
          "data": {
            "image/png": "[encoded data removed]",
            "text/plain": [
              "<Figure size 640x480 with 1 Axes>"
            ]
          },
          "metadata": {},
          "output_type": "display_data"
        }
      ],
      "source": [
        "plt.scatter(x,y)\n",
        "plt.plot(x,regression_line,color='red',linewidth=4)\n",
        "plt.xlabel('Budget')\n",
        "plt.ylabel('collection')"
      ]
    },
    {
      "cell_type": "markdown",
      "metadata": {
        "id": "JW_kBnCbm9ao"
      },
      "source": [
        "##Multiple Linear Regression"
      ]
    },
    {
      "cell_type": "code",
      "execution_count": 20,
      "metadata": {
        "colab": {
          "base_uri": "https://localhost:8080/",
          "height": 288
        },
        "id": "nXX83OwSVds6",
        "outputId": "096a2f58-9d89-4b3c-b4b7-506596373a1d"
      },
      "outputs": [
        {
          "data": {
            "text/html": [
              "<div>\n",
              "<style scoped>\n",
              "    .dataframe tbody tr th:only-of-type {\n",
              "        vertical-align: middle;\n",
              "    }\n",
              "\n",
              "    .dataframe tbody tr th {\n",
              "        vertical-align: top;\n",
              "    }\n",
              "\n",
              "    .dataframe thead th {\n",
              "        text-align: right;\n",
              "    }\n",
              "</style>\n",
              "<table border=\"1\" class=\"dataframe\">\n",
              "  <thead>\n",
              "    <tr style=\"text-align: right;\">\n",
              "      <th></th>\n",
              "      <th>Marketin_expense</th>\n",
              "      <th>Production_expense</th>\n",
              "      <th>Multiplex_coverage</th>\n",
              "      <th>Budget</th>\n",
              "      <th>Movie_length</th>\n",
              "      <th>Lead_ Actor_Rating</th>\n",
              "      <th>Lead_Actress_rating</th>\n",
              "      <th>Director_rating</th>\n",
              "      <th>Producer_rating</th>\n",
              "      <th>Critic_rating</th>\n",
              "      <th>Trailer_views</th>\n",
              "      <th>Time_taken</th>\n",
              "      <th>Twitter_hastags</th>\n",
              "      <th>Avg_age_actors</th>\n",
              "      <th>Num_multiplex</th>\n",
              "      <th>Genre_Comedy</th>\n",
              "      <th>Genre_Drama</th>\n",
              "      <th>Genre_Thriller</th>\n",
              "      <th>3D_available_YES</th>\n",
              "    </tr>\n",
              "  </thead>\n",
              "  <tbody>\n",
              "    <tr>\n",
              "      <th>0</th>\n",
              "      <td>3.050523</td>\n",
              "      <td>59.62</td>\n",
              "      <td>0.462</td>\n",
              "      <td>36524.125</td>\n",
              "      <td>138.7</td>\n",
              "      <td>7.825</td>\n",
              "      <td>8.095</td>\n",
              "      <td>7.910</td>\n",
              "      <td>7.995</td>\n",
              "      <td>7.94</td>\n",
              "      <td>527367</td>\n",
              "      <td>109.60</td>\n",
              "      <td>223.840</td>\n",
              "      <td>23</td>\n",
              "      <td>494</td>\n",
              "      <td>False</td>\n",
              "      <td>False</td>\n",
              "      <td>True</td>\n",
              "      <td>True</td>\n",
              "    </tr>\n",
              "    <tr>\n",
              "      <th>1</th>\n",
              "      <td>3.070199</td>\n",
              "      <td>69.14</td>\n",
              "      <td>0.531</td>\n",
              "      <td>35668.655</td>\n",
              "      <td>152.4</td>\n",
              "      <td>7.505</td>\n",
              "      <td>7.650</td>\n",
              "      <td>7.440</td>\n",
              "      <td>7.470</td>\n",
              "      <td>7.44</td>\n",
              "      <td>494055</td>\n",
              "      <td>146.64</td>\n",
              "      <td>243.456</td>\n",
              "      <td>42</td>\n",
              "      <td>462</td>\n",
              "      <td>False</td>\n",
              "      <td>True</td>\n",
              "      <td>False</td>\n",
              "      <td>False</td>\n",
              "    </tr>\n",
              "    <tr>\n",
              "      <th>2</th>\n",
              "      <td>3.070181</td>\n",
              "      <td>69.14</td>\n",
              "      <td>0.531</td>\n",
              "      <td>39912.675</td>\n",
              "      <td>134.6</td>\n",
              "      <td>7.485</td>\n",
              "      <td>7.570</td>\n",
              "      <td>7.495</td>\n",
              "      <td>7.515</td>\n",
              "      <td>7.44</td>\n",
              "      <td>547051</td>\n",
              "      <td>147.88</td>\n",
              "      <td>924.000</td>\n",
              "      <td>38</td>\n",
              "      <td>458</td>\n",
              "      <td>True</td>\n",
              "      <td>False</td>\n",
              "      <td>False</td>\n",
              "      <td>False</td>\n",
              "    </tr>\n",
              "    <tr>\n",
              "      <th>3</th>\n",
              "      <td>3.074885</td>\n",
              "      <td>59.36</td>\n",
              "      <td>0.542</td>\n",
              "      <td>38873.890</td>\n",
              "      <td>119.3</td>\n",
              "      <td>6.895</td>\n",
              "      <td>7.035</td>\n",
              "      <td>6.920</td>\n",
              "      <td>7.020</td>\n",
              "      <td>8.26</td>\n",
              "      <td>516279</td>\n",
              "      <td>185.36</td>\n",
              "      <td>225.344</td>\n",
              "      <td>45</td>\n",
              "      <td>472</td>\n",
              "      <td>False</td>\n",
              "      <td>True</td>\n",
              "      <td>False</td>\n",
              "      <td>True</td>\n",
              "    </tr>\n",
              "    <tr>\n",
              "      <th>4</th>\n",
              "      <td>3.108212</td>\n",
              "      <td>59.36</td>\n",
              "      <td>0.542</td>\n",
              "      <td>39701.585</td>\n",
              "      <td>127.7</td>\n",
              "      <td>6.920</td>\n",
              "      <td>7.070</td>\n",
              "      <td>6.815</td>\n",
              "      <td>7.070</td>\n",
              "      <td>8.26</td>\n",
              "      <td>531448</td>\n",
              "      <td>176.48</td>\n",
              "      <td>225.792</td>\n",
              "      <td>55</td>\n",
              "      <td>395</td>\n",
              "      <td>False</td>\n",
              "      <td>True</td>\n",
              "      <td>False</td>\n",
              "      <td>False</td>\n",
              "    </tr>\n",
              "  </tbody>\n",
              "</table>\n",
              "</div>"
            ],
            "text/plain": [
              "   Marketin_expense  Production_expense  Multiplex_coverage     Budget   \n",
              "0          3.050523               59.62               0.462  36524.125  \\\n",
              "1          3.070199               69.14               0.531  35668.655   \n",
              "2          3.070181               69.14               0.531  39912.675   \n",
              "3          3.074885               59.36               0.542  38873.890   \n",
              "4          3.108212               59.36               0.542  39701.585   \n",
              "\n",
              "   Movie_length  Lead_ Actor_Rating  Lead_Actress_rating  Director_rating   \n",
              "0         138.7               7.825                8.095            7.910  \\\n",
              "1         152.4               7.505                7.650            7.440   \n",
              "2         134.6               7.485                7.570            7.495   \n",
              "3         119.3               6.895                7.035            6.920   \n",
              "4         127.7               6.920                7.070            6.815   \n",
              "\n",
              "   Producer_rating  Critic_rating  Trailer_views  Time_taken  Twitter_hastags   \n",
              "0            7.995           7.94         527367      109.60          223.840  \\\n",
              "1            7.470           7.44         494055      146.64          243.456   \n",
              "2            7.515           7.44         547051      147.88          924.000   \n",
              "3            7.020           8.26         516279      185.36          225.344   \n",
              "4            7.070           8.26         531448      176.48          225.792   \n",
              "\n",
              "   Avg_age_actors  Num_multiplex  Genre_Comedy  Genre_Drama  Genre_Thriller   \n",
              "0              23            494         False        False            True  \\\n",
              "1              42            462         False         True           False   \n",
              "2              38            458          True        False           False   \n",
              "3              45            472         False         True           False   \n",
              "4              55            395         False         True           False   \n",
              "\n",
              "   3D_available_YES  \n",
              "0              True  \n",
              "1             False  \n",
              "2             False  \n",
              "3              True  \n",
              "4             False  "
            ]
          },
          "execution_count": 20,
          "metadata": {},
          "output_type": "execute_result"
        }
      ],
      "source": [
        "x_multi=df.drop(\"Collection\",axis=1)\n",
        "x_multi.head()"
      ]
    },
    {
      "cell_type": "code",
      "execution_count": 21,
      "metadata": {
        "id": "n72anFpxZ6tW"
      },
      "outputs": [],
      "source": [
        "y_multi=df['Collection']"
      ]
    },
    {
      "cell_type": "code",
      "execution_count": 22,
      "metadata": {
        "colab": {
          "base_uri": "https://localhost:8080/"
        },
        "id": "B6Ll8Pb3aWv2",
        "outputId": "b662c9b7-ce6c-4791-8eb7-b0930a18d028"
      },
      "outputs": [
        {
          "name": "stdout",
          "output_type": "stream",
          "text": [
            "-159361.76886942895 [ 9.66671082e+02 -6.25478537e+01  2.65168392e+04  2.15738234e+00\n",
            " -3.60671093e+01  8.53583151e+03 -1.40727631e+04  1.21806614e+04\n",
            " -2.63253967e+03  3.67503970e+03  1.00653022e-01  3.40347440e+01\n",
            "  5.55368261e+00  5.09699981e+01  1.56458024e+01  4.17396939e+03\n",
            "  4.47170229e+03  3.20132381e+03  2.47259466e+03]\n"
          ]
        }
      ],
      "source": [
        "#model taining without splitting\n",
        "lr.fit(x_multi,y_multi)\n",
        "print(lr.intercept_,lr.coef_)"
      ]
    },
    {
      "cell_type": "code",
      "execution_count": 23,
      "metadata": {
        "id": "59Q3-ts4a1Aq"
      },
      "outputs": [],
      "source": [
        "#Splitting the datainto train and test data\n",
        "from sklearn.model_selection import train_test_split\n",
        "x_train,x_test,y_train,y_test=train_test_split(x_multi,y_multi,test_size=0.2,random_state=0)"
      ]
    },
    {
      "cell_type": "code",
      "execution_count": 24,
      "metadata": {
        "colab": {
          "base_uri": "https://localhost:8080/"
        },
        "id": "5l2fe15Gc4tx",
        "outputId": "37d71304-6de6-443a-d921-98bcfdea627d"
      },
      "outputs": [
        {
          "data": {
            "text/plain": [
              "array([45488.53544782, 54358.2786433 , 67145.76839518, 62049.59116146,\n",
              "       38457.69377523, 31682.95458897, 49841.28055941, 74948.4642263 ,\n",
              "       10671.57552664, 23480.3775603 , 44332.22143224, 29666.04230181,\n",
              "       51504.70956987, 54463.76135677, 36708.58392173, 33673.12805414,\n",
              "       48859.26214456, 27480.75340515, 45188.8305101 , 62087.90804133,\n",
              "       53833.26983157, 81817.99161128, 38300.70384264, 60410.17265884,\n",
              "       59743.50022124, 54331.43601473, 49476.51896328, 44485.88069556,\n",
              "       39811.87249076, 48334.38418292, 44698.26207927, 69098.39070335,\n",
              "       46925.82034465, 83286.15091814, 57971.48545954, 46934.94055094,\n",
              "       64750.23530749, 57584.40230335, 68773.26005041, 16511.05594825,\n",
              "       53894.8998171 , 48120.44626487, 46438.13453718, 51498.10693162,\n",
              "       34908.4104853 , 32088.97185921, -4849.27043983, 35576.97397824,\n",
              "       51025.05636312, 78458.12562102, 40910.34310118, 16190.38289094,\n",
              "       45628.69350475, 48047.98818486, 77287.12251218, 51778.0959102 ,\n",
              "       57303.04220642, 35912.71287504, 37182.2290213 , 42202.26213706,\n",
              "       44527.14483971, 55677.9124057 , 65748.51987115, 32461.59098061,\n",
              "       53808.65872169, 50396.05707858, 31098.52069277, 51009.85134364,\n",
              "       46601.95467897, 31177.42081499, 37469.99901126, 72621.67075028,\n",
              "       42404.4878391 , 26366.03986559, 42078.69628949, 50577.00325089,\n",
              "       45772.96165894, 68085.68845915, 46972.44996106, 52696.5851931 ])"
            ]
          },
          "execution_count": 24,
          "metadata": {},
          "output_type": "execute_result"
        }
      ],
      "source": [
        "#model training and prediction for test data\n",
        "lr.fit(x_train,y_train)\n",
        "y_pred_test=lr.predict(x_test)\n",
        "y_pred_test"
      ]
    },
    {
      "cell_type": "code",
      "execution_count": 25,
      "metadata": {
        "colab": {
          "base_uri": "https://localhost:8080/"
        },
        "id": "JdCKOFAReKZa",
        "outputId": "d9fe4086-09b8-45e4-ef2f-4b63e4b8cb68"
      },
      "outputs": [
        {
          "data": {
            "text/plain": [
              "array([40296.01271683, 44337.12892649, 63647.30192002, 36794.84163897,\n",
              "       60179.7868317 , 69965.72163256, 40647.56994217, 10418.61077974,\n",
              "       41109.1512058 , 57743.28737797, 47938.98954777, 71613.82714595,\n",
              "       51815.58966199, 19524.29933953, 64352.07780736, 31643.21375148,\n",
              "       41673.54233254, 32697.67264071, 70787.79124058, 76128.29070427,\n",
              "       49724.65244587, 43663.51715062, 43854.00547863, 59012.11353287,\n",
              "       85846.6210309 , 42466.33352659, 52986.79051695, 51069.50100756,\n",
              "       36306.12121174, 61510.94102081, 53218.42153641, 66777.37054085,\n",
              "       47060.2731979 , 43485.55057097, 28593.76495157, 37723.86971971,\n",
              "       60981.13042758, 27986.64185835, 58454.36636691, 50816.73703948,\n",
              "       57916.97940885, 56519.66726665, 64014.25240833, 80980.61724593,\n",
              "       41768.08179311, 28244.17374044, 33601.30642279, 50656.43297331,\n",
              "       50461.00330099, 50334.16889198, 41541.55574075, 47254.8531248 ,\n",
              "       42385.90749382, 57400.18185568, 42819.1086024 , 58328.59339747,\n",
              "       53366.0898195 , 63505.71283442, 48781.73580502, 35915.85394833,\n",
              "       56087.73171033, 75177.56837754, 25269.03059104, 46840.56470858,\n",
              "       62858.85341275, 46284.6630058 , 38242.4947415 , 29877.89027148,\n",
              "       54508.87910419, 44116.39472676, 43243.91988938, 40029.79494072,\n",
              "       53598.43559499, 32479.71273914, 46934.55933031, 32588.66579267,\n",
              "       65779.9713806 , 27235.5559304 , 67038.99523533, 62896.66516072,\n",
              "       69058.77387678, 40565.70228216, 36507.71902847, 41043.20817435,\n",
              "       75781.81355518, 32762.22046451, 67457.39585597, 78630.34471678,\n",
              "       60733.61364416, 31536.76651646, 46544.93823102, 71573.97483762,\n",
              "       57979.8837101 , 43775.02310178, 49330.75958127, 54532.56066562,\n",
              "       49840.15263797, 44975.37434804, 57486.68408904, 38477.02364141,\n",
              "       89402.35202695, 54234.7181923 , 47479.77758896, 36127.08840483,\n",
              "       61458.2475069 , 41096.18127279, 46967.00000731, 53024.34138132,\n",
              "       46419.23085269, 49474.42501303, 49972.69787282, 49607.01720521,\n",
              "       40668.6653273 , 35637.23413959, 72294.382335  , 49441.73627817,\n",
              "       32604.26632752, 41468.84346996, 45531.78627396, 41685.88640365,\n",
              "       29899.06549296, 53019.64898771, 50672.19339664, 62512.30056934,\n",
              "       59389.39284351, 63291.68149039, 49949.73173896, 46521.83645472,\n",
              "       77103.15320789, 14310.6049512 , 47116.59851254, 35216.22706258,\n",
              "       47217.39428811, 48220.62873862, 40677.52696827, 31092.47053489,\n",
              "       54597.55050311, 60105.53486217, 80408.04449444, 22287.23831991,\n",
              "       28040.60530253, 51785.63942463, 68693.41659353, 34498.94473224,\n",
              "       52156.78861986, 40996.28321041, 57243.39353005, 37852.98176401,\n",
              "       46858.33236283, 41277.58921617, 26383.5709411 , 48639.2084279 ,\n",
              "        9621.38834229,  7492.6147327 , 84351.69947944, 65203.48045129,\n",
              "       38615.99196613, 74918.67007856, 45825.51601572, 69036.31403394,\n",
              "       31349.92790977, 39270.23248561, 45120.57885996, 67378.80443068,\n",
              "       36884.60624686, 58754.18958534, 42199.96922457, 29744.2548982 ,\n",
              "       71218.60048676, 38266.34009845, 51286.58222512, 41939.13715493,\n",
              "       46531.56627972, 46400.8543773 , 44385.00117074, 45923.34824992,\n",
              "       43176.52743119, 44413.87831758, 70768.30980018, 43015.1475336 ,\n",
              "       49879.13828727, 58294.56602459, 37922.64242488, 76599.41512616,\n",
              "       67266.06438013, 66588.58506123, 60457.70321342, 42443.82179988,\n",
              "       48327.43207689, 46156.29174585, 54269.11896161, 33500.30855885,\n",
              "       33092.50986026, 74137.1602352 , 34947.36814304, 62101.26312156,\n",
              "       69428.36208302, 40051.42476575, 56815.59952053, 41619.45066319,\n",
              "       60060.58372332, 47635.48483304, 30283.82728766, 36991.11714765,\n",
              "       52767.0508465 , 38831.22171326, 28372.65267101, 27418.48955386,\n",
              "       37599.86094689, 31863.24676558, 42338.22889903, 33883.89209856,\n",
              "       56559.21251048, 47572.32778412, 51950.84452123, 47451.60417317,\n",
              "       60102.77657615, 32182.50430025, 50685.01993293, 56215.43104317,\n",
              "       50742.73939993, 37588.79172448, 77122.21609816, 10456.01835905,\n",
              "       57588.65340464, 65326.03040404, 45004.2836544 , 64459.41654165,\n",
              "       57487.44002625, 43714.17620021, 44066.20278055, 45748.97644205,\n",
              "       46645.8167382 , 13375.47013238, 33657.58596607, 66500.87833673,\n",
              "       63123.12938247, 24312.51105941, 25453.84398557, 71728.05671028,\n",
              "       39975.04833092, 51305.27581253, 16532.72879613, 82321.72038998,\n",
              "       52614.73828009, 77502.37208166, 43478.0355201 , 44323.01815678,\n",
              "       41037.83267549, 34710.25666028, 51602.98342347, 49658.75658591,\n",
              "       88152.69185691, 46954.3291944 , 70522.96311179, 61660.73690354,\n",
              "       52472.72305573, 94469.78242372, 36499.19983981, 51080.66054388,\n",
              "       43703.07142083, 48023.15849812, 71533.17878959, 48877.26122623,\n",
              "       44861.30932938, 49671.13888433, 50513.19058831, 48857.57789528,\n",
              "       66807.38191914, 48409.54365654, 64328.30158082, 92396.86581683,\n",
              "       36656.33364759, 31624.39614796, 74741.76129471, 36574.30055724,\n",
              "       24233.24086996, 29279.03306373, 49637.06469706, 50372.10300022,\n",
              "       40535.37673033, 34880.87869257, 13631.23256986, 57343.81108731,\n",
              "       66478.71058867, 59877.05154309, 65069.20461341, 46451.25284644,\n",
              "       42398.11964449, 55812.19785913, 56851.54804411, 37104.9576238 ,\n",
              "       47908.9266508 , 38878.44820402, 52441.51477847, 35018.38742912,\n",
              "       49417.25920967, 41696.34287816,  4813.13511443, 50756.83598395,\n",
              "       10805.54987198, 65075.76401799, 53307.67510328, 55244.94866427,\n",
              "       63794.35781942, 51119.26885006, 56121.86172263, 59826.46757958,\n",
              "       49953.50898721, 54633.04243857, 19570.52384162, 38199.39106414,\n",
              "       39344.16641562, 81227.53050989, 58784.95629609, 39148.65816955,\n",
              "       65560.81167801, 43413.71782734, 33021.14483129, 39080.58172075])"
            ]
          },
          "execution_count": 25,
          "metadata": {},
          "output_type": "execute_result"
        }
      ],
      "source": [
        "#prediction for train data\n",
        "y_pred_train=lr.predict(x_train)\n",
        "y_pred_train"
      ]
    },
    {
      "cell_type": "code",
      "execution_count": 26,
      "metadata": {
        "colab": {
          "base_uri": "https://localhost:8080/"
        },
        "id": "xn3LmAmcdX0z",
        "outputId": "f6af469f-ccdb-4fb3-8535-4bdc8f8a6473"
      },
      "outputs": [
        {
          "data": {
            "text/plain": [
              "0.629458406716369"
            ]
          },
          "execution_count": 26,
          "metadata": {},
          "output_type": "execute_result"
        }
      ],
      "source": [
        "#Accuracy of the model using r square method\n",
        "from sklearn.metrics import r2_score\n",
        "r2_score(y_test,y_pred_test)"
      ]
    },
    {
      "cell_type": "code",
      "execution_count": 27,
      "metadata": {
        "colab": {
          "base_uri": "https://localhost:8080/"
        },
        "id": "bqze4b2AdoXH",
        "outputId": "dfd3bdfd-babd-4fed-878a-f7ca38e111e2"
      },
      "outputs": [
        {
          "data": {
            "text/plain": [
              "0.7032392467424771"
            ]
          },
          "execution_count": 27,
          "metadata": {},
          "output_type": "execute_result"
        }
      ],
      "source": [
        "r2_score(y_train,y_pred_train)"
      ]
    },
    {
      "cell_type": "markdown",
      "metadata": {
        "id": "pxx9rdHhofuz"
      },
      "source": [
        "##Linear models other than OLS (Ordinary least squares)"
      ]
    },
    {
      "cell_type": "markdown",
      "metadata": {
        "id": "gxQLNAEGpOwB"
      },
      "source": [
        "####Standardization of data"
      ]
    },
    {
      "cell_type": "code",
      "execution_count": 28,
      "metadata": {
        "id": "7ZXlNeAweftd"
      },
      "outputs": [],
      "source": [
        "from sklearn.preprocessing import StandardScaler\n",
        "sc=StandardScaler()\n",
        "x_train_s=sc.fit_transform(x_train)\n",
        "x_test_s=sc.fit_transform(x_test)"
      ]
    },
    {
      "cell_type": "markdown",
      "metadata": {
        "id": "BNsEmapzpVzu"
      },
      "source": [
        "##Shrinkage methods:\n",
        "###1.Ridge"
      ]
    },
    {
      "cell_type": "code",
      "execution_count": 29,
      "metadata": {
        "colab": {
          "base_uri": "https://localhost:8080/"
        },
        "id": "Olj_Ng8ulTe3",
        "outputId": "3bcb8f59-c1ee-4326-feb6-c952530aba98"
      },
      "outputs": [
        {
          "data": {
            "text/plain": [
              "array([46476.89368336, 55171.44958513, 68087.95396647, 64294.11329753,\n",
              "       40618.54867448, 33251.8886704 , 50549.05425177, 75145.16479465,\n",
              "       12807.82863039, 23948.81988917, 45190.76696496, 30322.32651643,\n",
              "       52191.08070669, 55742.59519036, 37730.5987516 , 35906.81790053,\n",
              "       50344.33798305, 29424.36817545, 46665.25568393, 63755.90684701,\n",
              "       55406.00847628, 83689.58725283, 39578.11081731, 62938.66728494,\n",
              "       60032.10593604, 55427.80627091, 51305.50242923, 45862.74022745,\n",
              "       41596.32088238, 49451.3879843 , 45248.14765387, 70063.64171512,\n",
              "       48268.73702111, 86373.22901507, 58993.10429251, 48673.09171808,\n",
              "       65187.90776484, 58284.06105986, 70529.05171182, 19643.46676431,\n",
              "       56562.84162096, 49545.03652992, 47329.11468561, 52716.80411284,\n",
              "       35395.93415325, 34300.35633012, -3512.31754669, 37010.40735489,\n",
              "       52080.90609385, 80437.6380752 , 42914.95048787, 17199.02314522,\n",
              "       46029.94760216, 48646.3606515 , 78093.32768666, 51837.80027793,\n",
              "       59263.61785434, 37535.16625031, 38821.83419345, 42850.79068548,\n",
              "       47201.49128987, 57713.44131744, 67671.60335295, 34010.12918811,\n",
              "       55458.11678033, 51668.42466188, 33011.45383581, 52651.69460268,\n",
              "       46925.77634934, 31505.90075162, 38751.27472268, 73142.9394788 ,\n",
              "       43616.03847094, 28526.91175363, 43306.45155085, 50727.78930822,\n",
              "       46073.35594772, 68617.40095389, 48645.83001415, 53385.98898261])"
            ]
          },
          "execution_count": 29,
          "metadata": {},
          "output_type": "execute_result"
        }
      ],
      "source": [
        "from sklearn.linear_model import Ridge\n",
        "rd=Ridge(alpha=0.5)\n",
        "rd.fit(x_train_s,y_train)\n",
        "y_pred_s=rd.predict(x_test_s)\n",
        "y_pred_s"
      ]
    },
    {
      "cell_type": "code",
      "execution_count": 30,
      "metadata": {
        "colab": {
          "base_uri": "https://localhost:8080/"
        },
        "id": "7sEyuBPCmBmV",
        "outputId": "ee0c5f42-8cde-4430-9911-2a3b93fa9f35"
      },
      "outputs": [
        {
          "data": {
            "text/plain": [
              "0.6357729421143091"
            ]
          },
          "execution_count": 30,
          "metadata": {},
          "output_type": "execute_result"
        }
      ],
      "source": [
        "#accuracy \n",
        "r2_score(y_test,y_pred_s)"
      ]
    },
    {
      "cell_type": "markdown",
      "metadata": {
        "id": "el90y_1Tpr5e"
      },
      "source": [
        "To find the alpha value for which r^2 value is maximum, we use validation curve"
      ]
    },
    {
      "cell_type": "code",
      "execution_count": 31,
      "metadata": {
        "id": "t9xeGlyXmdF3"
      },
      "outputs": [],
      "source": [
        "from sklearn.model_selection import validation_curve"
      ]
    },
    {
      "cell_type": "code",
      "execution_count": 32,
      "metadata": {
        "colab": {
          "base_uri": "https://localhost:8080/"
        },
        "id": "osW8xdKgoEBo",
        "outputId": "c6c9ada6-cd4e-47bb-ef88-66e554623e59"
      },
      "outputs": [
        {
          "data": {
            "text/plain": [
              "array([1.00000000e-02, 1.26185688e-02, 1.59228279e-02, 2.00923300e-02,\n",
              "       2.53536449e-02, 3.19926714e-02, 4.03701726e-02, 5.09413801e-02,\n",
              "       6.42807312e-02, 8.11130831e-02, 1.02353102e-01, 1.29154967e-01,\n",
              "       1.62975083e-01, 2.05651231e-01, 2.59502421e-01, 3.27454916e-01,\n",
              "       4.13201240e-01, 5.21400829e-01, 6.57933225e-01, 8.30217568e-01,\n",
              "       1.04761575e+00, 1.32194115e+00, 1.66810054e+00, 2.10490414e+00,\n",
              "       2.65608778e+00, 3.35160265e+00, 4.22924287e+00, 5.33669923e+00,\n",
              "       6.73415066e+00, 8.49753436e+00, 1.07226722e+01, 1.35304777e+01,\n",
              "       1.70735265e+01, 2.15443469e+01, 2.71858824e+01, 3.43046929e+01,\n",
              "       4.32876128e+01, 5.46227722e+01, 6.89261210e+01, 8.69749003e+01,\n",
              "       1.09749877e+02, 1.38488637e+02, 1.74752840e+02, 2.20513074e+02,\n",
              "       2.78255940e+02, 3.51119173e+02, 4.43062146e+02, 5.59081018e+02,\n",
              "       7.05480231e+02, 8.90215085e+02, 1.12332403e+03, 1.41747416e+03,\n",
              "       1.78864953e+03, 2.25701972e+03, 2.84803587e+03, 3.59381366e+03,\n",
              "       4.53487851e+03, 5.72236766e+03, 7.22080902e+03, 9.11162756e+03,\n",
              "       1.14975700e+04, 1.45082878e+04, 1.83073828e+04, 2.31012970e+04,\n",
              "       2.91505306e+04, 3.67837977e+04, 4.64158883e+04, 5.85702082e+04,\n",
              "       7.39072203e+04, 9.32603347e+04, 1.17681195e+05, 1.48496826e+05,\n",
              "       1.87381742e+05, 2.36448941e+05, 2.98364724e+05, 3.76493581e+05,\n",
              "       4.75081016e+05, 5.99484250e+05, 7.56463328e+05, 9.54548457e+05,\n",
              "       1.20450354e+06, 1.51991108e+06, 1.91791026e+06, 2.42012826e+06,\n",
              "       3.05385551e+06, 3.85352859e+06, 4.86260158e+06, 6.13590727e+06,\n",
              "       7.74263683e+06, 9.77009957e+06, 1.23284674e+07, 1.55567614e+07,\n",
              "       1.96304065e+07, 2.47707636e+07, 3.12571585e+07, 3.94420606e+07,\n",
              "       4.97702356e+07, 6.28029144e+07, 7.92482898e+07, 1.00000000e+08])"
            ]
          },
          "execution_count": 32,
          "metadata": {},
          "output_type": "execute_result"
        }
      ],
      "source": [
        "param_range=np.logspace(-2,8,100)\n",
        "param_range"
      ]
    },
    {
      "cell_type": "code",
      "execution_count": 33,
      "metadata": {
        "id": "pkNNn5WjoS7p"
      },
      "outputs": [],
      "source": [
        "train_score,test_score=validation_curve(Ridge(),x_train_s,y_train,param_name=\"alpha\",param_range=param_range,scoring='r2')"
      ]
    },
    {
      "cell_type": "code",
      "execution_count": 34,
      "metadata": {
        "colab": {
          "base_uri": "https://localhost:8080/"
        },
        "id": "aLoRuucBo-jj",
        "outputId": "6b4fbc3a-dc79-452c-f0ae-b15518bad28f"
      },
      "outputs": [
        {
          "name": "stdout",
          "output_type": "stream",
          "text": [
            "[[7.36342052e-01 6.95485976e-01 6.90438115e-01 6.79608641e-01\n",
            "  7.47544918e-01]\n",
            " [7.36341888e-01 6.95485186e-01 6.90437301e-01 6.79607548e-01\n",
            "  7.47543956e-01]\n",
            " [7.36341631e-01 6.95483950e-01 6.90436029e-01 6.79605839e-01\n",
            "  7.47542451e-01]\n",
            " [7.36341229e-01 6.95482026e-01 6.90434050e-01 6.79603179e-01\n",
            "  7.47540107e-01]\n",
            " [7.36340603e-01 6.95479048e-01 6.90430989e-01 6.79599063e-01\n",
            "  7.47536478e-01]\n",
            " [7.36339633e-01 6.95474471e-01 6.90426287e-01 6.79592737e-01\n",
            "  7.47530899e-01]\n",
            " [7.36338138e-01 6.95467496e-01 6.90419129e-01 6.79583100e-01\n",
            "  7.47522394e-01]\n",
            " [7.36335855e-01 6.95456977e-01 6.90408348e-01 6.79568572e-01\n",
            "  7.47509562e-01]\n",
            " [7.36332399e-01 6.95441316e-01 6.90392319e-01 6.79546950e-01\n",
            "  7.47490446e-01]\n",
            " [7.36327226e-01 6.95418355e-01 6.90368859e-01 6.79515257e-01\n",
            "  7.47462398e-01]\n",
            " [7.36319581e-01 6.95385295e-01 6.90335159e-01 6.79469640e-01\n",
            "  7.47421981e-01]\n",
            " [7.36308452e-01 6.95338701e-01 6.90287795e-01 6.79405363e-01\n",
            "  7.47364957e-01]\n",
            " [7.36292517e-01 6.95274626e-01 6.90222887e-01 6.79316974e-01\n",
            "  7.47286443e-01]\n",
            " [7.36270119e-01 6.95188926e-01 6.90136453e-01 6.79198728e-01\n",
            "  7.47181285e-01]\n",
            " [7.36239251e-01 6.95077778e-01 6.90024971e-01 6.79045266e-01\n",
            "  7.47044694e-01]\n",
            " [7.36197589e-01 6.94938329e-01 6.89886085e-01 6.78852486e-01\n",
            "  7.46873059e-01]\n",
            " [7.36142547e-01 6.94769368e-01 6.89719305e-01 6.78618419e-01\n",
            "  7.46664804e-01]\n",
            " [7.36071397e-01 6.94571775e-01 6.89526472e-01 6.78343854e-01\n",
            "  7.46421007e-01]\n",
            " [7.35981425e-01 6.94348612e-01 6.89311771e-01 6.78032483e-01\n",
            "  7.46145587e-01]\n",
            " [7.35870157e-01 6.94104748e-01 6.89081210e-01 6.77690509e-01\n",
            "  7.45844930e-01]\n",
            " [7.35735613e-01 6.93846136e-01 6.88841631e-01 6.77325813e-01\n",
            "  7.45527045e-01]\n",
            " [7.35576538e-01 6.93578909e-01 6.88599476e-01 6.76946949e-01\n",
            "  7.45200482e-01]\n",
            " [7.35392466e-01 6.93308522e-01 6.88359564e-01 6.76562167e-01\n",
            "  7.44873242e-01]\n",
            " [7.35183473e-01 6.93039014e-01 6.88124071e-01 6.76178565e-01\n",
            "  7.44551850e-01]\n",
            " [7.34949477e-01 6.92772409e-01 6.87891756e-01 6.75801336e-01\n",
            "  7.44240592e-01]\n",
            " [7.34689065e-01 6.92508145e-01 6.87657388e-01 6.75432973e-01\n",
            "  7.43940841e-01]\n",
            " [7.34397958e-01 6.92242454e-01 6.87411234e-01 6.75072367e-01\n",
            "  7.43650349e-01]\n",
            " [7.34067251e-01 6.91967626e-01 6.87138494e-01 6.74713706e-01\n",
            "  7.43362364e-01]\n",
            " [7.33681572e-01 6.91671068e-01 6.86818575e-01 6.74345135e-01\n",
            "  7.43064411e-01]\n",
            " [7.33217104e-01 6.91334052e-01 6.86424054e-01 6.73947012e-01\n",
            "  7.42736540e-01]\n",
            " [7.32639262e-01 6.90929902e-01 6.85919141e-01 6.73489533e-01\n",
            "  7.42348741e-01]\n",
            " [7.31899565e-01 6.90421256e-01 6.85257227e-01 6.72929340e-01\n",
            "  7.41857177e-01]\n",
            " [7.30931129e-01 6.89755877e-01 6.84376907e-01 6.72204675e-01\n",
            "  7.41198804e-01]\n",
            " [7.29642141e-01 6.88860440e-01 6.83195672e-01 6.71228600e-01\n",
            "  7.40283915e-01]\n",
            " [7.27906737e-01 6.87631774e-01 6.81600474e-01 6.69879856e-01\n",
            "  7.38986253e-01]\n",
            " [7.25553025e-01 6.85925310e-01 6.79434731e-01 6.67991241e-01\n",
            "  7.37130563e-01]\n",
            " [7.22348524e-01 6.83541009e-01 6.76482151e-01 6.65335930e-01\n",
            "  7.34478076e-01]\n",
            " [7.17984338e-01 6.80207935e-01 6.72449097e-01 6.61613216e-01\n",
            "  7.30711509e-01]\n",
            " [7.12061007e-01 6.75570002e-01 6.66949107e-01 6.56436815e-01\n",
            "  7.25422819e-01]\n",
            " [7.04081079e-01 6.69177205e-01 6.59495405e-01 6.49331021e-01\n",
            "  7.18109029e-01]\n",
            " [6.93455521e-01 6.60488675e-01 6.49509240e-01 6.39741961e-01\n",
            "  7.08183299e-01]\n",
            " [6.79532199e-01 6.48895191e-01 6.36352551e-01 6.27071823e-01\n",
            "  6.95008874e-01]\n",
            " [6.61653409e-01 6.33768075e-01 6.19391208e-01 6.10741320e-01\n",
            "  6.77961111e-01]\n",
            " [6.39244296e-01 6.14537040e-01 5.98088439e-01 5.90278590e-01\n",
            "  6.56516176e-01]\n",
            " [6.11924152e-01 5.90790791e-01 5.72116982e-01 5.65421466e-01\n",
            "  6.30354544e-01]\n",
            " [5.79619611e-01 5.62382307e-01 5.41465667e-01 5.36208363e-01\n",
            "  5.99456118e-01]\n",
            " [5.42647966e-01 5.29510626e-01 5.06507911e-01 5.03027506e-01\n",
            "  5.64157481e-01]\n",
            " [5.01738298e-01 4.92749433e-01 4.68003206e-01 4.66601268e-01\n",
            "  5.25146909e-01]\n",
            " [4.57972882e-01 4.53004764e-01 4.27021029e-01 4.27902505e-01\n",
            "  4.83390968e-01]\n",
            " [4.12657933e-01 4.11407321e-01 3.84803534e-01 3.88024818e-01\n",
            "  4.40011111e-01]\n",
            " [3.67158208e-01 3.69168502e-01 3.42605395e-01 3.48045275e-01\n",
            "  3.96146903e-01]\n",
            " [3.22740353e-01 3.27440435e-01 3.01554155e-01 3.08917058e-01\n",
            "  3.52843702e-01]\n",
            " [2.80460359e-01 2.87213217e-01 2.62560757e-01 2.71412111e-01\n",
            "  3.10986722e-01]\n",
            " [2.41108559e-01 2.49262868e-01 2.26286804e-01 2.36111256e-01\n",
            "  2.71280708e-01]\n",
            " [2.05204666e-01 2.14143260e-01 1.93155692e-01 2.03423538e-01\n",
            "  2.34258236e-01]\n",
            " [1.73024659e-01 1.82204621e-01 1.63386893e-01 1.73613906e-01\n",
            "  2.00296765e-01]\n",
            " [1.44641819e-01 1.53621988e-01 1.37035965e-01 1.46825973e-01\n",
            "  1.69632451e-01]\n",
            " [1.19970503e-01 1.28424148e-01 1.14031153e-01 1.23097055e-01\n",
            "  1.42369325e-01]\n",
            " [9.88075952e-02 1.06520735e-01 9.42046477e-02 1.02369548e-01\n",
            "  1.18488706e-01]\n",
            " [8.08700237e-02 8.77284777e-02 7.73198561e-02 8.45038298e-02\n",
            "  9.78638950e-02]\n",
            " [6.58277512e-02 7.17974560e-02 6.30960270e-02 6.92952168e-02\n",
            "  8.02816596e-02]\n",
            " [5.33315339e-02 5.84367281e-02 5.12303629e-02 5.64942405e-02\n",
            "  6.54683456e-02]\n",
            " [4.30348068e-02 4.73376193e-02 4.14168494e-02 4.58275800e-02\n",
            "  5.31166796e-02]\n",
            " [3.46094659e-02 3.81929812e-02 3.33609642e-02 3.70168575e-02\n",
            "  4.29096129e-02]\n",
            " [2.77559271e-02 3.07114597e-02 2.67899207e-02 2.97934437e-02\n",
            "  3.45389677e-02]\n",
            " [2.22083425e-02 2.46267308e-02 2.14587144e-02 2.39086317e-02\n",
            "  2.77182182e-02]\n",
            " [1.77361071e-02 1.97023493e-02 1.71526802e-02 1.91394880e-02\n",
            "  2.21898895e-02]\n",
            " [1.41427960e-02 1.57332029e-02 1.36874614e-02 1.52912101e-02\n",
            "  1.77286585e-02]\n",
            " [1.12635215e-02 1.25446134e-02 1.09072621e-02 1.21969758e-02\n",
            "  1.41413901e-02]\n",
            " [8.96147826e-03 9.98999331e-03 8.68211900e-03 9.71619200e-03\n",
            "  1.12652240e-02]\n",
            " [7.12421586e-03 7.94776288e-03 6.90474014e-03 7.73186572e-03\n",
            "  8.96459118e-03]\n",
            " [5.65999122e-03 6.31802198e-03 5.48728462e-03 6.14761953e-03\n",
            "  7.12778739e-03]\n",
            " [4.49439984e-03 5.01929285e-03 4.35831353e-03 4.88469193e-03\n",
            "  5.66351355e-03]\n",
            " [3.56738484e-03 3.98551518e-03 3.46003508e-03 3.87912531e-03\n",
            "  4.49762482e-03]\n",
            " [2.83065311e-03 3.16338034e-03 2.74589500e-03 3.07924477e-03\n",
            "  3.57021236e-03]\n",
            " [2.24548769e-03 2.51003054e-03 2.17851751e-03 2.44346610e-03\n",
            "  2.83306429e-03]\n",
            " [1.78092293e-03 1.99111225e-03 1.72797606e-03 1.93843147e-03\n",
            "  2.24750539e-03]\n",
            " [1.41223963e-03 1.57915356e-03 1.37035956e-03 1.53744932e-03\n",
            "  1.78258898e-03]\n",
            " [1.11973470e-03 1.25222676e-03 1.08659552e-03 1.21920482e-03\n",
            "  1.41360202e-03]\n",
            " [8.87722046e-04 9.92855428e-04 8.61491357e-04 9.66703698e-04\n",
            "  1.12084077e-03]\n",
            " [7.03725467e-04 7.87127223e-04 6.82957949e-04 7.66413497e-04\n",
            "  8.88615163e-04]\n",
            " [5.57829250e-04 6.23977384e-04 5.41383840e-04 6.07569073e-04\n",
            "  7.04443650e-04]\n",
            " [4.42157396e-04 4.94612398e-04 4.29132547e-04 4.81613471e-04\n",
            "  5.58404929e-04]\n",
            " [3.50456999e-04 3.92047896e-04 3.40139970e-04 3.81749221e-04\n",
            "  4.42617712e-04]\n",
            " [2.77765622e-04 3.10739023e-04 2.69592659e-04 3.02579229e-04\n",
            "  3.50824366e-04]\n",
            " [2.20146143e-04 2.46285373e-04 2.13671162e-04 2.39819962e-04\n",
            "  2.78058371e-04]\n",
            " [1.74475646e-04 1.95195799e-04 1.69345561e-04 1.90072755e-04\n",
            "  2.20379157e-04]\n",
            " [1.38277504e-04 1.54701175e-04 1.34212770e-04 1.50641680e-04\n",
            "  1.74660943e-04]\n",
            " [1.09587920e-04 1.22605475e-04 1.06367172e-04 1.19388663e-04\n",
            "  1.38424749e-04]\n",
            " [8.68499211e-05 9.71674146e-05 8.42978375e-05 9.46183159e-05\n",
            "  1.09704861e-04]\n",
            " [6.88291929e-05 7.70064491e-05 6.68069014e-05 7.49864384e-05\n",
            "  8.69427524e-05]\n",
            " [5.45472871e-05 6.10281373e-05 5.29447757e-05 5.94273801e-05\n",
            "  6.89028593e-05]\n",
            " [4.32286268e-05 4.83649129e-05 4.19587393e-05 4.70963822e-05\n",
            "  5.46057287e-05]\n",
            " [3.42584716e-05 3.83290934e-05 3.32521548e-05 3.73238309e-05\n",
            "  4.32749798e-05]\n",
            " [2.71495821e-05 3.03756077e-05 2.63521230e-05 2.95789709e-05\n",
            "  3.42952302e-05]\n",
            " [2.15157863e-05 2.40724365e-05 2.08838322e-05 2.34411258e-05\n",
            "  2.71787280e-05]\n",
            " [1.70510225e-05 1.90771744e-05 1.65502215e-05 1.85768780e-05\n",
            "  2.15388936e-05]\n",
            " [1.35127253e-05 1.51184476e-05 1.31158564e-05 1.47219753e-05\n",
            "  1.70693408e-05]\n",
            " [1.07086549e-05 1.19811822e-05 1.03941478e-05 1.16669873e-05\n",
            "  1.35272460e-05]\n",
            " [8.48645805e-06 9.49492661e-06 8.23721941e-06 9.24593417e-06\n",
            "  1.07201647e-05]]\n",
            "[[ 4.52060530e-01  7.16533958e-01  7.28178627e-01  7.57173328e-01\n",
            "   4.99304315e-01]\n",
            " [ 4.52045509e-01  7.16542327e-01  7.28201595e-01  7.57217891e-01\n",
            "   4.99328178e-01]\n",
            " [ 4.52027056e-01  7.16552391e-01  7.28229947e-01  7.57273121e-01\n",
            "   4.99357639e-01]\n",
            " [ 4.52004551e-01  7.16564324e-01  7.28264750e-01  7.57341262e-01\n",
            "   4.99393809e-01]\n",
            " [ 4.51977362e-01  7.16578215e-01  7.28307173e-01  7.57424860e-01\n",
            "   4.99437905e-01]\n",
            " [ 4.51944912e-01  7.16593985e-01  7.28358440e-01  7.57526708e-01\n",
            "   4.99491199e-01]\n",
            " [ 4.51906796e-01  7.16611269e-01  7.28419731e-01  7.57649732e-01\n",
            "   4.99554914e-01]\n",
            " [ 4.51862968e-01  7.16629256e-01  7.28492040e-01  7.57796788e-01\n",
            "   4.99630068e-01]\n",
            " [ 4.51814013e-01  7.16646480e-01  7.28575973e-01  7.57970351e-01\n",
            "   4.99717253e-01]\n",
            " [ 4.51761536e-01  7.16660590e-01  7.28671485e-01  7.58172093e-01\n",
            "   4.99816335e-01]\n",
            " [ 4.51708661e-01  7.16668108e-01  7.28777595e-01  7.58402367e-01\n",
            "   4.99926122e-01]\n",
            " [ 4.51660643e-01  7.16664277e-01  7.28892126e-01  7.58659649e-01\n",
            "   5.00044029e-01]\n",
            " [ 4.51625539e-01  7.16643050e-01  7.29011572e-01  7.58940069e-01\n",
            "   5.00165844e-01]\n",
            " [ 4.51614831e-01  7.16597371e-01  7.29131208e-01  7.59237162e-01\n",
            "   5.00285711e-01]\n",
            " [ 4.51643874e-01  7.16519770e-01  7.29245536e-01  7.59541995e-01\n",
            "   5.00396443e-01]\n",
            " [ 4.51732003e-01  7.16403298e-01  7.29349121e-01  7.59843755e-01\n",
            "   5.00490211e-01]\n",
            " [ 4.51902211e-01  7.16242631e-01  7.29437716e-01  7.60130713e-01\n",
            "   5.00559558e-01]\n",
            " [ 4.52180404e-01  7.16035100e-01  7.29509471e-01  7.60391372e-01\n",
            "   5.00598545e-01]\n",
            " [ 4.52594455e-01  7.15781354e-01  7.29565915e-01  7.60615474e-01\n",
            "   5.00603778e-01]\n",
            " [ 4.53173418e-01  7.15485465e-01  7.29612463e-01  7.60794612e-01\n",
            "   5.00575066e-01]\n",
            " [ 4.53947324e-01  7.15154444e-01  7.29658278e-01  7.60922344e-01\n",
            "   5.00515607e-01]\n",
            " [ 4.54947833e-01  7.14797283e-01  7.29715522e-01  7.60993881e-01\n",
            "   5.00431735e-01]\n",
            " [ 4.56209732e-01  7.14423714e-01  7.29798114e-01  7.61005506e-01\n",
            "   5.00332335e-01]\n",
            " [ 4.57772909e-01  7.14042784e-01  7.29920137e-01  7.60953826e-01\n",
            "   5.00228083e-01]\n",
            " [ 4.59684197e-01  7.13661331e-01  7.30094019e-01  7.60834904e-01\n",
            "   5.00130615e-01]\n",
            " [ 4.61998494e-01  7.13282357e-01  7.30328512e-01  7.60643199e-01\n",
            "   5.00051686e-01]\n",
            " [ 4.64778775e-01  7.12903352e-01  7.30626465e-01  7.60370245e-01\n",
            "   5.00002322e-01]\n",
            " [ 4.68094865e-01  7.12514598e-01  7.30982325e-01  7.60002997e-01\n",
            "   4.99991930e-01]\n",
            " [ 4.72021090e-01  7.12097491e-01  7.31379377e-01  7.59521722e-01\n",
            "   5.00027162e-01]\n",
            " [ 4.76632910e-01  7.11622789e-01  7.31786718e-01  7.58897244e-01\n",
            "   5.00110223e-01]\n",
            " [ 4.82002447e-01  7.11048565e-01  7.32156038e-01  7.58087209e-01\n",
            "   5.00236138e-01]\n",
            " [ 4.88192488e-01  7.10317450e-01  7.32418186e-01  7.57030930e-01\n",
            "   5.00388381e-01]\n",
            " [ 4.95248194e-01  7.09352569e-01  7.32479319e-01  7.55642337e-01\n",
            "   5.00532287e-01]\n",
            " [ 5.03185547e-01  7.08051511e-01  7.32216143e-01  7.53800634e-01\n",
            "   5.00605732e-01]\n",
            " [ 5.11975628e-01  7.06277860e-01  7.31469410e-01  7.51338543e-01\n",
            "   5.00506912e-01]\n",
            " [ 5.21524230e-01  7.03850272e-01  7.30034881e-01  7.48028490e-01\n",
            "   5.00079584e-01]\n",
            " [ 5.31647087e-01  7.00529964e-01  7.27651389e-01  7.43567932e-01\n",
            "   4.99097018e-01]\n",
            " [ 5.42042404e-01  6.96008550e-01  7.23986947e-01  7.37566196e-01\n",
            "   4.97247183e-01]\n",
            " [ 5.52264451e-01  6.89899471e-01  7.18625811e-01  7.29536881e-01\n",
            "   4.94123393e-01]\n",
            " [ 5.61704659e-01  6.81737466e-01  7.11061971e-01  7.18901798e-01\n",
            "   4.89226359e-01]\n",
            " [ 5.69589068e-01  6.70991501e-01  7.00706765e-01  7.05014035e-01\n",
            "   4.81984808e-01]\n",
            " [ 5.75001944e-01  6.57096500e-01  6.86919170e-01  6.87207681e-01\n",
            "   4.71801067e-01]\n",
            " [ 5.76943598e-01  6.39507485e-01  6.69065129e-01  6.64878341e-01\n",
            "   4.58124207e-01]\n",
            " [ 5.74424939e-01  6.17775096e-01  6.46605903e-01  6.37590272e-01\n",
            "   4.40545419e-01]\n",
            " [ 5.66591681e-01  5.91633986e-01  6.19204837e-01  6.05193370e-01\n",
            "   4.18899617e-01]\n",
            " [ 5.52858686e-01  5.61086496e-01  5.86829973e-01  5.67920410e-01\n",
            "   3.93347201e-01]\n",
            " [ 5.33023950e-01  5.26457712e-01  5.49822234e-01  5.26429686e-01\n",
            "   3.64406725e-01]\n",
            " [ 5.07329252e-01  4.88399561e-01  5.08902258e-01  4.81767548e-01\n",
            "   3.32917948e-01]\n",
            " [ 4.76446170e-01  4.47834180e-01  4.65105539e-01  4.35249672e-01\n",
            "   2.99935610e-01]\n",
            " [ 4.41389719e-01  4.05846957e-01  4.19659929e-01  3.88289384e-01\n",
            "   2.66579432e-01]\n",
            " [ 4.03386164e-01  3.63557738e-01  3.73839243e-01  3.42220549e-01\n",
            "   2.33882599e-01]\n",
            " [ 3.63732886e-01  3.22004718e-01  3.28831264e-01  2.98160969e-01\n",
            "   2.02679804e-01]\n",
            " [ 3.23681431e-01  2.82066158e-01  2.85646505e-01  2.56941837e-01\n",
            "   1.73557412e-01]\n",
            " [ 2.84356757e-01  2.44426669e-01  2.45074240e-01  2.19101935e-01\n",
            "   1.46862934e-01]\n",
            " [ 2.46709084e-01  2.09578152e-01  2.07676204e-01  1.84925694e-01\n",
            "   1.22751988e-01]\n",
            " [ 2.11488015e-01  1.77838520e-01  1.73802267e-01  1.54498802e-01\n",
            "   1.01245809e-01]\n",
            " [ 1.79231273e-01  1.49374464e-01  1.43615416e-01  1.27761516e-01\n",
            "   8.22796449e-02]\n",
            " [ 1.50265992e-01  1.24222272e-01  1.17119712e-01  1.04550912e-01\n",
            "   6.57346976e-02]\n",
            " [ 1.24723329e-01  1.02307134e-01  9.41897042e-02  8.46320597e-02\n",
            "   5.14560099e-02]\n",
            " [ 1.02565946e-01  8.34634480e-02  7.46011495e-02  6.77219130e-02\n",
            "   3.92626454e-02]\n",
            " [ 8.36248609e-02  6.74574076e-02  5.80621335e-02  5.35093072e-02\n",
            "   2.89555812e-02]\n",
            " [ 6.76399943e-02  5.40109030e-02  4.42425678e-02  4.16725530e-02\n",
            "   2.03258838e-02]\n",
            " [ 5.42987299e-02  4.28244371e-02  3.27998066e-02  3.18945209e-02\n",
            "   1.31633123e-02]\n",
            " [ 4.32683597e-02  3.35967667e-02  2.33987792e-02  2.38745559e-02\n",
            "   7.26437104e-03]\n",
            " [ 3.42205071e-02  2.60398646e-02  1.57261030e-02  1.73367853e-02\n",
            "   2.43880185e-03]\n",
            " [ 2.68474785e-02  1.98888857e-02  9.49859013e-03  1.20348969e-02\n",
            "  -1.48601594e-03]\n",
            " [ 2.08716742e-02  1.49076463e-02  4.46715760e-03  7.75390489e-03\n",
            "  -4.66277032e-03]\n",
            " [ 1.60496782e-02  1.08905651e-02  4.17353934e-04  4.30964031e-03\n",
            "  -7.22369149e-03]\n",
            " [ 1.21726579e-02  7.66210859e-03 -2.83234612e-03  1.54672799e-03\n",
            "  -9.28131879e-03]\n",
            " [ 9.06445604e-03  5.07467632e-03 -5.43353417e-03 -6.64296157e-04\n",
            "  -1.09300855e-02]\n",
            " [ 6.57842812e-03  3.00565831e-03 -7.51144957e-03 -2.43022725e-03\n",
            "  -1.22483281e-02]\n",
            " [ 4.59375557e-03  1.35418612e-03 -9.16867841e-03 -3.83845052e-03\n",
            "  -1.33004330e-02]\n",
            " [ 3.01170536e-03  3.79146462e-05 -1.04886807e-02 -4.96000592e-03\n",
            "  -1.41389291e-02]\n",
            " [ 1.75210926e-03 -1.00996895e-03 -1.15389895e-02 -5.85234586e-03\n",
            "  -1.48064189e-02]\n",
            " [ 7.50202331e-04 -1.84341185e-03 -1.23740160e-02 -6.56174137e-03\n",
            "  -1.53372902e-02]\n",
            " [-4.61274377e-05 -2.50580496e-03 -1.30374491e-02 -7.12533490e-03\n",
            "  -1.57591958e-02]\n",
            " [-6.78678470e-04 -3.03194166e-03 -1.35642739e-02 -7.57286267e-03\n",
            "  -1.60943059e-02]\n",
            " [-1.18089285e-03 -3.44965348e-03 -1.39824448e-02 -7.92808153e-03\n",
            "  -1.63603524e-02]\n",
            " [-1.57947390e-03 -3.78116012e-03 -1.43142610e-02 -8.20993963e-03\n",
            "  -1.65714905e-02]\n",
            " [-1.89571061e-03 -4.04417388e-03 -1.45774857e-02 -8.43352971e-03\n",
            "  -1.67390033e-02]\n",
            " [-2.14655433e-03 -4.25279681e-03 -1.47862542e-02 -8.61086094e-03\n",
            "  -1.68718735e-02]\n",
            " [-2.34548931e-03 -4.41824580e-03 -1.49518049e-02 -8.75148090e-03\n",
            "  -1.69772458e-02]\n",
            " [-2.50323342e-03 -4.54943606e-03 -1.50830673e-02 -8.86297514e-03\n",
            "  -1.70607988e-02]\n",
            " [-2.62830048e-03 -4.65344910e-03 -1.51871320e-02 -8.95136721e-03\n",
            "  -1.71270427e-02]\n",
            " [-2.72745016e-03 -4.73590718e-03 -1.52696277e-02 -9.02143826e-03\n",
            "  -1.71795585e-02]\n",
            " [-2.80604730e-03 -4.80127237e-03 -1.53350206e-02 -9.07698212e-03\n",
            "  -1.72211881e-02]\n",
            " [-2.86834847e-03 -4.85308482e-03 -1.53868536e-02 -9.12100830e-03\n",
            "  -1.72541862e-02]\n",
            " [-2.91773006e-03 -4.89415264e-03 -1.54279369e-02 -9.15590372e-03\n",
            "  -1.72803413e-02]\n",
            " [-2.95686975e-03 -4.92670278e-03 -1.54604987e-02 -9.18356115e-03\n",
            "  -1.73010716e-02]\n",
            " [-2.98789083e-03 -4.95250110e-03 -1.54863060e-02 -9.20548133e-03\n",
            "  -1.73175018e-02]\n",
            " [-3.01247673e-03 -4.97294765e-03 -1.55067595e-02 -9.22285405e-03\n",
            "  -1.73305237e-02]\n",
            " [-3.03196203e-03 -4.98915232e-03 -1.55229695e-02 -9.23662247e-03\n",
            "  -1.73408440e-02]\n",
            " [-3.04740467e-03 -5.00199497e-03 -1.55358163e-02 -9.24753424e-03\n",
            "  -1.73490231e-02]\n",
            " [-3.05964326e-03 -5.01217300e-03 -1.55459975e-02 -9.25618196e-03\n",
            "  -1.73555052e-02]\n",
            " [-3.06934247e-03 -5.02023920e-03 -1.55540663e-02 -9.26303534e-03\n",
            "  -1.73606424e-02]\n",
            " [-3.07702915e-03 -5.02663170e-03 -1.55604607e-02 -9.26846666e-03\n",
            "  -1.73647136e-02]\n",
            " [-3.08312084e-03 -5.03169775e-03 -1.55655284e-02 -9.27277097e-03\n",
            "  -1.73679400e-02]\n",
            " [-3.08794850e-03 -5.03571259e-03 -1.55695444e-02 -9.27618212e-03\n",
            "  -1.73704969e-02]\n",
            " [-3.09177438e-03 -5.03889432e-03 -1.55727271e-02 -9.27888542e-03\n",
            "  -1.73725233e-02]\n",
            " [-3.09480636e-03 -5.04141582e-03 -1.55752494e-02 -9.28102777e-03\n",
            "  -1.73741291e-02]]\n"
          ]
        }
      ],
      "source": [
        "print(train_score)\n",
        "print(test_score)"
      ]
    },
    {
      "cell_type": "code",
      "execution_count": 35,
      "metadata": {
        "id": "C_AglxerqPKA"
      },
      "outputs": [],
      "source": [
        "test_mean=np.mean(test_score, axis=1)\n",
        "train_mean=np.mean(train_score,axis=1)"
      ]
    },
    {
      "cell_type": "code",
      "execution_count": 36,
      "metadata": {
        "colab": {
          "base_uri": "https://localhost:8080/"
        },
        "id": "GBM25iVYtnyU",
        "outputId": "53b784a2-9abf-48e6-a276-20da663e8426"
      },
      "outputs": [
        {
          "data": {
            "text/plain": [
              "0.6407034912553751"
            ]
          },
          "execution_count": 36,
          "metadata": {},
          "output_type": "execute_result"
        }
      ],
      "source": [
        "max(test_mean)"
      ]
    },
    {
      "cell_type": "code",
      "execution_count": 37,
      "metadata": {
        "colab": {
          "base_uri": "https://localhost:8080/",
          "height": 282
        },
        "id": "FP10wNQht24W",
        "outputId": "516339d3-b7a7-4079-a4f8-2794227eb207"
      },
      "outputs": [
        {
          "data": {
            "text/plain": [
              "<matplotlib.collections.PathCollection at 0x7f3d3daaa860>"
            ]
          },
          "execution_count": 37,
          "metadata": {},
          "output_type": "execute_result"
        },
        {
          "data": {
            "image/png": "[encoded data removed]",
            "text/plain": [
              "<Figure size 640x480 with 1 Axes>"
            ]
          },
          "metadata": {},
          "output_type": "display_data"
        }
      ],
      "source": [
        "plt.scatter(x=np.log(param_range),y=test_mean)"
      ]
    },
    {
      "cell_type": "code",
      "execution_count": 38,
      "metadata": {
        "colab": {
          "base_uri": "https://localhost:8080/"
        },
        "id": "uGtxknCtuGyM",
        "outputId": "b79872b8-a2af-4cbb-9a24-51bdfd907236"
      },
      "outputs": [
        {
          "data": {
            "text/plain": [
              "(array([35]),)"
            ]
          },
          "execution_count": 38,
          "metadata": {},
          "output_type": "execute_result"
        }
      ],
      "source": [
        "#to find the loction of max test_mean in param_range\n",
        "np.where(test_mean==max(test_mean))"
      ]
    },
    {
      "cell_type": "code",
      "execution_count": 39,
      "metadata": {
        "colab": {
          "base_uri": "https://localhost:8080/"
        },
        "id": "swo0IvjguP62",
        "outputId": "e086fdcf-bfec-4b4c-c39f-edc8f04deec7"
      },
      "outputs": [
        {
          "data": {
            "text/plain": [
              "34.30469286314919"
            ]
          },
          "execution_count": 39,
          "metadata": {},
          "output_type": "execute_result"
        }
      ],
      "source": [
        "param_range[35]"
      ]
    },
    {
      "cell_type": "markdown",
      "metadata": {
        "id": "e0VG_ByiqfAG"
      },
      "source": [
        "####Model training using the best alpha value for greater accuracy"
      ]
    },
    {
      "cell_type": "code",
      "execution_count": 40,
      "metadata": {
        "colab": {
          "base_uri": "https://localhost:8080/"
        },
        "id": "lb6g4eJJuWmM",
        "outputId": "dbd761c4-a100-4fec-cfce-fb5a0c911b6b"
      },
      "outputs": [
        {
          "data": {
            "text/html": [
              "<style>#sk-container-id-1 {color: black;background-color: white;}#sk-container-id-1 pre{padding: 0;}#sk-container-id-1 div.sk-toggleable {background-color: white;}#sk-container-id-1 label.sk-toggleable__label {cursor: pointer;display: block;width: 100%;margin-bottom: 0;padding: 0.3em;box-sizing: border-box;text-align: center;}#sk-container-id-1 label.sk-toggleable__label-arrow:before {content: \"▸\";float: left;margin-right: 0.25em;color: #696969;}#sk-container-id-1 label.sk-toggleable__label-arrow:hover:before {color: black;}#sk-container-id-1 div.sk-estimator:hover label.sk-toggleable__label-arrow:before {color: black;}#sk-container-id-1 div.sk-toggleable__content {max-height: 0;max-width: 0;overflow: hidden;text-align: left;background-color: #f0f8ff;}#sk-container-id-1 div.sk-toggleable__content pre {margin: 0.2em;color: black;border-radius: 0.25em;background-color: #f0f8ff;}#sk-container-id-1 input.sk-toggleable__control:checked~div.sk-toggleable__content {max-height: 200px;max-width: 100%;overflow: auto;}#sk-container-id-1 input.sk-toggleable__control:checked~label.sk-toggleable__label-arrow:before {content: \"▾\";}#sk-container-id-1 div.sk-estimator input.sk-toggleable__control:checked~label.sk-toggleable__label {background-color: #d4ebff;}#sk-container-id-1 div.sk-label input.sk-toggleable__control:checked~label.sk-toggleable__label {background-color: #d4ebff;}#sk-container-id-1 input.sk-hidden--visually {border: 0;clip: rect(1px 1px 1px 1px);clip: rect(1px, 1px, 1px, 1px);height: 1px;margin: -1px;overflow: hidden;padding: 0;position: absolute;width: 1px;}#sk-container-id-1 div.sk-estimator {font-family: monospace;background-color: #f0f8ff;border: 1px dotted black;border-radius: 0.25em;box-sizing: border-box;margin-bottom: 0.5em;}#sk-container-id-1 div.sk-estimator:hover {background-color: #d4ebff;}#sk-container-id-1 div.sk-parallel-item::after {content: \"\";width: 100%;border-bottom: 1px solid gray;flex-grow: 1;}#sk-container-id-1 div.sk-label:hover label.sk-toggleable__label {background-color: #d4ebff;}#sk-container-id-1 div.sk-serial::before {content: \"\";position: absolute;border-left: 1px solid gray;box-sizing: border-box;top: 0;bottom: 0;left: 50%;z-index: 0;}#sk-container-id-1 div.sk-serial {display: flex;flex-direction: column;align-items: center;background-color: white;padding-right: 0.2em;padding-left: 0.2em;position: relative;}#sk-container-id-1 div.sk-item {position: relative;z-index: 1;}#sk-container-id-1 div.sk-parallel {display: flex;align-items: stretch;justify-content: center;background-color: white;position: relative;}#sk-container-id-1 div.sk-item::before, #sk-container-id-1 div.sk-parallel-item::before {content: \"\";position: absolute;border-left: 1px solid gray;box-sizing: border-box;top: 0;bottom: 0;left: 50%;z-index: -1;}#sk-container-id-1 div.sk-parallel-item {display: flex;flex-direction: column;z-index: 1;position: relative;background-color: white;}#sk-container-id-1 div.sk-parallel-item:first-child::after {align-self: flex-end;width: 50%;}#sk-container-id-1 div.sk-parallel-item:last-child::after {align-self: flex-start;width: 50%;}#sk-container-id-1 div.sk-parallel-item:only-child::after {width: 0;}#sk-container-id-1 div.sk-dashed-wrapped {border: 1px dashed gray;margin: 0 0.4em 0.5em 0.4em;box-sizing: border-box;padding-bottom: 0.4em;background-color: white;}#sk-container-id-1 div.sk-label label {font-family: monospace;font-weight: bold;display: inline-block;line-height: 1.2em;}#sk-container-id-1 div.sk-label-container {text-align: center;}#sk-container-id-1 div.sk-container {/* jupyter's `normalize.less` sets `[hidden] { display: none; }` but bootstrap.min.css set `[hidden] { display: none !important; }` so we also need the `!important` here to be able to override the default hidden behavior on the sphinx rendered scikit-learn.org. See: https://github.com/scikit-learn/scikit-learn/issues/21755 */display: inline-block !important;position: relative;}#sk-container-id-1 div.sk-text-repr-fallback {display: none;}</style><div id=\"sk-container-id-1\" class=\"sk-top-container\"><div class=\"sk-text-repr-fallback\"><pre>Ridge(alpha=34.30469286314919)</pre><b>In a Jupyter environment, please rerun this cell to show the HTML representation or trust the notebook. <br />On GitHub, the HTML representation is unable to render, please try loading this page with nbviewer.org.</b></div><div class=\"sk-container\" hidden><div class=\"sk-item\"><div class=\"sk-estimator sk-toggleable\"><input class=\"sk-toggleable__control sk-hidden--visually\" id=\"sk-estimator-id-1\" type=\"checkbox\" checked><label for=\"sk-estimator-id-1\" class=\"sk-toggleable__label sk-toggleable__label-arrow\">Ridge</label><div class=\"sk-toggleable__content\"><pre>Ridge(alpha=34.30469286314919)</pre></div></div></div></div></div>"
            ],
            "text/plain": [
              "Ridge(alpha=34.30469286314919)"
            ]
          },
          "execution_count": 40,
          "metadata": {},
          "output_type": "execute_result"
        }
      ],
      "source": [
        "#model training using ridge\n",
        "rd_best=Ridge(alpha=param_range[35])\n",
        "rd_best.fit(x_train_s,y_train)"
      ]
    },
    {
      "cell_type": "code",
      "execution_count": 41,
      "metadata": {
        "colab": {
          "base_uri": "https://localhost:8080/"
        },
        "id": "TGG47OrKrHb0",
        "outputId": "d1375177-db13-422e-e8ee-e52481be2b34"
      },
      "outputs": [
        {
          "data": {
            "text/plain": [
              "0.6408784721817569"
            ]
          },
          "execution_count": 41,
          "metadata": {},
          "output_type": "execute_result"
        }
      ],
      "source": [
        "#prediction\n",
        "r2_score(y_test,rd_best.predict(x_test_s))"
      ]
    },
    {
      "cell_type": "code",
      "execution_count": 42,
      "metadata": {
        "colab": {
          "base_uri": "https://localhost:8080/"
        },
        "id": "6Ocq7OCzutLd",
        "outputId": "b72c91ad-55f5-4374-baab-10eedad7eb77"
      },
      "outputs": [
        {
          "data": {
            "text/plain": [
              "0.6952935216960441"
            ]
          },
          "execution_count": 42,
          "metadata": {},
          "output_type": "execute_result"
        }
      ],
      "source": [
        "r2_score(y_train,rd_best.predict(x_train_s))"
      ]
    },
    {
      "cell_type": "markdown",
      "metadata": {
        "id": "wKnFC_d8rYnr"
      },
      "source": [
        "###2.Lasso"
      ]
    },
    {
      "cell_type": "code",
      "execution_count": 43,
      "metadata": {
        "colab": {
          "base_uri": "https://localhost:8080/"
        },
        "id": "09DgVRrrvR_u",
        "outputId": "641ab0fe-ae4f-4609-bc6d-4f09b3a7ee4b"
      },
      "outputs": [
        {
          "name": "stderr",
          "output_type": "stream",
          "text": [
            "/home/srinithisl/.local/lib/python3.10/site-packages/sklearn/linear_model/_coordinate_descent.py:631: ConvergenceWarning: Objective did not converge. You might want to increase the number of iterations, check the scale of the features or consider increasing regularisation. Duality gap: 1.197e+10, tolerance: 1.088e+07\n",
            "  model = cd_fast.enet_coordinate_descent(\n"
          ]
        },
        {
          "data": {
            "text/html": [
              "<style>#sk-container-id-2 {color: black;background-color: white;}#sk-container-id-2 pre{padding: 0;}#sk-container-id-2 div.sk-toggleable {background-color: white;}#sk-container-id-2 label.sk-toggleable__label {cursor: pointer;display: block;width: 100%;margin-bottom: 0;padding: 0.3em;box-sizing: border-box;text-align: center;}#sk-container-id-2 label.sk-toggleable__label-arrow:before {content: \"▸\";float: left;margin-right: 0.25em;color: #696969;}#sk-container-id-2 label.sk-toggleable__label-arrow:hover:before {color: black;}#sk-container-id-2 div.sk-estimator:hover label.sk-toggleable__label-arrow:before {color: black;}#sk-container-id-2 div.sk-toggleable__content {max-height: 0;max-width: 0;overflow: hidden;text-align: left;background-color: #f0f8ff;}#sk-container-id-2 div.sk-toggleable__content pre {margin: 0.2em;color: black;border-radius: 0.25em;background-color: #f0f8ff;}#sk-container-id-2 input.sk-toggleable__control:checked~div.sk-toggleable__content {max-height: 200px;max-width: 100%;overflow: auto;}#sk-container-id-2 input.sk-toggleable__control:checked~label.sk-toggleable__label-arrow:before {content: \"▾\";}#sk-container-id-2 div.sk-estimator input.sk-toggleable__control:checked~label.sk-toggleable__label {background-color: #d4ebff;}#sk-container-id-2 div.sk-label input.sk-toggleable__control:checked~label.sk-toggleable__label {background-color: #d4ebff;}#sk-container-id-2 input.sk-hidden--visually {border: 0;clip: rect(1px 1px 1px 1px);clip: rect(1px, 1px, 1px, 1px);height: 1px;margin: -1px;overflow: hidden;padding: 0;position: absolute;width: 1px;}#sk-container-id-2 div.sk-estimator {font-family: monospace;background-color: #f0f8ff;border: 1px dotted black;border-radius: 0.25em;box-sizing: border-box;margin-bottom: 0.5em;}#sk-container-id-2 div.sk-estimator:hover {background-color: #d4ebff;}#sk-container-id-2 div.sk-parallel-item::after {content: \"\";width: 100%;border-bottom: 1px solid gray;flex-grow: 1;}#sk-container-id-2 div.sk-label:hover label.sk-toggleable__label {background-color: #d4ebff;}#sk-container-id-2 div.sk-serial::before {content: \"\";position: absolute;border-left: 1px solid gray;box-sizing: border-box;top: 0;bottom: 0;left: 50%;z-index: 0;}#sk-container-id-2 div.sk-serial {display: flex;flex-direction: column;align-items: center;background-color: white;padding-right: 0.2em;padding-left: 0.2em;position: relative;}#sk-container-id-2 div.sk-item {position: relative;z-index: 1;}#sk-container-id-2 div.sk-parallel {display: flex;align-items: stretch;justify-content: center;background-color: white;position: relative;}#sk-container-id-2 div.sk-item::before, #sk-container-id-2 div.sk-parallel-item::before {content: \"\";position: absolute;border-left: 1px solid gray;box-sizing: border-box;top: 0;bottom: 0;left: 50%;z-index: -1;}#sk-container-id-2 div.sk-parallel-item {display: flex;flex-direction: column;z-index: 1;position: relative;background-color: white;}#sk-container-id-2 div.sk-parallel-item:first-child::after {align-self: flex-end;width: 50%;}#sk-container-id-2 div.sk-parallel-item:last-child::after {align-self: flex-start;width: 50%;}#sk-container-id-2 div.sk-parallel-item:only-child::after {width: 0;}#sk-container-id-2 div.sk-dashed-wrapped {border: 1px dashed gray;margin: 0 0.4em 0.5em 0.4em;box-sizing: border-box;padding-bottom: 0.4em;background-color: white;}#sk-container-id-2 div.sk-label label {font-family: monospace;font-weight: bold;display: inline-block;line-height: 1.2em;}#sk-container-id-2 div.sk-label-container {text-align: center;}#sk-container-id-2 div.sk-container {/* jupyter's `normalize.less` sets `[hidden] { display: none; }` but bootstrap.min.css set `[hidden] { display: none !important; }` so we also need the `!important` here to be able to override the default hidden behavior on the sphinx rendered scikit-learn.org. See: https://github.com/scikit-learn/scikit-learn/issues/21755 */display: inline-block !important;position: relative;}#sk-container-id-2 div.sk-text-repr-fallback {display: none;}</style><div id=\"sk-container-id-2\" class=\"sk-top-container\"><div class=\"sk-text-repr-fallback\"><pre>Lasso(alpha=0.4)</pre><b>In a Jupyter environment, please rerun this cell to show the HTML representation or trust the notebook. <br />On GitHub, the HTML representation is unable to render, please try loading this page with nbviewer.org.</b></div><div class=\"sk-container\" hidden><div class=\"sk-item\"><div class=\"sk-estimator sk-toggleable\"><input class=\"sk-toggleable__control sk-hidden--visually\" id=\"sk-estimator-id-2\" type=\"checkbox\" checked><label for=\"sk-estimator-id-2\" class=\"sk-toggleable__label sk-toggleable__label-arrow\">Lasso</label><div class=\"sk-toggleable__content\"><pre>Lasso(alpha=0.4)</pre></div></div></div></div></div>"
            ],
            "text/plain": [
              "Lasso(alpha=0.4)"
            ]
          },
          "execution_count": 43,
          "metadata": {},
          "output_type": "execute_result"
        }
      ],
      "source": [
        "from sklearn.linear_model import Lasso\n",
        "ls=Lasso(alpha=0.4)\n",
        "ls.fit(x_train_s,y_train)"
      ]
    },
    {
      "cell_type": "markdown",
      "metadata": {
        "id": "vIRiy_vorlnc"
      },
      "source": [
        "To find the alpha value for which r^2 value is maximum, we use validation curve"
      ]
    },
    {
      "cell_type": "code",
      "execution_count": 44,
      "metadata": {
        "colab": {
          "base_uri": "https://localhost:8080/"
        },
        "id": "bRSqomijwGPt",
        "outputId": "e49ee689-e698-45a3-a83a-d015bbffab22"
      },
      "outputs": [
        {
          "name": "stderr",
          "output_type": "stream",
          "text": [
            "/home/srinithisl/.local/lib/python3.10/site-packages/sklearn/linear_model/_coordinate_descent.py:631: ConvergenceWarning: Objective did not converge. You might want to increase the number of iterations, check the scale of the features or consider increasing regularisation. Duality gap: 1.187e+10, tolerance: 9.181e+06\n",
            "  model = cd_fast.enet_coordinate_descent(\n",
            "/home/srinithisl/.local/lib/python3.10/site-packages/sklearn/linear_model/_coordinate_descent.py:631: ConvergenceWarning: Objective did not converge. You might want to increase the number of iterations, check the scale of the features or consider increasing regularisation. Duality gap: 1.181e+10, tolerance: 9.181e+06\n",
            "  model = cd_fast.enet_coordinate_descent(\n",
            "/home/srinithisl/.local/lib/python3.10/site-packages/sklearn/linear_model/_coordinate_descent.py:631: ConvergenceWarning: Objective did not converge. You might want to increase the number of iterations, check the scale of the features or consider increasing regularisation. Duality gap: 1.173e+10, tolerance: 9.181e+06\n",
            "  model = cd_fast.enet_coordinate_descent(\n",
            "/home/srinithisl/.local/lib/python3.10/site-packages/sklearn/linear_model/_coordinate_descent.py:631: ConvergenceWarning: Objective did not converge. You might want to increase the number of iterations, check the scale of the features or consider increasing regularisation. Duality gap: 1.164e+10, tolerance: 9.181e+06\n",
            "  model = cd_fast.enet_coordinate_descent(\n",
            "/home/srinithisl/.local/lib/python3.10/site-packages/sklearn/linear_model/_coordinate_descent.py:631: ConvergenceWarning: Objective did not converge. You might want to increase the number of iterations, check the scale of the features or consider increasing regularisation. Duality gap: 1.152e+10, tolerance: 9.181e+06\n",
            "  model = cd_fast.enet_coordinate_descent(\n",
            "/home/srinithisl/.local/lib/python3.10/site-packages/sklearn/linear_model/_coordinate_descent.py:631: ConvergenceWarning: Objective did not converge. You might want to increase the number of iterations, check the scale of the features or consider increasing regularisation. Duality gap: 1.138e+10, tolerance: 9.181e+06\n",
            "  model = cd_fast.enet_coordinate_descent(\n",
            "/home/srinithisl/.local/lib/python3.10/site-packages/sklearn/linear_model/_coordinate_descent.py:631: ConvergenceWarning: Objective did not converge. You might want to increase the number of iterations, check the scale of the features or consider increasing regularisation. Duality gap: 1.120e+10, tolerance: 9.181e+06\n",
            "  model = cd_fast.enet_coordinate_descent(\n",
            "/home/srinithisl/.local/lib/python3.10/site-packages/sklearn/linear_model/_coordinate_descent.py:631: ConvergenceWarning: Objective did not converge. You might want to increase the number of iterations, check the scale of the features or consider increasing regularisation. Duality gap: 1.098e+10, tolerance: 9.181e+06\n",
            "  model = cd_fast.enet_coordinate_descent(\n",
            "/home/srinithisl/.local/lib/python3.10/site-packages/sklearn/linear_model/_coordinate_descent.py:631: ConvergenceWarning: Objective did not converge. You might want to increase the number of iterations, check the scale of the features or consider increasing regularisation. Duality gap: 1.071e+10, tolerance: 9.181e+06\n",
            "  model = cd_fast.enet_coordinate_descent(\n",
            "/home/srinithisl/.local/lib/python3.10/site-packages/sklearn/linear_model/_coordinate_descent.py:631: ConvergenceWarning: Objective did not converge. You might want to increase the number of iterations, check the scale of the features or consider increasing regularisation. Duality gap: 1.038e+10, tolerance: 9.181e+06\n",
            "  model = cd_fast.enet_coordinate_descent(\n",
            "/home/srinithisl/.local/lib/python3.10/site-packages/sklearn/linear_model/_coordinate_descent.py:631: ConvergenceWarning: Objective did not converge. You might want to increase the number of iterations, check the scale of the features or consider increasing regularisation. Duality gap: 9.994e+09, tolerance: 9.181e+06\n",
            "  model = cd_fast.enet_coordinate_descent(\n",
            "/home/srinithisl/.local/lib/python3.10/site-packages/sklearn/linear_model/_coordinate_descent.py:631: ConvergenceWarning: Objective did not converge. You might want to increase the number of iterations, check the scale of the features or consider increasing regularisation. Duality gap: 9.534e+09, tolerance: 9.181e+06\n",
            "  model = cd_fast.enet_coordinate_descent(\n",
            "/home/srinithisl/.local/lib/python3.10/site-packages/sklearn/linear_model/_coordinate_descent.py:631: ConvergenceWarning: Objective did not converge. You might want to increase the number of iterations, check the scale of the features or consider increasing regularisation. Duality gap: 9.000e+09, tolerance: 9.181e+06\n",
            "  model = cd_fast.enet_coordinate_descent(\n",
            "/home/srinithisl/.local/lib/python3.10/site-packages/sklearn/linear_model/_coordinate_descent.py:631: ConvergenceWarning: Objective did not converge. You might want to increase the number of iterations, check the scale of the features or consider increasing regularisation. Duality gap: 8.389e+09, tolerance: 9.181e+06\n",
            "  model = cd_fast.enet_coordinate_descent(\n",
            "/home/srinithisl/.local/lib/python3.10/site-packages/sklearn/linear_model/_coordinate_descent.py:631: ConvergenceWarning: Objective did not converge. You might want to increase the number of iterations, check the scale of the features or consider increasing regularisation. Duality gap: 7.706e+09, tolerance: 9.181e+06\n",
            "  model = cd_fast.enet_coordinate_descent(\n",
            "/home/srinithisl/.local/lib/python3.10/site-packages/sklearn/linear_model/_coordinate_descent.py:631: ConvergenceWarning: Objective did not converge. You might want to increase the number of iterations, check the scale of the features or consider increasing regularisation. Duality gap: 6.959e+09, tolerance: 9.181e+06\n",
            "  model = cd_fast.enet_coordinate_descent(\n",
            "/home/srinithisl/.local/lib/python3.10/site-packages/sklearn/linear_model/_coordinate_descent.py:631: ConvergenceWarning: Objective did not converge. You might want to increase the number of iterations, check the scale of the features or consider increasing regularisation. Duality gap: 6.167e+09, tolerance: 9.181e+06\n",
            "  model = cd_fast.enet_coordinate_descent(\n",
            "/home/srinithisl/.local/lib/python3.10/site-packages/sklearn/linear_model/_coordinate_descent.py:631: ConvergenceWarning: Objective did not converge. You might want to increase the number of iterations, check the scale of the features or consider increasing regularisation. Duality gap: 5.353e+09, tolerance: 9.181e+06\n",
            "  model = cd_fast.enet_coordinate_descent(\n",
            "/home/srinithisl/.local/lib/python3.10/site-packages/sklearn/linear_model/_coordinate_descent.py:631: ConvergenceWarning: Objective did not converge. You might want to increase the number of iterations, check the scale of the features or consider increasing regularisation. Duality gap: 4.543e+09, tolerance: 9.181e+06\n",
            "  model = cd_fast.enet_coordinate_descent(\n",
            "/home/srinithisl/.local/lib/python3.10/site-packages/sklearn/linear_model/_coordinate_descent.py:631: ConvergenceWarning: Objective did not converge. You might want to increase the number of iterations, check the scale of the features or consider increasing regularisation. Duality gap: 3.767e+09, tolerance: 9.181e+06\n",
            "  model = cd_fast.enet_coordinate_descent(\n",
            "/home/srinithisl/.local/lib/python3.10/site-packages/sklearn/linear_model/_coordinate_descent.py:631: ConvergenceWarning: Objective did not converge. You might want to increase the number of iterations, check the scale of the features or consider increasing regularisation. Duality gap: 3.052e+09, tolerance: 9.181e+06\n",
            "  model = cd_fast.enet_coordinate_descent(\n",
            "/home/srinithisl/.local/lib/python3.10/site-packages/sklearn/linear_model/_coordinate_descent.py:631: ConvergenceWarning: Objective did not converge. You might want to increase the number of iterations, check the scale of the features or consider increasing regularisation. Duality gap: 2.417e+09, tolerance: 9.181e+06\n",
            "  model = cd_fast.enet_coordinate_descent(\n",
            "/home/srinithisl/.local/lib/python3.10/site-packages/sklearn/linear_model/_coordinate_descent.py:631: ConvergenceWarning: Objective did not converge. You might want to increase the number of iterations, check the scale of the features or consider increasing regularisation. Duality gap: 1.783e+09, tolerance: 9.181e+06\n",
            "  model = cd_fast.enet_coordinate_descent(\n",
            "/home/srinithisl/.local/lib/python3.10/site-packages/sklearn/linear_model/_coordinate_descent.py:631: ConvergenceWarning: Objective did not converge. You might want to increase the number of iterations, check the scale of the features or consider increasing regularisation. Duality gap: 1.108e+09, tolerance: 9.181e+06\n",
            "  model = cd_fast.enet_coordinate_descent(\n",
            "/home/srinithisl/.local/lib/python3.10/site-packages/sklearn/linear_model/_coordinate_descent.py:631: ConvergenceWarning: Objective did not converge. You might want to increase the number of iterations, check the scale of the features or consider increasing regularisation. Duality gap: 3.750e+08, tolerance: 9.181e+06\n",
            "  model = cd_fast.enet_coordinate_descent(\n",
            "/home/srinithisl/.local/lib/python3.10/site-packages/sklearn/linear_model/_coordinate_descent.py:631: ConvergenceWarning: Objective did not converge. You might want to increase the number of iterations, check the scale of the features or consider increasing regularisation. Duality gap: 1.385e+10, tolerance: 9.143e+06\n",
            "  model = cd_fast.enet_coordinate_descent(\n",
            "/home/srinithisl/.local/lib/python3.10/site-packages/sklearn/linear_model/_coordinate_descent.py:631: ConvergenceWarning: Objective did not converge. You might want to increase the number of iterations, check the scale of the features or consider increasing regularisation. Duality gap: 1.383e+10, tolerance: 9.143e+06\n",
            "  model = cd_fast.enet_coordinate_descent(\n",
            "/home/srinithisl/.local/lib/python3.10/site-packages/sklearn/linear_model/_coordinate_descent.py:631: ConvergenceWarning: Objective did not converge. You might want to increase the number of iterations, check the scale of the features or consider increasing regularisation. Duality gap: 1.381e+10, tolerance: 9.143e+06\n",
            "  model = cd_fast.enet_coordinate_descent(\n",
            "/home/srinithisl/.local/lib/python3.10/site-packages/sklearn/linear_model/_coordinate_descent.py:631: ConvergenceWarning: Objective did not converge. You might want to increase the number of iterations, check the scale of the features or consider increasing regularisation. Duality gap: 1.378e+10, tolerance: 9.143e+06\n",
            "  model = cd_fast.enet_coordinate_descent(\n",
            "/home/srinithisl/.local/lib/python3.10/site-packages/sklearn/linear_model/_coordinate_descent.py:631: ConvergenceWarning: Objective did not converge. You might want to increase the number of iterations, check the scale of the features or consider increasing regularisation. Duality gap: 1.374e+10, tolerance: 9.143e+06\n",
            "  model = cd_fast.enet_coordinate_descent(\n",
            "/home/srinithisl/.local/lib/python3.10/site-packages/sklearn/linear_model/_coordinate_descent.py:631: ConvergenceWarning: Objective did not converge. You might want to increase the number of iterations, check the scale of the features or consider increasing regularisation. Duality gap: 1.369e+10, tolerance: 9.143e+06\n",
            "  model = cd_fast.enet_coordinate_descent(\n",
            "/home/srinithisl/.local/lib/python3.10/site-packages/sklearn/linear_model/_coordinate_descent.py:631: ConvergenceWarning: Objective did not converge. You might want to increase the number of iterations, check the scale of the features or consider increasing regularisation. Duality gap: 1.364e+10, tolerance: 9.143e+06\n",
            "  model = cd_fast.enet_coordinate_descent(\n",
            "/home/srinithisl/.local/lib/python3.10/site-packages/sklearn/linear_model/_coordinate_descent.py:631: ConvergenceWarning: Objective did not converge. You might want to increase the number of iterations, check the scale of the features or consider increasing regularisation. Duality gap: 1.356e+10, tolerance: 9.143e+06\n",
            "  model = cd_fast.enet_coordinate_descent(\n",
            "/home/srinithisl/.local/lib/python3.10/site-packages/sklearn/linear_model/_coordinate_descent.py:631: ConvergenceWarning: Objective did not converge. You might want to increase the number of iterations, check the scale of the features or consider increasing regularisation. Duality gap: 1.347e+10, tolerance: 9.143e+06\n",
            "  model = cd_fast.enet_coordinate_descent(\n",
            "/home/srinithisl/.local/lib/python3.10/site-packages/sklearn/linear_model/_coordinate_descent.py:631: ConvergenceWarning: Objective did not converge. You might want to increase the number of iterations, check the scale of the features or consider increasing regularisation. Duality gap: 1.335e+10, tolerance: 9.143e+06\n",
            "  model = cd_fast.enet_coordinate_descent(\n",
            "/home/srinithisl/.local/lib/python3.10/site-packages/sklearn/linear_model/_coordinate_descent.py:631: ConvergenceWarning: Objective did not converge. You might want to increase the number of iterations, check the scale of the features or consider increasing regularisation. Duality gap: 1.321e+10, tolerance: 9.143e+06\n",
            "  model = cd_fast.enet_coordinate_descent(\n",
            "/home/srinithisl/.local/lib/python3.10/site-packages/sklearn/linear_model/_coordinate_descent.py:631: ConvergenceWarning: Objective did not converge. You might want to increase the number of iterations, check the scale of the features or consider increasing regularisation. Duality gap: 1.303e+10, tolerance: 9.143e+06\n",
            "  model = cd_fast.enet_coordinate_descent(\n",
            "/home/srinithisl/.local/lib/python3.10/site-packages/sklearn/linear_model/_coordinate_descent.py:631: ConvergenceWarning: Objective did not converge. You might want to increase the number of iterations, check the scale of the features or consider increasing regularisation. Duality gap: 1.281e+10, tolerance: 9.143e+06\n",
            "  model = cd_fast.enet_coordinate_descent(\n",
            "/home/srinithisl/.local/lib/python3.10/site-packages/sklearn/linear_model/_coordinate_descent.py:631: ConvergenceWarning: Objective did not converge. You might want to increase the number of iterations, check the scale of the features or consider increasing regularisation. Duality gap: 1.254e+10, tolerance: 9.143e+06\n",
            "  model = cd_fast.enet_coordinate_descent(\n",
            "/home/srinithisl/.local/lib/python3.10/site-packages/sklearn/linear_model/_coordinate_descent.py:631: ConvergenceWarning: Objective did not converge. You might want to increase the number of iterations, check the scale of the features or consider increasing regularisation. Duality gap: 1.221e+10, tolerance: 9.143e+06\n",
            "  model = cd_fast.enet_coordinate_descent(\n",
            "/home/srinithisl/.local/lib/python3.10/site-packages/sklearn/linear_model/_coordinate_descent.py:631: ConvergenceWarning: Objective did not converge. You might want to increase the number of iterations, check the scale of the features or consider increasing regularisation. Duality gap: 1.181e+10, tolerance: 9.143e+06\n",
            "  model = cd_fast.enet_coordinate_descent(\n",
            "/home/srinithisl/.local/lib/python3.10/site-packages/sklearn/linear_model/_coordinate_descent.py:631: ConvergenceWarning: Objective did not converge. You might want to increase the number of iterations, check the scale of the features or consider increasing regularisation. Duality gap: 1.133e+10, tolerance: 9.143e+06\n",
            "  model = cd_fast.enet_coordinate_descent(\n",
            "/home/srinithisl/.local/lib/python3.10/site-packages/sklearn/linear_model/_coordinate_descent.py:631: ConvergenceWarning: Objective did not converge. You might want to increase the number of iterations, check the scale of the features or consider increasing regularisation. Duality gap: 1.076e+10, tolerance: 9.143e+06\n",
            "  model = cd_fast.enet_coordinate_descent(\n",
            "/home/srinithisl/.local/lib/python3.10/site-packages/sklearn/linear_model/_coordinate_descent.py:631: ConvergenceWarning: Objective did not converge. You might want to increase the number of iterations, check the scale of the features or consider increasing regularisation. Duality gap: 1.009e+10, tolerance: 9.143e+06\n",
            "  model = cd_fast.enet_coordinate_descent(\n",
            "/home/srinithisl/.local/lib/python3.10/site-packages/sklearn/linear_model/_coordinate_descent.py:631: ConvergenceWarning: Objective did not converge. You might want to increase the number of iterations, check the scale of the features or consider increasing regularisation. Duality gap: 9.324e+09, tolerance: 9.143e+06\n",
            "  model = cd_fast.enet_coordinate_descent(\n",
            "/home/srinithisl/.local/lib/python3.10/site-packages/sklearn/linear_model/_coordinate_descent.py:631: ConvergenceWarning: Objective did not converge. You might want to increase the number of iterations, check the scale of the features or consider increasing regularisation. Duality gap: 8.464e+09, tolerance: 9.143e+06\n",
            "  model = cd_fast.enet_coordinate_descent(\n",
            "/home/srinithisl/.local/lib/python3.10/site-packages/sklearn/linear_model/_coordinate_descent.py:631: ConvergenceWarning: Objective did not converge. You might want to increase the number of iterations, check the scale of the features or consider increasing regularisation. Duality gap: 7.522e+09, tolerance: 9.143e+06\n",
            "  model = cd_fast.enet_coordinate_descent(\n",
            "/home/srinithisl/.local/lib/python3.10/site-packages/sklearn/linear_model/_coordinate_descent.py:631: ConvergenceWarning: Objective did not converge. You might want to increase the number of iterations, check the scale of the features or consider increasing regularisation. Duality gap: 6.519e+09, tolerance: 9.143e+06\n",
            "  model = cd_fast.enet_coordinate_descent(\n",
            "/home/srinithisl/.local/lib/python3.10/site-packages/sklearn/linear_model/_coordinate_descent.py:631: ConvergenceWarning: Objective did not converge. You might want to increase the number of iterations, check the scale of the features or consider increasing regularisation. Duality gap: 5.487e+09, tolerance: 9.143e+06\n",
            "  model = cd_fast.enet_coordinate_descent(\n",
            "/home/srinithisl/.local/lib/python3.10/site-packages/sklearn/linear_model/_coordinate_descent.py:631: ConvergenceWarning: Objective did not converge. You might want to increase the number of iterations, check the scale of the features or consider increasing regularisation. Duality gap: 4.464e+09, tolerance: 9.143e+06\n",
            "  model = cd_fast.enet_coordinate_descent(\n",
            "/home/srinithisl/.local/lib/python3.10/site-packages/sklearn/linear_model/_coordinate_descent.py:631: ConvergenceWarning: Objective did not converge. You might want to increase the number of iterations, check the scale of the features or consider increasing regularisation. Duality gap: 3.493e+09, tolerance: 9.143e+06\n",
            "  model = cd_fast.enet_coordinate_descent(\n",
            "/home/srinithisl/.local/lib/python3.10/site-packages/sklearn/linear_model/_coordinate_descent.py:631: ConvergenceWarning: Objective did not converge. You might want to increase the number of iterations, check the scale of the features or consider increasing regularisation. Duality gap: 2.614e+09, tolerance: 9.143e+06\n",
            "  model = cd_fast.enet_coordinate_descent(\n",
            "/home/srinithisl/.local/lib/python3.10/site-packages/sklearn/linear_model/_coordinate_descent.py:631: ConvergenceWarning: Objective did not converge. You might want to increase the number of iterations, check the scale of the features or consider increasing regularisation. Duality gap: 1.856e+09, tolerance: 9.143e+06\n",
            "  model = cd_fast.enet_coordinate_descent(\n",
            "/home/srinithisl/.local/lib/python3.10/site-packages/sklearn/linear_model/_coordinate_descent.py:631: ConvergenceWarning: Objective did not converge. You might want to increase the number of iterations, check the scale of the features or consider increasing regularisation. Duality gap: 1.239e+09, tolerance: 9.143e+06\n",
            "  model = cd_fast.enet_coordinate_descent(\n",
            "/home/srinithisl/.local/lib/python3.10/site-packages/sklearn/linear_model/_coordinate_descent.py:631: ConvergenceWarning: Objective did not converge. You might want to increase the number of iterations, check the scale of the features or consider increasing regularisation. Duality gap: 7.662e+08, tolerance: 9.143e+06\n",
            "  model = cd_fast.enet_coordinate_descent(\n",
            "/home/srinithisl/.local/lib/python3.10/site-packages/sklearn/linear_model/_coordinate_descent.py:631: ConvergenceWarning: Objective did not converge. You might want to increase the number of iterations, check the scale of the features or consider increasing regularisation. Duality gap: 4.276e+08, tolerance: 9.143e+06\n",
            "  model = cd_fast.enet_coordinate_descent(\n",
            "/home/srinithisl/.local/lib/python3.10/site-packages/sklearn/linear_model/_coordinate_descent.py:631: ConvergenceWarning: Objective did not converge. You might want to increase the number of iterations, check the scale of the features or consider increasing regularisation. Duality gap: 2.049e+08, tolerance: 9.143e+06\n",
            "  model = cd_fast.enet_coordinate_descent(\n",
            "/home/srinithisl/.local/lib/python3.10/site-packages/sklearn/linear_model/_coordinate_descent.py:631: ConvergenceWarning: Objective did not converge. You might want to increase the number of iterations, check the scale of the features or consider increasing regularisation. Duality gap: 8.220e+07, tolerance: 9.143e+06\n",
            "  model = cd_fast.enet_coordinate_descent(\n",
            "/home/srinithisl/.local/lib/python3.10/site-packages/sklearn/linear_model/_coordinate_descent.py:631: ConvergenceWarning: Objective did not converge. You might want to increase the number of iterations, check the scale of the features or consider increasing regularisation. Duality gap: 7.256e+07, tolerance: 9.143e+06\n",
            "  model = cd_fast.enet_coordinate_descent(\n",
            "/home/srinithisl/.local/lib/python3.10/site-packages/sklearn/linear_model/_coordinate_descent.py:631: ConvergenceWarning: Objective did not converge. You might want to increase the number of iterations, check the scale of the features or consider increasing regularisation. Duality gap: 1.300e+10, tolerance: 8.442e+06\n",
            "  model = cd_fast.enet_coordinate_descent(\n",
            "/home/srinithisl/.local/lib/python3.10/site-packages/sklearn/linear_model/_coordinate_descent.py:631: ConvergenceWarning: Objective did not converge. You might want to increase the number of iterations, check the scale of the features or consider increasing regularisation. Duality gap: 1.298e+10, tolerance: 8.442e+06\n",
            "  model = cd_fast.enet_coordinate_descent(\n",
            "/home/srinithisl/.local/lib/python3.10/site-packages/sklearn/linear_model/_coordinate_descent.py:631: ConvergenceWarning: Objective did not converge. You might want to increase the number of iterations, check the scale of the features or consider increasing regularisation. Duality gap: 1.295e+10, tolerance: 8.442e+06\n",
            "  model = cd_fast.enet_coordinate_descent(\n",
            "/home/srinithisl/.local/lib/python3.10/site-packages/sklearn/linear_model/_coordinate_descent.py:631: ConvergenceWarning: Objective did not converge. You might want to increase the number of iterations, check the scale of the features or consider increasing regularisation. Duality gap: 1.292e+10, tolerance: 8.442e+06\n",
            "  model = cd_fast.enet_coordinate_descent(\n",
            "/home/srinithisl/.local/lib/python3.10/site-packages/sklearn/linear_model/_coordinate_descent.py:631: ConvergenceWarning: Objective did not converge. You might want to increase the number of iterations, check the scale of the features or consider increasing regularisation. Duality gap: 1.289e+10, tolerance: 8.442e+06\n",
            "  model = cd_fast.enet_coordinate_descent(\n",
            "/home/srinithisl/.local/lib/python3.10/site-packages/sklearn/linear_model/_coordinate_descent.py:631: ConvergenceWarning: Objective did not converge. You might want to increase the number of iterations, check the scale of the features or consider increasing regularisation. Duality gap: 1.284e+10, tolerance: 8.442e+06\n",
            "  model = cd_fast.enet_coordinate_descent(\n",
            "/home/srinithisl/.local/lib/python3.10/site-packages/sklearn/linear_model/_coordinate_descent.py:631: ConvergenceWarning: Objective did not converge. You might want to increase the number of iterations, check the scale of the features or consider increasing regularisation. Duality gap: 1.278e+10, tolerance: 8.442e+06\n",
            "  model = cd_fast.enet_coordinate_descent(\n",
            "/home/srinithisl/.local/lib/python3.10/site-packages/sklearn/linear_model/_coordinate_descent.py:631: ConvergenceWarning: Objective did not converge. You might want to increase the number of iterations, check the scale of the features or consider increasing regularisation. Duality gap: 1.271e+10, tolerance: 8.442e+06\n",
            "  model = cd_fast.enet_coordinate_descent(\n",
            "/home/srinithisl/.local/lib/python3.10/site-packages/sklearn/linear_model/_coordinate_descent.py:631: ConvergenceWarning: Objective did not converge. You might want to increase the number of iterations, check the scale of the features or consider increasing regularisation. Duality gap: 1.262e+10, tolerance: 8.442e+06\n",
            "  model = cd_fast.enet_coordinate_descent(\n",
            "/home/srinithisl/.local/lib/python3.10/site-packages/sklearn/linear_model/_coordinate_descent.py:631: ConvergenceWarning: Objective did not converge. You might want to increase the number of iterations, check the scale of the features or consider increasing regularisation. Duality gap: 1.251e+10, tolerance: 8.442e+06\n",
            "  model = cd_fast.enet_coordinate_descent(\n",
            "/home/srinithisl/.local/lib/python3.10/site-packages/sklearn/linear_model/_coordinate_descent.py:631: ConvergenceWarning: Objective did not converge. You might want to increase the number of iterations, check the scale of the features or consider increasing regularisation. Duality gap: 1.237e+10, tolerance: 8.442e+06\n",
            "  model = cd_fast.enet_coordinate_descent(\n",
            "/home/srinithisl/.local/lib/python3.10/site-packages/sklearn/linear_model/_coordinate_descent.py:631: ConvergenceWarning: Objective did not converge. You might want to increase the number of iterations, check the scale of the features or consider increasing regularisation. Duality gap: 1.219e+10, tolerance: 8.442e+06\n",
            "  model = cd_fast.enet_coordinate_descent(\n",
            "/home/srinithisl/.local/lib/python3.10/site-packages/sklearn/linear_model/_coordinate_descent.py:631: ConvergenceWarning: Objective did not converge. You might want to increase the number of iterations, check the scale of the features or consider increasing regularisation. Duality gap: 1.198e+10, tolerance: 8.442e+06\n",
            "  model = cd_fast.enet_coordinate_descent(\n",
            "/home/srinithisl/.local/lib/python3.10/site-packages/sklearn/linear_model/_coordinate_descent.py:631: ConvergenceWarning: Objective did not converge. You might want to increase the number of iterations, check the scale of the features or consider increasing regularisation. Duality gap: 1.171e+10, tolerance: 8.442e+06\n",
            "  model = cd_fast.enet_coordinate_descent(\n",
            "/home/srinithisl/.local/lib/python3.10/site-packages/sklearn/linear_model/_coordinate_descent.py:631: ConvergenceWarning: Objective did not converge. You might want to increase the number of iterations, check the scale of the features or consider increasing regularisation. Duality gap: 1.139e+10, tolerance: 8.442e+06\n",
            "  model = cd_fast.enet_coordinate_descent(\n",
            "/home/srinithisl/.local/lib/python3.10/site-packages/sklearn/linear_model/_coordinate_descent.py:631: ConvergenceWarning: Objective did not converge. You might want to increase the number of iterations, check the scale of the features or consider increasing regularisation. Duality gap: 1.100e+10, tolerance: 8.442e+06\n",
            "  model = cd_fast.enet_coordinate_descent(\n",
            "/home/srinithisl/.local/lib/python3.10/site-packages/sklearn/linear_model/_coordinate_descent.py:631: ConvergenceWarning: Objective did not converge. You might want to increase the number of iterations, check the scale of the features or consider increasing regularisation. Duality gap: 1.053e+10, tolerance: 8.442e+06\n",
            "  model = cd_fast.enet_coordinate_descent(\n",
            "/home/srinithisl/.local/lib/python3.10/site-packages/sklearn/linear_model/_coordinate_descent.py:631: ConvergenceWarning: Objective did not converge. You might want to increase the number of iterations, check the scale of the features or consider increasing regularisation. Duality gap: 9.979e+09, tolerance: 8.442e+06\n",
            "  model = cd_fast.enet_coordinate_descent(\n",
            "/home/srinithisl/.local/lib/python3.10/site-packages/sklearn/linear_model/_coordinate_descent.py:631: ConvergenceWarning: Objective did not converge. You might want to increase the number of iterations, check the scale of the features or consider increasing regularisation. Duality gap: 9.338e+09, tolerance: 8.442e+06\n",
            "  model = cd_fast.enet_coordinate_descent(\n",
            "/home/srinithisl/.local/lib/python3.10/site-packages/sklearn/linear_model/_coordinate_descent.py:631: ConvergenceWarning: Objective did not converge. You might want to increase the number of iterations, check the scale of the features or consider increasing regularisation. Duality gap: 8.606e+09, tolerance: 8.442e+06\n",
            "  model = cd_fast.enet_coordinate_descent(\n",
            "/home/srinithisl/.local/lib/python3.10/site-packages/sklearn/linear_model/_coordinate_descent.py:631: ConvergenceWarning: Objective did not converge. You might want to increase the number of iterations, check the scale of the features or consider increasing regularisation. Duality gap: 7.789e+09, tolerance: 8.442e+06\n",
            "  model = cd_fast.enet_coordinate_descent(\n",
            "/home/srinithisl/.local/lib/python3.10/site-packages/sklearn/linear_model/_coordinate_descent.py:631: ConvergenceWarning: Objective did not converge. You might want to increase the number of iterations, check the scale of the features or consider increasing regularisation. Duality gap: 6.901e+09, tolerance: 8.442e+06\n",
            "  model = cd_fast.enet_coordinate_descent(\n",
            "/home/srinithisl/.local/lib/python3.10/site-packages/sklearn/linear_model/_coordinate_descent.py:631: ConvergenceWarning: Objective did not converge. You might want to increase the number of iterations, check the scale of the features or consider increasing regularisation. Duality gap: 5.964e+09, tolerance: 8.442e+06\n",
            "  model = cd_fast.enet_coordinate_descent(\n",
            "/home/srinithisl/.local/lib/python3.10/site-packages/sklearn/linear_model/_coordinate_descent.py:631: ConvergenceWarning: Objective did not converge. You might want to increase the number of iterations, check the scale of the features or consider increasing regularisation. Duality gap: 5.007e+09, tolerance: 8.442e+06\n",
            "  model = cd_fast.enet_coordinate_descent(\n",
            "/home/srinithisl/.local/lib/python3.10/site-packages/sklearn/linear_model/_coordinate_descent.py:631: ConvergenceWarning: Objective did not converge. You might want to increase the number of iterations, check the scale of the features or consider increasing regularisation. Duality gap: 4.069e+09, tolerance: 8.442e+06\n",
            "  model = cd_fast.enet_coordinate_descent(\n",
            "/home/srinithisl/.local/lib/python3.10/site-packages/sklearn/linear_model/_coordinate_descent.py:631: ConvergenceWarning: Objective did not converge. You might want to increase the number of iterations, check the scale of the features or consider increasing regularisation. Duality gap: 3.187e+09, tolerance: 8.442e+06\n",
            "  model = cd_fast.enet_coordinate_descent(\n",
            "/home/srinithisl/.local/lib/python3.10/site-packages/sklearn/linear_model/_coordinate_descent.py:631: ConvergenceWarning: Objective did not converge. You might want to increase the number of iterations, check the scale of the features or consider increasing regularisation. Duality gap: 2.394e+09, tolerance: 8.442e+06\n",
            "  model = cd_fast.enet_coordinate_descent(\n",
            "/home/srinithisl/.local/lib/python3.10/site-packages/sklearn/linear_model/_coordinate_descent.py:631: ConvergenceWarning: Objective did not converge. You might want to increase the number of iterations, check the scale of the features or consider increasing regularisation. Duality gap: 1.715e+09, tolerance: 8.442e+06\n",
            "  model = cd_fast.enet_coordinate_descent(\n",
            "/home/srinithisl/.local/lib/python3.10/site-packages/sklearn/linear_model/_coordinate_descent.py:631: ConvergenceWarning: Objective did not converge. You might want to increase the number of iterations, check the scale of the features or consider increasing regularisation. Duality gap: 1.164e+09, tolerance: 8.442e+06\n",
            "  model = cd_fast.enet_coordinate_descent(\n",
            "/home/srinithisl/.local/lib/python3.10/site-packages/sklearn/linear_model/_coordinate_descent.py:631: ConvergenceWarning: Objective did not converge. You might want to increase the number of iterations, check the scale of the features or consider increasing regularisation. Duality gap: 7.415e+08, tolerance: 8.442e+06\n",
            "  model = cd_fast.enet_coordinate_descent(\n",
            "/home/srinithisl/.local/lib/python3.10/site-packages/sklearn/linear_model/_coordinate_descent.py:631: ConvergenceWarning: Objective did not converge. You might want to increase the number of iterations, check the scale of the features or consider increasing regularisation. Duality gap: 3.570e+08, tolerance: 8.442e+06\n",
            "  model = cd_fast.enet_coordinate_descent(\n",
            "/home/srinithisl/.local/lib/python3.10/site-packages/sklearn/linear_model/_coordinate_descent.py:631: ConvergenceWarning: Objective did not converge. You might want to increase the number of iterations, check the scale of the features or consider increasing regularisation. Duality gap: 1.629e+08, tolerance: 8.442e+06\n",
            "  model = cd_fast.enet_coordinate_descent(\n",
            "/home/srinithisl/.local/lib/python3.10/site-packages/sklearn/linear_model/_coordinate_descent.py:631: ConvergenceWarning: Objective did not converge. You might want to increase the number of iterations, check the scale of the features or consider increasing regularisation. Duality gap: 6.343e+07, tolerance: 8.442e+06\n",
            "  model = cd_fast.enet_coordinate_descent(\n",
            "/home/srinithisl/.local/lib/python3.10/site-packages/sklearn/linear_model/_coordinate_descent.py:631: ConvergenceWarning: Objective did not converge. You might want to increase the number of iterations, check the scale of the features or consider increasing regularisation. Duality gap: 1.467e+07, tolerance: 8.442e+06\n",
            "  model = cd_fast.enet_coordinate_descent(\n",
            "/home/srinithisl/.local/lib/python3.10/site-packages/sklearn/linear_model/_coordinate_descent.py:631: ConvergenceWarning: Objective did not converge. You might want to increase the number of iterations, check the scale of the features or consider increasing regularisation. Duality gap: 1.342e+10, tolerance: 8.427e+06\n",
            "  model = cd_fast.enet_coordinate_descent(\n",
            "/home/srinithisl/.local/lib/python3.10/site-packages/sklearn/linear_model/_coordinate_descent.py:631: ConvergenceWarning: Objective did not converge. You might want to increase the number of iterations, check the scale of the features or consider increasing regularisation. Duality gap: 1.340e+10, tolerance: 8.427e+06\n",
            "  model = cd_fast.enet_coordinate_descent(\n",
            "/home/srinithisl/.local/lib/python3.10/site-packages/sklearn/linear_model/_coordinate_descent.py:631: ConvergenceWarning: Objective did not converge. You might want to increase the number of iterations, check the scale of the features or consider increasing regularisation. Duality gap: 1.338e+10, tolerance: 8.427e+06\n",
            "  model = cd_fast.enet_coordinate_descent(\n",
            "/home/srinithisl/.local/lib/python3.10/site-packages/sklearn/linear_model/_coordinate_descent.py:631: ConvergenceWarning: Objective did not converge. You might want to increase the number of iterations, check the scale of the features or consider increasing regularisation. Duality gap: 1.334e+10, tolerance: 8.427e+06\n",
            "  model = cd_fast.enet_coordinate_descent(\n",
            "/home/srinithisl/.local/lib/python3.10/site-packages/sklearn/linear_model/_coordinate_descent.py:631: ConvergenceWarning: Objective did not converge. You might want to increase the number of iterations, check the scale of the features or consider increasing regularisation. Duality gap: 1.330e+10, tolerance: 8.427e+06\n",
            "  model = cd_fast.enet_coordinate_descent(\n",
            "/home/srinithisl/.local/lib/python3.10/site-packages/sklearn/linear_model/_coordinate_descent.py:631: ConvergenceWarning: Objective did not converge. You might want to increase the number of iterations, check the scale of the features or consider increasing regularisation. Duality gap: 1.325e+10, tolerance: 8.427e+06\n",
            "  model = cd_fast.enet_coordinate_descent(\n",
            "/home/srinithisl/.local/lib/python3.10/site-packages/sklearn/linear_model/_coordinate_descent.py:631: ConvergenceWarning: Objective did not converge. You might want to increase the number of iterations, check the scale of the features or consider increasing regularisation. Duality gap: 1.319e+10, tolerance: 8.427e+06\n",
            "  model = cd_fast.enet_coordinate_descent(\n",
            "/home/srinithisl/.local/lib/python3.10/site-packages/sklearn/linear_model/_coordinate_descent.py:631: ConvergenceWarning: Objective did not converge. You might want to increase the number of iterations, check the scale of the features or consider increasing regularisation. Duality gap: 1.311e+10, tolerance: 8.427e+06\n",
            "  model = cd_fast.enet_coordinate_descent(\n",
            "/home/srinithisl/.local/lib/python3.10/site-packages/sklearn/linear_model/_coordinate_descent.py:631: ConvergenceWarning: Objective did not converge. You might want to increase the number of iterations, check the scale of the features or consider increasing regularisation. Duality gap: 1.301e+10, tolerance: 8.427e+06\n",
            "  model = cd_fast.enet_coordinate_descent(\n",
            "/home/srinithisl/.local/lib/python3.10/site-packages/sklearn/linear_model/_coordinate_descent.py:631: ConvergenceWarning: Objective did not converge. You might want to increase the number of iterations, check the scale of the features or consider increasing regularisation. Duality gap: 1.288e+10, tolerance: 8.427e+06\n",
            "  model = cd_fast.enet_coordinate_descent(\n",
            "/home/srinithisl/.local/lib/python3.10/site-packages/sklearn/linear_model/_coordinate_descent.py:631: ConvergenceWarning: Objective did not converge. You might want to increase the number of iterations, check the scale of the features or consider increasing regularisation. Duality gap: 1.272e+10, tolerance: 8.427e+06\n",
            "  model = cd_fast.enet_coordinate_descent(\n",
            "/home/srinithisl/.local/lib/python3.10/site-packages/sklearn/linear_model/_coordinate_descent.py:631: ConvergenceWarning: Objective did not converge. You might want to increase the number of iterations, check the scale of the features or consider increasing regularisation. Duality gap: 1.253e+10, tolerance: 8.427e+06\n",
            "  model = cd_fast.enet_coordinate_descent(\n",
            "/home/srinithisl/.local/lib/python3.10/site-packages/sklearn/linear_model/_coordinate_descent.py:631: ConvergenceWarning: Objective did not converge. You might want to increase the number of iterations, check the scale of the features or consider increasing regularisation. Duality gap: 1.229e+10, tolerance: 8.427e+06\n",
            "  model = cd_fast.enet_coordinate_descent(\n",
            "/home/srinithisl/.local/lib/python3.10/site-packages/sklearn/linear_model/_coordinate_descent.py:631: ConvergenceWarning: Objective did not converge. You might want to increase the number of iterations, check the scale of the features or consider increasing regularisation. Duality gap: 1.200e+10, tolerance: 8.427e+06\n",
            "  model = cd_fast.enet_coordinate_descent(\n",
            "/home/srinithisl/.local/lib/python3.10/site-packages/sklearn/linear_model/_coordinate_descent.py:631: ConvergenceWarning: Objective did not converge. You might want to increase the number of iterations, check the scale of the features or consider increasing regularisation. Duality gap: 1.165e+10, tolerance: 8.427e+06\n",
            "  model = cd_fast.enet_coordinate_descent(\n",
            "/home/srinithisl/.local/lib/python3.10/site-packages/sklearn/linear_model/_coordinate_descent.py:631: ConvergenceWarning: Objective did not converge. You might want to increase the number of iterations, check the scale of the features or consider increasing regularisation. Duality gap: 1.122e+10, tolerance: 8.427e+06\n",
            "  model = cd_fast.enet_coordinate_descent(\n",
            "/home/srinithisl/.local/lib/python3.10/site-packages/sklearn/linear_model/_coordinate_descent.py:631: ConvergenceWarning: Objective did not converge. You might want to increase the number of iterations, check the scale of the features or consider increasing regularisation. Duality gap: 1.071e+10, tolerance: 8.427e+06\n",
            "  model = cd_fast.enet_coordinate_descent(\n",
            "/home/srinithisl/.local/lib/python3.10/site-packages/sklearn/linear_model/_coordinate_descent.py:631: ConvergenceWarning: Objective did not converge. You might want to increase the number of iterations, check the scale of the features or consider increasing regularisation. Duality gap: 1.011e+10, tolerance: 8.427e+06\n",
            "  model = cd_fast.enet_coordinate_descent(\n",
            "/home/srinithisl/.local/lib/python3.10/site-packages/sklearn/linear_model/_coordinate_descent.py:631: ConvergenceWarning: Objective did not converge. You might want to increase the number of iterations, check the scale of the features or consider increasing regularisation. Duality gap: 9.415e+09, tolerance: 8.427e+06\n",
            "  model = cd_fast.enet_coordinate_descent(\n",
            "/home/srinithisl/.local/lib/python3.10/site-packages/sklearn/linear_model/_coordinate_descent.py:631: ConvergenceWarning: Objective did not converge. You might want to increase the number of iterations, check the scale of the features or consider increasing regularisation. Duality gap: 8.628e+09, tolerance: 8.427e+06\n",
            "  model = cd_fast.enet_coordinate_descent(\n",
            "/home/srinithisl/.local/lib/python3.10/site-packages/sklearn/linear_model/_coordinate_descent.py:631: ConvergenceWarning: Objective did not converge. You might want to increase the number of iterations, check the scale of the features or consider increasing regularisation. Duality gap: 7.756e+09, tolerance: 8.427e+06\n",
            "  model = cd_fast.enet_coordinate_descent(\n",
            "/home/srinithisl/.local/lib/python3.10/site-packages/sklearn/linear_model/_coordinate_descent.py:631: ConvergenceWarning: Objective did not converge. You might want to increase the number of iterations, check the scale of the features or consider increasing regularisation. Duality gap: 6.816e+09, tolerance: 8.427e+06\n",
            "  model = cd_fast.enet_coordinate_descent(\n",
            "/home/srinithisl/.local/lib/python3.10/site-packages/sklearn/linear_model/_coordinate_descent.py:631: ConvergenceWarning: Objective did not converge. You might want to increase the number of iterations, check the scale of the features or consider increasing regularisation. Duality gap: 5.833e+09, tolerance: 8.427e+06\n",
            "  model = cd_fast.enet_coordinate_descent(\n",
            "/home/srinithisl/.local/lib/python3.10/site-packages/sklearn/linear_model/_coordinate_descent.py:631: ConvergenceWarning: Objective did not converge. You might want to increase the number of iterations, check the scale of the features or consider increasing regularisation. Duality gap: 4.842e+09, tolerance: 8.427e+06\n",
            "  model = cd_fast.enet_coordinate_descent(\n",
            "/home/srinithisl/.local/lib/python3.10/site-packages/sklearn/linear_model/_coordinate_descent.py:631: ConvergenceWarning: Objective did not converge. You might want to increase the number of iterations, check the scale of the features or consider increasing regularisation. Duality gap: 3.881e+09, tolerance: 8.427e+06\n",
            "  model = cd_fast.enet_coordinate_descent(\n",
            "/home/srinithisl/.local/lib/python3.10/site-packages/sklearn/linear_model/_coordinate_descent.py:631: ConvergenceWarning: Objective did not converge. You might want to increase the number of iterations, check the scale of the features or consider increasing regularisation. Duality gap: 2.991e+09, tolerance: 8.427e+06\n",
            "  model = cd_fast.enet_coordinate_descent(\n",
            "/home/srinithisl/.local/lib/python3.10/site-packages/sklearn/linear_model/_coordinate_descent.py:631: ConvergenceWarning: Objective did not converge. You might want to increase the number of iterations, check the scale of the features or consider increasing regularisation. Duality gap: 2.203e+09, tolerance: 8.427e+06\n",
            "  model = cd_fast.enet_coordinate_descent(\n",
            "/home/srinithisl/.local/lib/python3.10/site-packages/sklearn/linear_model/_coordinate_descent.py:631: ConvergenceWarning: Objective did not converge. You might want to increase the number of iterations, check the scale of the features or consider increasing regularisation. Duality gap: 1.542e+09, tolerance: 8.427e+06\n",
            "  model = cd_fast.enet_coordinate_descent(\n",
            "/home/srinithisl/.local/lib/python3.10/site-packages/sklearn/linear_model/_coordinate_descent.py:631: ConvergenceWarning: Objective did not converge. You might want to increase the number of iterations, check the scale of the features or consider increasing regularisation. Duality gap: 1.015e+09, tolerance: 8.427e+06\n",
            "  model = cd_fast.enet_coordinate_descent(\n",
            "/home/srinithisl/.local/lib/python3.10/site-packages/sklearn/linear_model/_coordinate_descent.py:631: ConvergenceWarning: Objective did not converge. You might want to increase the number of iterations, check the scale of the features or consider increasing regularisation. Duality gap: 6.205e+08, tolerance: 8.427e+06\n",
            "  model = cd_fast.enet_coordinate_descent(\n",
            "/home/srinithisl/.local/lib/python3.10/site-packages/sklearn/linear_model/_coordinate_descent.py:631: ConvergenceWarning: Objective did not converge. You might want to increase the number of iterations, check the scale of the features or consider increasing regularisation. Duality gap: 3.436e+08, tolerance: 8.427e+06\n",
            "  model = cd_fast.enet_coordinate_descent(\n",
            "/home/srinithisl/.local/lib/python3.10/site-packages/sklearn/linear_model/_coordinate_descent.py:631: ConvergenceWarning: Objective did not converge. You might want to increase the number of iterations, check the scale of the features or consider increasing regularisation. Duality gap: 1.642e+08, tolerance: 8.427e+06\n",
            "  model = cd_fast.enet_coordinate_descent(\n",
            "/home/srinithisl/.local/lib/python3.10/site-packages/sklearn/linear_model/_coordinate_descent.py:631: ConvergenceWarning: Objective did not converge. You might want to increase the number of iterations, check the scale of the features or consider increasing regularisation. Duality gap: 6.026e+07, tolerance: 8.427e+06\n",
            "  model = cd_fast.enet_coordinate_descent(\n",
            "/home/srinithisl/.local/lib/python3.10/site-packages/sklearn/linear_model/_coordinate_descent.py:631: ConvergenceWarning: Objective did not converge. You might want to increase the number of iterations, check the scale of the features or consider increasing regularisation. Duality gap: 1.831e+07, tolerance: 8.427e+06\n",
            "  model = cd_fast.enet_coordinate_descent(\n",
            "/home/srinithisl/.local/lib/python3.10/site-packages/sklearn/linear_model/_coordinate_descent.py:631: ConvergenceWarning: Objective did not converge. You might want to increase the number of iterations, check the scale of the features or consider increasing regularisation. Duality gap: 1.041e+10, tolerance: 8.322e+06\n",
            "  model = cd_fast.enet_coordinate_descent(\n",
            "/home/srinithisl/.local/lib/python3.10/site-packages/sklearn/linear_model/_coordinate_descent.py:631: ConvergenceWarning: Objective did not converge. You might want to increase the number of iterations, check the scale of the features or consider increasing regularisation. Duality gap: 1.038e+10, tolerance: 8.322e+06\n",
            "  model = cd_fast.enet_coordinate_descent(\n",
            "/home/srinithisl/.local/lib/python3.10/site-packages/sklearn/linear_model/_coordinate_descent.py:631: ConvergenceWarning: Objective did not converge. You might want to increase the number of iterations, check the scale of the features or consider increasing regularisation. Duality gap: 1.035e+10, tolerance: 8.322e+06\n",
            "  model = cd_fast.enet_coordinate_descent(\n",
            "/home/srinithisl/.local/lib/python3.10/site-packages/sklearn/linear_model/_coordinate_descent.py:631: ConvergenceWarning: Objective did not converge. You might want to increase the number of iterations, check the scale of the features or consider increasing regularisation. Duality gap: 1.031e+10, tolerance: 8.322e+06\n",
            "  model = cd_fast.enet_coordinate_descent(\n",
            "/home/srinithisl/.local/lib/python3.10/site-packages/sklearn/linear_model/_coordinate_descent.py:631: ConvergenceWarning: Objective did not converge. You might want to increase the number of iterations, check the scale of the features or consider increasing regularisation. Duality gap: 1.026e+10, tolerance: 8.322e+06\n",
            "  model = cd_fast.enet_coordinate_descent(\n",
            "/home/srinithisl/.local/lib/python3.10/site-packages/sklearn/linear_model/_coordinate_descent.py:631: ConvergenceWarning: Objective did not converge. You might want to increase the number of iterations, check the scale of the features or consider increasing regularisation. Duality gap: 1.020e+10, tolerance: 8.322e+06\n",
            "  model = cd_fast.enet_coordinate_descent(\n",
            "/home/srinithisl/.local/lib/python3.10/site-packages/sklearn/linear_model/_coordinate_descent.py:631: ConvergenceWarning: Objective did not converge. You might want to increase the number of iterations, check the scale of the features or consider increasing regularisation. Duality gap: 1.012e+10, tolerance: 8.322e+06\n",
            "  model = cd_fast.enet_coordinate_descent(\n",
            "/home/srinithisl/.local/lib/python3.10/site-packages/sklearn/linear_model/_coordinate_descent.py:631: ConvergenceWarning: Objective did not converge. You might want to increase the number of iterations, check the scale of the features or consider increasing regularisation. Duality gap: 1.003e+10, tolerance: 8.322e+06\n",
            "  model = cd_fast.enet_coordinate_descent(\n",
            "/home/srinithisl/.local/lib/python3.10/site-packages/sklearn/linear_model/_coordinate_descent.py:631: ConvergenceWarning: Objective did not converge. You might want to increase the number of iterations, check the scale of the features or consider increasing regularisation. Duality gap: 9.906e+09, tolerance: 8.322e+06\n",
            "  model = cd_fast.enet_coordinate_descent(\n",
            "/home/srinithisl/.local/lib/python3.10/site-packages/sklearn/linear_model/_coordinate_descent.py:631: ConvergenceWarning: Objective did not converge. You might want to increase the number of iterations, check the scale of the features or consider increasing regularisation. Duality gap: 9.758e+09, tolerance: 8.322e+06\n",
            "  model = cd_fast.enet_coordinate_descent(\n",
            "/home/srinithisl/.local/lib/python3.10/site-packages/sklearn/linear_model/_coordinate_descent.py:631: ConvergenceWarning: Objective did not converge. You might want to increase the number of iterations, check the scale of the features or consider increasing regularisation. Duality gap: 9.574e+09, tolerance: 8.322e+06\n",
            "  model = cd_fast.enet_coordinate_descent(\n",
            "/home/srinithisl/.local/lib/python3.10/site-packages/sklearn/linear_model/_coordinate_descent.py:631: ConvergenceWarning: Objective did not converge. You might want to increase the number of iterations, check the scale of the features or consider increasing regularisation. Duality gap: 9.350e+09, tolerance: 8.322e+06\n",
            "  model = cd_fast.enet_coordinate_descent(\n",
            "/home/srinithisl/.local/lib/python3.10/site-packages/sklearn/linear_model/_coordinate_descent.py:631: ConvergenceWarning: Objective did not converge. You might want to increase the number of iterations, check the scale of the features or consider increasing regularisation. Duality gap: 9.076e+09, tolerance: 8.322e+06\n",
            "  model = cd_fast.enet_coordinate_descent(\n",
            "/home/srinithisl/.local/lib/python3.10/site-packages/sklearn/linear_model/_coordinate_descent.py:631: ConvergenceWarning: Objective did not converge. You might want to increase the number of iterations, check the scale of the features or consider increasing regularisation. Duality gap: 8.747e+09, tolerance: 8.322e+06\n",
            "  model = cd_fast.enet_coordinate_descent(\n",
            "/home/srinithisl/.local/lib/python3.10/site-packages/sklearn/linear_model/_coordinate_descent.py:631: ConvergenceWarning: Objective did not converge. You might want to increase the number of iterations, check the scale of the features or consider increasing regularisation. Duality gap: 8.354e+09, tolerance: 8.322e+06\n",
            "  model = cd_fast.enet_coordinate_descent(\n",
            "/home/srinithisl/.local/lib/python3.10/site-packages/sklearn/linear_model/_coordinate_descent.py:631: ConvergenceWarning: Objective did not converge. You might want to increase the number of iterations, check the scale of the features or consider increasing regularisation. Duality gap: 7.893e+09, tolerance: 8.322e+06\n",
            "  model = cd_fast.enet_coordinate_descent(\n",
            "/home/srinithisl/.local/lib/python3.10/site-packages/sklearn/linear_model/_coordinate_descent.py:631: ConvergenceWarning: Objective did not converge. You might want to increase the number of iterations, check the scale of the features or consider increasing regularisation. Duality gap: 7.359e+09, tolerance: 8.322e+06\n",
            "  model = cd_fast.enet_coordinate_descent(\n",
            "/home/srinithisl/.local/lib/python3.10/site-packages/sklearn/linear_model/_coordinate_descent.py:631: ConvergenceWarning: Objective did not converge. You might want to increase the number of iterations, check the scale of the features or consider increasing regularisation. Duality gap: 6.753e+09, tolerance: 8.322e+06\n",
            "  model = cd_fast.enet_coordinate_descent(\n",
            "/home/srinithisl/.local/lib/python3.10/site-packages/sklearn/linear_model/_coordinate_descent.py:631: ConvergenceWarning: Objective did not converge. You might want to increase the number of iterations, check the scale of the features or consider increasing regularisation. Duality gap: 6.081e+09, tolerance: 8.322e+06\n",
            "  model = cd_fast.enet_coordinate_descent(\n",
            "/home/srinithisl/.local/lib/python3.10/site-packages/sklearn/linear_model/_coordinate_descent.py:631: ConvergenceWarning: Objective did not converge. You might want to increase the number of iterations, check the scale of the features or consider increasing regularisation. Duality gap: 5.357e+09, tolerance: 8.322e+06\n",
            "  model = cd_fast.enet_coordinate_descent(\n",
            "/home/srinithisl/.local/lib/python3.10/site-packages/sklearn/linear_model/_coordinate_descent.py:631: ConvergenceWarning: Objective did not converge. You might want to increase the number of iterations, check the scale of the features or consider increasing regularisation. Duality gap: 4.599e+09, tolerance: 8.322e+06\n",
            "  model = cd_fast.enet_coordinate_descent(\n",
            "/home/srinithisl/.local/lib/python3.10/site-packages/sklearn/linear_model/_coordinate_descent.py:631: ConvergenceWarning: Objective did not converge. You might want to increase the number of iterations, check the scale of the features or consider increasing regularisation. Duality gap: 3.834e+09, tolerance: 8.322e+06\n",
            "  model = cd_fast.enet_coordinate_descent(\n",
            "/home/srinithisl/.local/lib/python3.10/site-packages/sklearn/linear_model/_coordinate_descent.py:631: ConvergenceWarning: Objective did not converge. You might want to increase the number of iterations, check the scale of the features or consider increasing regularisation. Duality gap: 3.092e+09, tolerance: 8.322e+06\n",
            "  model = cd_fast.enet_coordinate_descent(\n",
            "/home/srinithisl/.local/lib/python3.10/site-packages/sklearn/linear_model/_coordinate_descent.py:631: ConvergenceWarning: Objective did not converge. You might want to increase the number of iterations, check the scale of the features or consider increasing regularisation. Duality gap: 2.402e+09, tolerance: 8.322e+06\n",
            "  model = cd_fast.enet_coordinate_descent(\n",
            "/home/srinithisl/.local/lib/python3.10/site-packages/sklearn/linear_model/_coordinate_descent.py:631: ConvergenceWarning: Objective did not converge. You might want to increase the number of iterations, check the scale of the features or consider increasing regularisation. Duality gap: 1.789e+09, tolerance: 8.322e+06\n",
            "  model = cd_fast.enet_coordinate_descent(\n",
            "/home/srinithisl/.local/lib/python3.10/site-packages/sklearn/linear_model/_coordinate_descent.py:631: ConvergenceWarning: Objective did not converge. You might want to increase the number of iterations, check the scale of the features or consider increasing regularisation. Duality gap: 1.272e+09, tolerance: 8.322e+06\n",
            "  model = cd_fast.enet_coordinate_descent(\n",
            "/home/srinithisl/.local/lib/python3.10/site-packages/sklearn/linear_model/_coordinate_descent.py:631: ConvergenceWarning: Objective did not converge. You might want to increase the number of iterations, check the scale of the features or consider increasing regularisation. Duality gap: 8.570e+08, tolerance: 8.322e+06\n",
            "  model = cd_fast.enet_coordinate_descent(\n",
            "/home/srinithisl/.local/lib/python3.10/site-packages/sklearn/linear_model/_coordinate_descent.py:631: ConvergenceWarning: Objective did not converge. You might want to increase the number of iterations, check the scale of the features or consider increasing regularisation. Duality gap: 5.420e+08, tolerance: 8.322e+06\n",
            "  model = cd_fast.enet_coordinate_descent(\n",
            "/home/srinithisl/.local/lib/python3.10/site-packages/sklearn/linear_model/_coordinate_descent.py:631: ConvergenceWarning: Objective did not converge. You might want to increase the number of iterations, check the scale of the features or consider increasing regularisation. Duality gap: 3.168e+08, tolerance: 8.322e+06\n",
            "  model = cd_fast.enet_coordinate_descent(\n",
            "/home/srinithisl/.local/lib/python3.10/site-packages/sklearn/linear_model/_coordinate_descent.py:631: ConvergenceWarning: Objective did not converge. You might want to increase the number of iterations, check the scale of the features or consider increasing regularisation. Duality gap: 1.663e+08, tolerance: 8.322e+06\n",
            "  model = cd_fast.enet_coordinate_descent(\n",
            "/home/srinithisl/.local/lib/python3.10/site-packages/sklearn/linear_model/_coordinate_descent.py:631: ConvergenceWarning: Objective did not converge. You might want to increase the number of iterations, check the scale of the features or consider increasing regularisation. Duality gap: 7.390e+07, tolerance: 8.322e+06\n",
            "  model = cd_fast.enet_coordinate_descent(\n",
            "/home/srinithisl/.local/lib/python3.10/site-packages/sklearn/linear_model/_coordinate_descent.py:631: ConvergenceWarning: Objective did not converge. You might want to increase the number of iterations, check the scale of the features or consider increasing regularisation. Duality gap: 2.385e+07, tolerance: 8.322e+06\n",
            "  model = cd_fast.enet_coordinate_descent(\n"
          ]
        }
      ],
      "source": [
        "train_lsc,test_lsc=validation_curve(Lasso(),x_train_s,y_train,param_name='alpha',param_range=param_range,scoring='r2')\n",
        "train_ls_mean=np.mean(train_lsc,axis=1)\n",
        "test_lsc_mean=np.mean(test_lsc,axis=1)"
      ]
    },
    {
      "cell_type": "code",
      "execution_count": 45,
      "metadata": {
        "colab": {
          "base_uri": "https://localhost:8080/"
        },
        "id": "8Sg8al5OxLyw",
        "outputId": "60fd1026-85a9-47bd-ced7-335ef829d258"
      },
      "outputs": [
        {
          "data": {
            "text/plain": [
              "0.6358097798977403"
            ]
          },
          "execution_count": 45,
          "metadata": {},
          "output_type": "execute_result"
        }
      ],
      "source": [
        "max(test_lsc_mean)"
      ]
    },
    {
      "cell_type": "code",
      "execution_count": 46,
      "metadata": {
        "colab": {
          "base_uri": "https://localhost:8080/",
          "height": 282
        },
        "id": "yuY0a6jax1BC",
        "outputId": "d9c7dff8-c2f4-427a-8bb4-45cdf0e1cdba"
      },
      "outputs": [
        {
          "data": {
            "text/plain": [
              "<matplotlib.collections.PathCollection at 0x7f3d3d995ed0>"
            ]
          },
          "execution_count": 46,
          "metadata": {},
          "output_type": "execute_result"
        },
        {
          "data": {
            "image/png": "[encoded data removed]",
            "text/plain": [
              "<Figure size 640x480 with 1 Axes>"
            ]
          },
          "metadata": {},
          "output_type": "display_data"
        }
      ],
      "source": [
        "plt.scatter(x=np.log(param_range),y=test_lsc_mean)"
      ]
    },
    {
      "cell_type": "code",
      "execution_count": 47,
      "metadata": {
        "colab": {
          "base_uri": "https://localhost:8080/"
        },
        "id": "FcDj_081yGdk",
        "outputId": "e563f857-e650-45a9-8d9e-07e6836def04"
      },
      "outputs": [
        {
          "data": {
            "text/plain": [
              "(array([44]),)"
            ]
          },
          "execution_count": 47,
          "metadata": {},
          "output_type": "execute_result"
        }
      ],
      "source": [
        "np.where(test_lsc_mean==max(test_lsc_mean))"
      ]
    },
    {
      "cell_type": "code",
      "execution_count": 48,
      "metadata": {
        "colab": {
          "base_uri": "https://localhost:8080/"
        },
        "id": "GuteM--cyXYt",
        "outputId": "e1cbef96-fac6-44a3-f9dc-7f39aba493f5"
      },
      "outputs": [
        {
          "data": {
            "text/plain": [
              "278.2559402207126"
            ]
          },
          "execution_count": 48,
          "metadata": {},
          "output_type": "execute_result"
        }
      ],
      "source": [
        "param_range[44]"
      ]
    },
    {
      "cell_type": "code",
      "execution_count": 57,
      "metadata": {
        "colab": {
          "base_uri": "https://localhost:8080/"
        },
        "id": "lN5JLgUnybJM",
        "outputId": "44f6a3f2-a4b7-4033-ae6d-0b9e3dc0c8c5"
      },
      "outputs": [
        {
          "data": {
            "text/html": [
              "<style>#sk-container-id-4 {color: black;background-color: white;}#sk-container-id-4 pre{padding: 0;}#sk-container-id-4 div.sk-toggleable {background-color: white;}#sk-container-id-4 label.sk-toggleable__label {cursor: pointer;display: block;width: 100%;margin-bottom: 0;padding: 0.3em;box-sizing: border-box;text-align: center;}#sk-container-id-4 label.sk-toggleable__label-arrow:before {content: \"▸\";float: left;margin-right: 0.25em;color: #696969;}#sk-container-id-4 label.sk-toggleable__label-arrow:hover:before {color: black;}#sk-container-id-4 div.sk-estimator:hover label.sk-toggleable__label-arrow:before {color: black;}#sk-container-id-4 div.sk-toggleable__content {max-height: 0;max-width: 0;overflow: hidden;text-align: left;background-color: #f0f8ff;}#sk-container-id-4 div.sk-toggleable__content pre {margin: 0.2em;color: black;border-radius: 0.25em;background-color: #f0f8ff;}#sk-container-id-4 input.sk-toggleable__control:checked~div.sk-toggleable__content {max-height: 200px;max-width: 100%;overflow: auto;}#sk-container-id-4 input.sk-toggleable__control:checked~label.sk-toggleable__label-arrow:before {content: \"▾\";}#sk-container-id-4 div.sk-estimator input.sk-toggleable__control:checked~label.sk-toggleable__label {background-color: #d4ebff;}#sk-container-id-4 div.sk-label input.sk-toggleable__control:checked~label.sk-toggleable__label {background-color: #d4ebff;}#sk-container-id-4 input.sk-hidden--visually {border: 0;clip: rect(1px 1px 1px 1px);clip: rect(1px, 1px, 1px, 1px);height: 1px;margin: -1px;overflow: hidden;padding: 0;position: absolute;width: 1px;}#sk-container-id-4 div.sk-estimator {font-family: monospace;background-color: #f0f8ff;border: 1px dotted black;border-radius: 0.25em;box-sizing: border-box;margin-bottom: 0.5em;}#sk-container-id-4 div.sk-estimator:hover {background-color: #d4ebff;}#sk-container-id-4 div.sk-parallel-item::after {content: \"\";width: 100%;border-bottom: 1px solid gray;flex-grow: 1;}#sk-container-id-4 div.sk-label:hover label.sk-toggleable__label {background-color: #d4ebff;}#sk-container-id-4 div.sk-serial::before {content: \"\";position: absolute;border-left: 1px solid gray;box-sizing: border-box;top: 0;bottom: 0;left: 50%;z-index: 0;}#sk-container-id-4 div.sk-serial {display: flex;flex-direction: column;align-items: center;background-color: white;padding-right: 0.2em;padding-left: 0.2em;position: relative;}#sk-container-id-4 div.sk-item {position: relative;z-index: 1;}#sk-container-id-4 div.sk-parallel {display: flex;align-items: stretch;justify-content: center;background-color: white;position: relative;}#sk-container-id-4 div.sk-item::before, #sk-container-id-4 div.sk-parallel-item::before {content: \"\";position: absolute;border-left: 1px solid gray;box-sizing: border-box;top: 0;bottom: 0;left: 50%;z-index: -1;}#sk-container-id-4 div.sk-parallel-item {display: flex;flex-direction: column;z-index: 1;position: relative;background-color: white;}#sk-container-id-4 div.sk-parallel-item:first-child::after {align-self: flex-end;width: 50%;}#sk-container-id-4 div.sk-parallel-item:last-child::after {align-self: flex-start;width: 50%;}#sk-container-id-4 div.sk-parallel-item:only-child::after {width: 0;}#sk-container-id-4 div.sk-dashed-wrapped {border: 1px dashed gray;margin: 0 0.4em 0.5em 0.4em;box-sizing: border-box;padding-bottom: 0.4em;background-color: white;}#sk-container-id-4 div.sk-label label {font-family: monospace;font-weight: bold;display: inline-block;line-height: 1.2em;}#sk-container-id-4 div.sk-label-container {text-align: center;}#sk-container-id-4 div.sk-container {/* jupyter's `normalize.less` sets `[hidden] { display: none; }` but bootstrap.min.css set `[hidden] { display: none !important; }` so we also need the `!important` here to be able to override the default hidden behavior on the sphinx rendered scikit-learn.org. See: https://github.com/scikit-learn/scikit-learn/issues/21755 */display: inline-block !important;position: relative;}#sk-container-id-4 div.sk-text-repr-fallback {display: none;}</style><div id=\"sk-container-id-4\" class=\"sk-top-container\"><div class=\"sk-text-repr-fallback\"><pre>Lasso(alpha=278.2559402207126)</pre><b>In a Jupyter environment, please rerun this cell to show the HTML representation or trust the notebook. <br />On GitHub, the HTML representation is unable to render, please try loading this page with nbviewer.org.</b></div><div class=\"sk-container\" hidden><div class=\"sk-item\"><div class=\"sk-estimator sk-toggleable\"><input class=\"sk-toggleable__control sk-hidden--visually\" id=\"sk-estimator-id-4\" type=\"checkbox\" checked><label for=\"sk-estimator-id-4\" class=\"sk-toggleable__label sk-toggleable__label-arrow\">Lasso</label><div class=\"sk-toggleable__content\"><pre>Lasso(alpha=278.2559402207126)</pre></div></div></div></div></div>"
            ],
            "text/plain": [
              "Lasso(alpha=278.2559402207126)"
            ]
          },
          "execution_count": 57,
          "metadata": {},
          "output_type": "execute_result"
        }
      ],
      "source": [
        "#model training using Lasso\n",
        "ls_best=Lasso(alpha=param_range[44])\n",
        "ls_best.fit(x_train_s,y_train)"
      ]
    },
    {
      "cell_type": "code",
      "execution_count": 50,
      "metadata": {
        "colab": {
          "base_uri": "https://localhost:8080/"
        },
        "id": "isafvVTxrrQ_",
        "outputId": "75642aa9-ffe2-4bf5-e0b7-cff392a8ceb8"
      },
      "outputs": [
        {
          "data": {
            "text/plain": [
              "0.6369803779229701"
            ]
          },
          "execution_count": 50,
          "metadata": {},
          "output_type": "execute_result"
        }
      ],
      "source": [
        "#model testing/prediction\n",
        "r2_score(y_test,ls_best.predict(x_test_s))"
      ]
    },
    {
      "cell_type": "code",
      "execution_count": 51,
      "metadata": {
        "colab": {
          "base_uri": "https://localhost:8080/"
        },
        "id": "_m5Pq82iy1fj",
        "outputId": "849cea56-6776-4a05-86c5-14912ceb8c76"
      },
      "outputs": [
        {
          "data": {
            "text/plain": [
              "0.6923236555033697"
            ]
          },
          "execution_count": 51,
          "metadata": {},
          "output_type": "execute_result"
        }
      ],
      "source": [
        "r2_score(y_train,ls_best.predict(x_train_s))"
      ]
    },
    {
      "cell_type": "code",
      "execution_count": 52,
      "metadata": {},
      "outputs": [],
      "source": [
        "import pickle\n",
        "pickle.dump(lr,open('lr.pk1','wb'))"
      ]
    },
    {
      "cell_type": "code",
      "execution_count": 53,
      "metadata": {},
      "outputs": [],
      "source": [
        "model=pickle.load(open('lr.pk1','rb'))"
      ]
    },
    {
      "cell_type": "code",
      "execution_count": 56,
      "metadata": {},
      "outputs": [
        {
          "name": "stdout",
          "output_type": "stream",
          "text": [
            "[5574887.56268958]\n"
          ]
        },
        {
          "name": "stderr",
          "output_type": "stream",
          "text": [
            "/home/srinithisl/.local/lib/python3.10/site-packages/sklearn/base.py:439: UserWarning: X does not have valid feature names, but LinearRegression was fitted with feature names\n",
            "  warnings.warn(\n"
          ]
        }
      ],
      "source": [
        "print(model.predict([[20,59,0.5,65000,160,8,7,7,7,7,116,280,390048,116,280,0,42,494,1]]))"
      ]
    }
  ],
  "metadata": {
    "colab": {
      "collapsed_sections": [],
      "name": "movie_collection.ipynb",
      "provenance": []
    },
    "kernelspec": {
      "display_name": "ml",
      "language": "python",
      "name": "ml"
    },
    "language_info": {
      "codemirror_mode": {
        "name": "ipython",
        "version": 3
      },
      "file_extension": ".py",
      "mimetype": "text/x-python",
      "name": "python",
      "nbconvert_exporter": "python",
      "pygments_lexer": "ipython3",
      "version": "3.10.6"
    }
  },
  "nbformat": 4,
  "nbformat_minor": 0
}
